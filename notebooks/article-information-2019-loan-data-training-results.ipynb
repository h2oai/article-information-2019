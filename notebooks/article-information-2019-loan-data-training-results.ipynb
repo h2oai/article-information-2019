{
 "cells": [
  {
   "cell_type": "markdown",
   "metadata": {},
   "source": [
    "# License\n",
    "\n",
    "Copyright 2019 Navdeep Gill, Patrick Hall, Kim Montgomery, Nick Schmidt\n",
    "\n",
    "Licensed under the Apache License, Version 2.0 (the \"License\"); you may not use this file except in compliance with the License. You may obtain a copy of the License at\n",
    "\n",
    "http://www.apache.org/licenses/LICENSE-2.0\n",
    "\n",
    "Unless required by applicable law or agreed to in writing, software distributed under the License is distributed on an \"AS IS\" BASIS, WITHOUT WARRANTIES OR CONDITIONS OF ANY KIND, either express or implied. See the License for the specific language governing permissions and limitations under the License.\n",
    "\n",
    "**DISCLAIMER**: This notebook is not legal compliance advice."
   ]
  },
  {
   "cell_type": "markdown",
   "metadata": {},
   "source": [
    "# Training and Results for Lending Data"
   ]
  },
  {
   "cell_type": "code",
   "execution_count": 1,
   "metadata": {},
   "outputs": [],
   "source": [
    "import datatable as dt\n",
    "import os"
   ]
  },
  {
   "cell_type": "markdown",
   "metadata": {},
   "source": [
    "## Load data"
   ]
  },
  {
   "cell_type": "code",
   "execution_count": 2,
   "metadata": {},
   "outputs": [],
   "source": [
    "train_path = os.sep.join(['..', 'data', 'output', 'hmda_train.csv'])\n",
    "train = dt.fread(train_path)\n",
    "\n",
    "test_path = os.sep.join(['..', 'data', 'output', 'hmda_test.csv'])\n",
    "test = dt.fread(test_path)"
   ]
  },
  {
   "cell_type": "code",
   "execution_count": 3,
   "metadata": {},
   "outputs": [
    {
     "data": {
      "text/html": [
       "<style type='text/css'>\n",
       ".datatable table.frame { margin-bottom: 0; }\n",
       ".datatable table.frame thead { border-bottom: none; }\n",
       ".datatable table.frame tr.coltypes td {  color: #FFFFFF;  line-height: 6px;  padding: 0 0.5em;}\n",
       ".datatable .bool { background: #DDDD99; }\n",
       ".datatable .obj  { background: #565656; }\n",
       ".datatable .int  { background: #5D9E5D; }\n",
       ".datatable .real { background: #4040CC; }\n",
       ".datatable .str  { background: #CC4040; }\n",
       ".datatable .row_index {  background: var(--jp-border-color3);  border-right: 1px solid var(--jp-border-color0);  color: var(--jp-ui-font-color3);  font-size: 9px;}\n",
       ".datatable .frame tr.coltypes .row_index {  background: var(--jp-border-color0);}\n",
       ".datatable th:nth-child(2) { padding-left: 12px; }\n",
       ".datatable .hellipsis {  color: var(--jp-cell-editor-border-color);}\n",
       ".datatable .vellipsis {  background: var(--jp-layout-color0);  color: var(--jp-cell-editor-border-color);}\n",
       ".datatable .na {  color: var(--jp-cell-editor-border-color);  font-size: 80%;}\n",
       ".datatable .footer { font-size: 9px; }\n",
       ".datatable .frame_dimensions {  background: var(--jp-border-color3);  border-top: 1px solid var(--jp-border-color0);  color: var(--jp-ui-font-color3);  display: inline-block;  opacity: 0.6;  padding: 1px 10px 1px 5px;}\n",
       "</style>\n",
       "<div class='datatable'>\n",
       "  <table class='frame'>\n",
       "  <thead>\n",
       "    <tr class='colnames'><td class='row_index'></td><th>derived_loan_product_type</th><th>derived_ethnicity</th><th>derived_race</th><th>derived_sex</th><th>loan_purpose</th><th>loan_purpose_desc</th><th>reverse_mortgage</th><th>reverse_mortgage_desc</th><th>loan_amount</th><th>loan_to_value_ratio</th><th class='vellipsis'>&hellip;</th><th>applicant_age</th><th>co_applicant_age</th><th>applicant_age_above_62</th><th>co_applicant_age_above_62</th><th>cv_fold</th></tr>\n",
       "    <tr class='coltypes'><td class='row_index'></td><td class='str' title='str32'>&#x25AA;&#x25AA;&#x25AA;&#x25AA;</td><td class='str' title='str32'>&#x25AA;&#x25AA;&#x25AA;&#x25AA;</td><td class='str' title='str32'>&#x25AA;&#x25AA;&#x25AA;&#x25AA;</td><td class='str' title='str32'>&#x25AA;&#x25AA;&#x25AA;&#x25AA;</td><td class='bool' title='bool8'>&#x25AA;</td><td class='str' title='str32'>&#x25AA;&#x25AA;&#x25AA;&#x25AA;</td><td class='int' title='int32'>&#x25AA;&#x25AA;&#x25AA;&#x25AA;</td><td class='str' title='str32'>&#x25AA;&#x25AA;&#x25AA;&#x25AA;</td><td class='int' title='int32'>&#x25AA;&#x25AA;&#x25AA;&#x25AA;</td><td class='real' title='float64'>&#x25AA;&#x25AA;&#x25AA;&#x25AA;&#x25AA;&#x25AA;&#x25AA;&#x25AA;</td><td></td><td class='str' title='str32'>&#x25AA;&#x25AA;&#x25AA;&#x25AA;</td><td class='str' title='str32'>&#x25AA;&#x25AA;&#x25AA;&#x25AA;</td><td class='str' title='str32'>&#x25AA;&#x25AA;&#x25AA;&#x25AA;</td><td class='str' title='str32'>&#x25AA;&#x25AA;&#x25AA;&#x25AA;</td><td class='int' title='int32'>&#x25AA;&#x25AA;&#x25AA;&#x25AA;</td></tr>\n",
       "  </thead>\n",
       "  <tbody>\n",
       "    <tr><td class='row_index'>0</td><td>Conventional:First Lien</td><td>Not Hispanic or Latino</td><td>White</td><td>Male</td><td>1</td><td>Home purchase</td><td>2</td><td>Not a reverse mortgage</td><td>75000</td><td>95</td><td class=vellipsis>&hellip;</td><td>25-34</td><td>9999</td><td>No</td><td></td><td>3</td></tr>\n",
       "    <tr><td class='row_index'>1</td><td>Conventional:First Lien</td><td>Hispanic or Latino</td><td>White</td><td>Male</td><td>1</td><td>Home purchase</td><td>2</td><td>Not a reverse mortgage</td><td>545000</td><td>100</td><td class=vellipsis>&hellip;</td><td>35-44</td><td>9999</td><td>No</td><td></td><td>0</td></tr>\n",
       "    <tr><td class='row_index'>2</td><td>Conventional:First Lien</td><td>Ethnicity Not Available</td><td>Race Not Available</td><td>Male</td><td>1</td><td>Home purchase</td><td>2</td><td>Not a reverse mortgage</td><td>345000</td><td>68.082</td><td class=vellipsis>&hellip;</td><td>35-44</td><td>9999</td><td>No</td><td></td><td>1</td></tr>\n",
       "    <tr><td class='row_index'>3</td><td>VA:First Lien</td><td>Not Hispanic or Latino</td><td>White</td><td>Male</td><td>1</td><td>Home purchase</td><td>2</td><td>Not a reverse mortgage</td><td>265000</td><td>100</td><td class=vellipsis>&hellip;</td><td>45-54</td><td>9999</td><td>No</td><td></td><td>1</td></tr>\n",
       "    <tr><td class='row_index'>4</td><td>Conventional:First Lien</td><td>Not Hispanic or Latino</td><td>White</td><td>Male</td><td>1</td><td>Home purchase</td><td>2</td><td>Not a reverse mortgage</td><td>185000</td><td>95</td><td class=vellipsis>&hellip;</td><td>25-34</td><td>25-34</td><td>No</td><td>No</td><td>3</td></tr>\n",
       "    <tr><td class='row_index'>5</td><td>Conventional:First Lien</td><td>Not Hispanic or Latino</td><td>White</td><td>Female</td><td>1</td><td>Home purchase</td><td>2</td><td>Not a reverse mortgage</td><td>105000</td><td>95</td><td class=vellipsis>&hellip;</td><td>25-34</td><td>25-34</td><td>No</td><td>No</td><td>3</td></tr>\n",
       "    <tr><td class='row_index'>6</td><td>Conventional:First Lien</td><td>Not Hispanic or Latino</td><td>White</td><td>Joint</td><td>1</td><td>Home purchase</td><td>2</td><td>Not a reverse mortgage</td><td>315000</td><td>60</td><td class=vellipsis>&hellip;</td><td>55-64</td><td>55-64</td><td>No</td><td>No</td><td>4</td></tr>\n",
       "    <tr><td class='row_index'>7</td><td>Conventional:First Lien</td><td>Ethnicity Not Available</td><td>Race Not Available</td><td>Joint</td><td>1</td><td>Home purchase</td><td>2</td><td>Not a reverse mortgage</td><td>325000</td><td>55.036</td><td class=vellipsis>&hellip;</td><td>65-74</td><td>55-64</td><td>Yes</td><td>Yes</td><td>0</td></tr>\n",
       "    <tr><td class='row_index'>8</td><td>Conventional:First Lien</td><td>Hispanic or Latino</td><td>White</td><td>Joint</td><td>1</td><td>Home purchase</td><td>2</td><td>Not a reverse mortgage</td><td>175000</td><td>79.817</td><td class=vellipsis>&hellip;</td><td>35-44</td><td>45-54</td><td>No</td><td>No</td><td>2</td></tr>\n",
       "    <tr><td class='row_index'>9</td><td>Conventional:First Lien</td><td>Ethnicity Not Available</td><td>Race Not Available</td><td>Sex Not Available</td><td>1</td><td>Home purchase</td><td>2</td><td>Not a reverse mortgage</td><td>185000</td><td>95</td><td class=vellipsis>&hellip;</td><td>65-74</td><td>65-74</td><td>Yes</td><td>Yes</td><td>0</td></tr>\n",
       "    <tr><td class='row_index'>&#x22EE;</td><td class='hellipsis'>&#x22EE;</td><td class='hellipsis'>&#x22EE;</td><td class='hellipsis'>&#x22EE;</td><td class='hellipsis'>&#x22EE;</td><td class='hellipsis'>&#x22EE;</td><td class='hellipsis'>&#x22EE;</td><td class='hellipsis'>&#x22EE;</td><td class='hellipsis'>&#x22EE;</td><td class='hellipsis'>&#x22EE;</td><td class='hellipsis'>&#x22EE;</td><td class='hellipsis'>&#x22F1;</td><td class='hellipsis'>&#x22EE;</td><td class='hellipsis'>&#x22EE;</td><td class='hellipsis'>&#x22EE;</td><td class='hellipsis'>&#x22EE;</td><td class='hellipsis'>&#x22EE;</td></tr>\n",
       "    <tr><td class='row_index'>143,995</td><td>Conventional:First Lien</td><td>Not Hispanic or Latino</td><td>White</td><td>Female</td><td>1</td><td>Home purchase</td><td>2</td><td>Not a reverse mortgage</td><td>115000</td><td>97</td><td class=vellipsis>&hellip;</td><td>25-34</td><td>9999</td><td>No</td><td></td><td>4</td></tr>\n",
       "    <tr><td class='row_index'>143,996</td><td>Conventional:First Lien</td><td>Not Hispanic or Latino</td><td>White</td><td>Male</td><td>1</td><td>Home purchase</td><td>2</td><td>Not a reverse mortgage</td><td>625000</td><td>80</td><td class=vellipsis>&hellip;</td><td>65-74</td><td>9999</td><td>Yes</td><td></td><td>1</td></tr>\n",
       "    <tr><td class='row_index'>143,997</td><td>Conventional:First Lien</td><td>Not Hispanic or Latino</td><td>White</td><td>Joint</td><td>1</td><td>Home purchase</td><td>2</td><td>Not a reverse mortgage</td><td>375000</td><td>80</td><td class=vellipsis>&hellip;</td><td>25-34</td><td>25-34</td><td>No</td><td>No</td><td>0</td></tr>\n",
       "    <tr><td class='row_index'>143,998</td><td>VA:First Lien</td><td>Not Hispanic or Latino</td><td>White</td><td>Female</td><td>1</td><td>Home purchase</td><td>2</td><td>Not a reverse mortgage</td><td>225000</td><td><span class=na>NA</span></td><td class=vellipsis>&hellip;</td><td>35-44</td><td>9999</td><td>No</td><td></td><td>0</td></tr>\n",
       "    <tr><td class='row_index'>143,999</td><td>Conventional:First Lien</td><td>Not Hispanic or Latino</td><td>White</td><td>Joint</td><td>1</td><td>Home purchase</td><td>2</td><td>Not a reverse mortgage</td><td>185000</td><td>81</td><td class=vellipsis>&hellip;</td><td>25-34</td><td>25-34</td><td>No</td><td>No</td><td>4</td></tr>\n",
       "  </tbody>\n",
       "  </table>\n",
       "  <div class='footer'>\n",
       "    <div class='frame_dimensions'>144,000 rows &times; 34 columns</div>\n",
       "  </div>\n",
       "</div>\n"
      ],
      "text/plain": []
     },
     "execution_count": 3,
     "metadata": {},
     "output_type": "execute_result"
    }
   ],
   "source": [
    "train"
   ]
  },
  {
   "cell_type": "code",
   "execution_count": 4,
   "metadata": {},
   "outputs": [
    {
     "data": {
      "text/html": [
       "<div class='datatable'>\n",
       "  <table class='frame'>\n",
       "  <thead>\n",
       "    <tr class='colnames'><td class='row_index'></td><th>derived_loan_product_type</th><th>derived_ethnicity</th><th>derived_race</th><th>derived_sex</th><th>loan_purpose</th><th>loan_purpose_desc</th><th>reverse_mortgage</th><th>reverse_mortgage_desc</th><th>loan_amount</th><th>loan_to_value_ratio</th><th class='vellipsis'>&hellip;</th><th>co_applicant_credit_score_type_desc</th><th>applicant_age</th><th>co_applicant_age</th><th>applicant_age_above_62</th><th>co_applicant_age_above_62</th></tr>\n",
       "    <tr class='coltypes'><td class='row_index'></td><td class='str' title='str32'>&#x25AA;&#x25AA;&#x25AA;&#x25AA;</td><td class='str' title='str32'>&#x25AA;&#x25AA;&#x25AA;&#x25AA;</td><td class='str' title='str32'>&#x25AA;&#x25AA;&#x25AA;&#x25AA;</td><td class='str' title='str32'>&#x25AA;&#x25AA;&#x25AA;&#x25AA;</td><td class='bool' title='bool8'>&#x25AA;</td><td class='str' title='str32'>&#x25AA;&#x25AA;&#x25AA;&#x25AA;</td><td class='int' title='int32'>&#x25AA;&#x25AA;&#x25AA;&#x25AA;</td><td class='str' title='str32'>&#x25AA;&#x25AA;&#x25AA;&#x25AA;</td><td class='int' title='int32'>&#x25AA;&#x25AA;&#x25AA;&#x25AA;</td><td class='real' title='float64'>&#x25AA;&#x25AA;&#x25AA;&#x25AA;&#x25AA;&#x25AA;&#x25AA;&#x25AA;</td><td></td><td class='str' title='str32'>&#x25AA;&#x25AA;&#x25AA;&#x25AA;</td><td class='str' title='str32'>&#x25AA;&#x25AA;&#x25AA;&#x25AA;</td><td class='str' title='str32'>&#x25AA;&#x25AA;&#x25AA;&#x25AA;</td><td class='str' title='str32'>&#x25AA;&#x25AA;&#x25AA;&#x25AA;</td><td class='str' title='str32'>&#x25AA;&#x25AA;&#x25AA;&#x25AA;</td></tr>\n",
       "  </thead>\n",
       "  <tbody>\n",
       "    <tr><td class='row_index'>0</td><td>VA:First Lien</td><td>Not Hispanic or Latino</td><td>Black or African American</td><td>Sex Not Available</td><td>1</td><td>Home purchase</td><td>2</td><td>Not a reverse mortgage</td><td>235000</td><td>100</td><td class=vellipsis>&hellip;</td><td>No co-applicant</td><td>45-54</td><td>9999</td><td>No</td><td></td></tr>\n",
       "    <tr><td class='row_index'>1</td><td>VA:First Lien</td><td>Ethnicity Not Available</td><td>Race Not Available</td><td>Male</td><td>1</td><td>Home purchase</td><td>2</td><td>Not a reverse mortgage</td><td>155000</td><td>100</td><td class=vellipsis>&hellip;</td><td>No co-applicant</td><td>25-34</td><td>9999</td><td>No</td><td></td></tr>\n",
       "    <tr><td class='row_index'>2</td><td>Conventional:First Lien</td><td>Ethnicity Not Available</td><td>White</td><td>Male</td><td>1</td><td>Home purchase</td><td>2</td><td>Not a reverse mortgage</td><td>255000</td><td>80</td><td class=vellipsis>&hellip;</td><td>No co-applicant</td><td>45-54</td><td>9999</td><td>No</td><td></td></tr>\n",
       "    <tr><td class='row_index'>3</td><td>Conventional:First Lien</td><td>Not Hispanic or Latino</td><td>White</td><td>Joint</td><td>1</td><td>Home purchase</td><td>2</td><td>Not a reverse mortgage</td><td>355000</td><td>95</td><td class=vellipsis>&hellip;</td><td>Not applicable</td><td>45-54</td><td>45-54</td><td>No</td><td>No</td></tr>\n",
       "    <tr><td class='row_index'>4</td><td>FHA:First Lien</td><td>Not Hispanic or Latino</td><td>White</td><td>Joint</td><td>1</td><td>Home purchase</td><td>2</td><td>Not a reverse mortgage</td><td>165000</td><td>96.5</td><td class=vellipsis>&hellip;</td><td>Not applicable</td><td>35-44</td><td>35-44</td><td>No</td><td>No</td></tr>\n",
       "    <tr><td class='row_index'>5</td><td>Conventional:First Lien</td><td>Not Hispanic or Latino</td><td>White</td><td>Joint</td><td>1</td><td>Home purchase</td><td>2</td><td>Not a reverse mortgage</td><td>125000</td><td>97</td><td class=vellipsis>&hellip;</td><td>Not applicable</td><td>25-34</td><td>25-34</td><td>No</td><td>No</td></tr>\n",
       "    <tr><td class='row_index'>6</td><td>Conventional:First Lien</td><td>Not Hispanic or Latino</td><td>White</td><td>Joint</td><td>1</td><td>Home purchase</td><td>2</td><td>Not a reverse mortgage</td><td>145000</td><td>85</td><td class=vellipsis>&hellip;</td><td>Other credit scoring model</td><td>25-34</td><td>25-34</td><td>No</td><td>No</td></tr>\n",
       "    <tr><td class='row_index'>7</td><td>Conventional:First Lien</td><td>Not Hispanic or Latino</td><td>Asian</td><td>Female</td><td>1</td><td>Home purchase</td><td>2</td><td>Not a reverse mortgage</td><td>685000</td><td>75</td><td class=vellipsis>&hellip;</td><td>No co-applicant</td><td>25-34</td><td>9999</td><td>No</td><td></td></tr>\n",
       "    <tr><td class='row_index'>8</td><td>VA:First Lien</td><td>Not Hispanic or Latino</td><td>White</td><td>Male</td><td>1</td><td>Home purchase</td><td>2</td><td>Not a reverse mortgage</td><td>205000</td><td>100</td><td class=vellipsis>&hellip;</td><td>No co-applicant</td><td>35-44</td><td>9999</td><td>No</td><td></td></tr>\n",
       "    <tr><td class='row_index'>9</td><td>Conventional:First Lien</td><td>Not Hispanic or Latino</td><td>White</td><td>Male</td><td>1</td><td>Home purchase</td><td>2</td><td>Not a reverse mortgage</td><td>65000</td><td>95</td><td class=vellipsis>&hellip;</td><td>No co-applicant</td><td>45-54</td><td>9999</td><td>No</td><td></td></tr>\n",
       "    <tr><td class='row_index'>&#x22EE;</td><td class='hellipsis'>&#x22EE;</td><td class='hellipsis'>&#x22EE;</td><td class='hellipsis'>&#x22EE;</td><td class='hellipsis'>&#x22EE;</td><td class='hellipsis'>&#x22EE;</td><td class='hellipsis'>&#x22EE;</td><td class='hellipsis'>&#x22EE;</td><td class='hellipsis'>&#x22EE;</td><td class='hellipsis'>&#x22EE;</td><td class='hellipsis'>&#x22EE;</td><td class='hellipsis'>&#x22F1;</td><td class='hellipsis'>&#x22EE;</td><td class='hellipsis'>&#x22EE;</td><td class='hellipsis'>&#x22EE;</td><td class='hellipsis'>&#x22EE;</td><td class='hellipsis'>&#x22EE;</td></tr>\n",
       "    <tr><td class='row_index'>35,995</td><td>Conventional:First Lien</td><td>Not Hispanic or Latino</td><td>Joint</td><td>Joint</td><td>1</td><td>Home purchase</td><td>2</td><td>Not a reverse mortgage</td><td>205000</td><td>69.24</td><td class=vellipsis>&hellip;</td><td>Not applicable</td><td>65-74</td><td>65-74</td><td>Yes</td><td>Yes</td></tr>\n",
       "    <tr><td class='row_index'>35,996</td><td>FHA:First Lien</td><td>Hispanic or Latino</td><td>White</td><td>Joint</td><td>1</td><td>Home purchase</td><td>2</td><td>Not a reverse mortgage</td><td>415000</td><td>96.5</td><td class=vellipsis>&hellip;</td><td>Not applicable</td><td>45-54</td><td>35-44</td><td>No</td><td>No</td></tr>\n",
       "    <tr><td class='row_index'>35,997</td><td>VA:First Lien</td><td>Joint</td><td>Race Not Available</td><td>Joint</td><td>1</td><td>Home purchase</td><td>2</td><td>Not a reverse mortgage</td><td>245000</td><td>100</td><td class=vellipsis>&hellip;</td><td>Not applicable</td><td>35-44</td><td>35-44</td><td>No</td><td>No</td></tr>\n",
       "    <tr><td class='row_index'>35,998</td><td>FHA:First Lien</td><td>Not Hispanic or Latino</td><td>White</td><td>Male</td><td>1</td><td>Home purchase</td><td>2</td><td>Not a reverse mortgage</td><td>235000</td><td>98.18</td><td class=vellipsis>&hellip;</td><td>No co-applicant</td><td>35-44</td><td>9999</td><td>No</td><td></td></tr>\n",
       "    <tr><td class='row_index'>35,999</td><td>Conventional:First Lien</td><td>Not Hispanic or Latino</td><td>White</td><td>Joint</td><td>1</td><td>Home purchase</td><td>2</td><td>Not a reverse mortgage</td><td>435000</td><td>95</td><td class=vellipsis>&hellip;</td><td>Equifax Beacon 5.0</td><td>&lt;25</td><td>&lt;25</td><td>No</td><td>No</td></tr>\n",
       "  </tbody>\n",
       "  </table>\n",
       "  <div class='footer'>\n",
       "    <div class='frame_dimensions'>36,000 rows &times; 33 columns</div>\n",
       "  </div>\n",
       "</div>\n"
      ],
      "text/plain": []
     },
     "execution_count": 4,
     "metadata": {},
     "output_type": "execute_result"
    }
   ],
   "source": [
    "test"
   ]
  },
  {
   "cell_type": "markdown",
   "metadata": {},
   "source": [
    "## Train Standard Multilayer Perceptron Network "
   ]
  },
  {
   "cell_type": "markdown",
   "metadata": {},
   "source": [
    "## Train Explainable Neural Network"
   ]
  },
  {
   "cell_type": "markdown",
   "metadata": {},
   "source": [
    "## Train Standard Gradient Boosting Machine"
   ]
  },
  {
   "cell_type": "markdown",
   "metadata": {},
   "source": [
    "## Train Monotonically Constrained Gradient Boosting Machine"
   ]
  },
  {
   "cell_type": "markdown",
   "metadata": {},
   "source": [
    "## Assess Accuracy of Trained Models"
   ]
  },
  {
   "cell_type": "markdown",
   "metadata": {},
   "source": [
    "## Post-hoc Explanation for Explainable Neural Network"
   ]
  },
  {
   "cell_type": "markdown",
   "metadata": {},
   "source": [
    "## Post-hoc Explanation for Monotonically Constrained Gradient Boosting Machine"
   ]
  },
  {
   "cell_type": "markdown",
   "metadata": {},
   "source": [
    "## Unwanted Social Bias Testing for Explainable Neural Network"
   ]
  },
  {
   "cell_type": "markdown",
   "metadata": {},
   "source": [
    "## Unwanted Social Bias Testing for Monotonically Constrained Gradient Boosting Machine"
   ]
  }
 ],
 "metadata": {
  "kernelspec": {
   "display_name": "Python 3",
   "language": "python",
   "name": "python3"
  },
  "language_info": {
   "codemirror_mode": {
    "name": "ipython",
    "version": 3
   },
   "file_extension": ".py",
   "mimetype": "text/x-python",
   "name": "python",
   "nbconvert_exporter": "python",
   "pygments_lexer": "ipython3",
   "version": "3.6.4"
  }
 },
 "nbformat": 4,
 "nbformat_minor": 2
}
