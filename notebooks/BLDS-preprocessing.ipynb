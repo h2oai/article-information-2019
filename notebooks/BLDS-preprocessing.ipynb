{
 "cells": [
  {
   "cell_type": "code",
   "execution_count": 18,
   "metadata": {},
   "outputs": [],
   "source": [
    "\"\"\"\n",
    "Load the training and test data\n",
    "\"\"\"\n",
    "\n",
    "import pandas as pd\n",
    "import numpy as np\n",
    "from sklearn.preprocessing import OneHotEncoder, LabelEncoder\n",
    "\n",
    "# Specify data and output directories\n",
    "main ='~/article-information-2019/data/output/'\n",
    "output = '~/article-information-2019/data/xnn_output/'\n",
    "\n",
    "# Specify filenames\n",
    "train_filename = 'hmda_train.csv'\n",
    "test_filename = 'hmda_test.csv'\n",
    "\n",
    "# Load data\n",
    "TRAIN = pd.read_csv(main + train_filename)\n",
    "TEST = pd.read_csv(main + test_filename)\n",
    "\n",
    "\n",
    "training_columns = list(TRAIN.columns)\n",
    "target_column = 'high_priced'"
   ]
  },
  {
   "cell_type": "code",
   "execution_count": 19,
   "metadata": {},
   "outputs": [],
   "source": [
    "# Change debt_to_income_ratio to an integer\n",
    "\n",
    "import numpy as np\n",
    "import statistics \n",
    "\n",
    "def transform_debt_to_income_ratio(x):\n",
    "    answer = x\n",
    "    if x=='30%-<36%':\n",
    "        answer = 33   \n",
    "    elif x=='20%-<30%':   \n",
    "        answer = 25\n",
    "    elif x=='50%-60%': \n",
    "        answer = 55\n",
    "    elif x=='<20%': \n",
    "        answer = 10\n",
    "    elif x=='>60%': \n",
    "        answer = 80\n",
    "    else:\n",
    "        try:\n",
    "            x_int = int(x)\n",
    "            answer = x_int\n",
    "        except:\n",
    "            pass\n",
    "        \n",
    "    return answer\n",
    "\n",
    "def isnan(x):\n",
    "    return np.isnan(x)\n",
    "        \n",
    "def replace_nan(x, med):\n",
    "    answer = x\n",
    "    if np.isnan(x):\n",
    "        answer = med\n",
    "    return answer\n",
    "\n",
    "# Change the debt to income ratio to a float column\n",
    "TRAIN[\"debt_to_income_ratio\"] = TRAIN[\"debt_to_income_ratio\"].apply(transform_debt_to_income_ratio)\n",
    "TEST[\"debt_to_income_ratio\"] = TEST[\"debt_to_income_ratio\"].apply(transform_debt_to_income_ratio)\n",
    "\n",
    "# Create a flag for missing values\n",
    "median = statistics.median(TRAIN[\"debt_to_income_ratio\"])\n",
    "TRAIN[\"debt_to_income_ratio_missing\"] = TRAIN[\"debt_to_income_ratio\"].apply(isnan)\n",
    "TEST[\"debt_to_income_ratio_missing\"] = TEST[\"debt_to_income_ratio\"].apply(isnan)\n",
    "\n",
    "# Replace missing with median\n",
    "TRAIN[\"debt_to_income_ratio\"] = TRAIN[\"debt_to_income_ratio\"].apply(lambda x: replace_nan(x, median))\n",
    "TEST[\"debt_to_income_ratio\"] = TEST[\"debt_to_income_ratio\"].apply(lambda x: replace_nan(x, median))\n"
   ]
  },
  {
   "cell_type": "code",
   "execution_count": 20,
   "metadata": {},
   "outputs": [],
   "source": [
    "# Standardize some of the features\n",
    "\n",
    "from sklearn.preprocessing import StandardScaler\n",
    "\n",
    "features = [\"loan_amount\", \"loan_to_value_ratio\", \"no_intro_rate_period\"]\n",
    "features += [\"intro_rate_period\", \"property_value\", \"income\"]\n",
    "features += [\"debt_to_income_ratio\"] \n",
    "            \n",
    "            \n",
    "scaler = StandardScaler()\n",
    "scaler.fit(TRAIN[features])\n",
    "std_features_TRAIN = pd.DataFrame(scaler.transform(TRAIN[features]), columns=[item + \"_std\" for item in features])\n",
    "std_features_TEST = pd.DataFrame(scaler.transform(TEST[features]), columns=[item + \"_std\" for item in features])\n",
    "\n",
    "TRAIN = pd.concat([TRAIN, std_features_TRAIN], axis=1)\n",
    "TEST = pd.concat([TEST, std_features_TEST], axis=1)\n",
    "\n",
    "TRAIN = TRAIN.drop(features, axis=1)\n",
    "TEST = TEST.drop(features, axis=1)"
   ]
  },
  {
   "cell_type": "code",
   "execution_count": 21,
   "metadata": {},
   "outputs": [],
   "source": [
    "# Save transformed datasets\n",
    "\n",
    "TRAIN.to_csv(output+'train_transformed.csv', index=False)\n",
    "TEST.to_csv(output+'test_transformed.csv', index=False)"
   ]
  },
  {
   "cell_type": "code",
   "execution_count": null,
   "metadata": {},
   "outputs": [],
   "source": []
  },
  {
   "cell_type": "code",
   "execution_count": null,
   "metadata": {},
   "outputs": [],
   "source": []
  }
 ],
 "metadata": {
  "kernelspec": {
   "display_name": "Python 3",
   "language": "python",
   "name": "python3"
  },
  "language_info": {
   "codemirror_mode": {
    "name": "ipython",
    "version": 3
   },
   "file_extension": ".py",
   "mimetype": "text/x-python",
   "name": "python",
   "nbconvert_exporter": "python",
   "pygments_lexer": "ipython3",
   "version": "3.5.2"
  }
 },
 "nbformat": 4,
 "nbformat_minor": 2
}
