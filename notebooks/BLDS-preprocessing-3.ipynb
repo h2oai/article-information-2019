{
 "cells": [
  {
   "cell_type": "markdown",
   "metadata": {},
   "source": [
    "Load the training and test data."
   ]
  },
  {
   "cell_type": "code",
   "execution_count": 209,
   "metadata": {},
   "outputs": [],
   "source": [
    "\"\"\"\n",
    "Load the training and test data\n",
    "\"\"\"\n",
    "\n",
    "import pandas as pd\n",
    "import numpy as np\n",
    "from sklearn.preprocessing import OneHotEncoder, LabelEncoder\n",
    "\n",
    "# Specify data and output directories\n",
    "main ='/Users/kmontgomery/Documents/git/article-information-2019/data/output/'\n",
    "output = '/Users/kmontgomery/Documents/information_article/'\n",
    "#filename = 'hmda_lar_2018_orig_mtg_sample.csv'\n",
    "train_filename = 'hmda_train.csv'\n",
    "test_filename = 'hmda_test.csv'\n",
    "\n",
    "TRAIN = pd.read_csv(main + train_filename)\n",
    "TEST = pd.read_csv(main + test_filename)\n",
    "\n",
    "training_columns = list(TRAIN.columns)\n",
    "target_column = 'high_priced'"
   ]
  },
  {
   "cell_type": "code",
   "execution_count": 211,
   "metadata": {},
   "outputs": [],
   "source": [
    "\"\"\"\n",
    "List columns with missing values.\n",
    "\"\"\"\n",
    "\n",
    "missing_value_columns = [\"loan_to_value_ratio\",  \"discount_points\", \"lender_credits\"]\n",
    "missing_value_columns += [\"loan_term\", \"prepayment_penalty_term\", \"intro_rate_period\"]\n",
    "missing_value_columns += [\"property_value\", \"income\", \"debt_to_income_ratio\"]\n",
    "missing_value_columns += [\"loan_to_value_ratio\", \"discount_points\", \"lender_credits\", \"loan_term\"]\n",
    "missing_value_columns += [\"prepayment_penalty_term\", \"intro_rate_period\", \"property_value\", \"income\"]\n",
    "missing_value_columns += [\"debt_to_income_ratio\"]"
   ]
  },
  {
   "cell_type": "code",
   "execution_count": 212,
   "metadata": {},
   "outputs": [],
   "source": [
    "\"\"\"\n",
    "Flag missing columns\n",
    "\"\"\"\n",
    "\n",
    "def is_missing(x):\n",
    "    return int(np.isnan(x))\n"
   ]
  },
  {
   "cell_type": "code",
   "execution_count": 213,
   "metadata": {},
   "outputs": [],
   "source": [
    "\"\"\"\n",
    "Fill in missing values and create missing values.\n",
    "\"\"\"\n",
    "\n",
    "for col in missing_value_columns:\n",
    "    TRAIN[col + '_is_missing'] = TRAIN[col].isnull().apply(int)\n",
    "    TRAIN[col] = TRAIN[col].fillna(-1)\n",
    "    TEST[col + '_is_missing'] = TEST[col].isnull().apply(int)\n",
    "    TEST[col] =  TEST[col].fillna(-1)    \n",
    "      "
   ]
  },
  {
   "cell_type": "code",
   "execution_count": 214,
   "metadata": {},
   "outputs": [],
   "source": [
    "# List of columns to drop\n",
    "drop_columns = [\"loan_purpose\",  \"loan_purpose_desc\", \"reverse_mortgage_desc\", \"negative_amortization_desc\", \"interest_only_payment_desc\" ]\n",
    "drop_columns += [\"balloon_payment_desc\", \"applicant_credit_score_type_desc\", \"co_applicant_credit_score_type_desc\"]"
   ]
  },
  {
   "cell_type": "code",
   "execution_count": 215,
   "metadata": {},
   "outputs": [],
   "source": [
    "# List of protected columns\n",
    "protected_columns = [\"derived_ethnicity\", \"derived_race\", \"derived_sex\"]"
   ]
  },
  {
   "cell_type": "code",
   "execution_count": 216,
   "metadata": {},
   "outputs": [],
   "source": [
    "# List of columns to be target encoded\n",
    "\n",
    "target_encoded = []"
   ]
  },
  {
   "cell_type": "code",
   "execution_count": 217,
   "metadata": {},
   "outputs": [
    {
     "data": {
      "text/plain": [
       "'\\none_hot = [\"conforming_loan_limit\", \"conforming_loan_limit_desc\", \\n           \"derived_loan_product_type\", \"derived_dwelling_category\", \"action_taken\"]\\none_hot += [\"action_taken_desc\", \"purchaser_type\", \"purchaser_type_desc\", \"preapproval\", \\n            \"preapproval_desc\", \"loan_type\", \"loan_type_desc\"]                   \\none_hot += [\"loan_purpose\", \"loan_purpose_desc\", \"lien_status\", \"lien_status_desc\", \\n            \"reverse_mortgage\", \"reverse_mortgage_desc\"] \\none_hot += [\"open_end_line_of_credit\", \"open_end_line_of_credit_desc\", \"business_or_commercial_purpose\"] \\none_hot += [\"negative_amortization\", \"negative_amortization_desc\", \"interest_only_payment\"]\\none_hot += [\\'interest_only_payment_desc\\', \\'balloon_payment\\',  \\'balloon_payment_desc\\']\\none_hot += [\\'other_nonamortizing_features\\', \\'other_nonamortizing_features_desc\\']\\none_hot += [\\'construction_method\\', \\'construction_method_desc\\', \\'occupancy_type\\']\\none_hot += [\\'multifamily_affordable_units\\', \\'debt_to_income_ratio\\']\\none_hot += [\\'applicant_credit_score_type\\', \\'applicant_credit_score_type_desc\\']\\none_hot += [\"co_applicant_credit_score_type\", \"co_applicant_credit_score_type_desc\"]\\none_hot += [\"applicant_age\", \"co_applicant_age\", \"applicant_age_above_62\"]                   \\none_hot += [\"co_applicant_age_above_62\", \"submission_of_application\", \"submission_of_application_desc\"]                          \\none_hot += [\"initially_payable_to_institution\", \"initially_payable_to_institution_desc\", \"aus_1\"]\\none_hot += [\"aus_1_desc\", \"aus_2\", \"aus_2_desc\", \"aus_3\", \"aus_3_desc\", \"aus_4\"]   \\none_hot += [\"aus_4_desc\", \"aus_5\", \"aus_5_desc\", \"denial_reason_1\", \"denial_reason_1_desc\"]\\none_hot += [\"denial_reason_2\", \"denial_reason_2_desc\", \"denial_reason_3\", \"denial_reason_3_desc\"]\\none_hot += [\"denial_reason_4\", \"denial_reason_4_desc\"] '"
      ]
     },
     "execution_count": 217,
     "metadata": {},
     "output_type": "execute_result"
    }
   ],
   "source": [
    "# List of columns to be one hot encoded\n",
    "\n",
    "one_hot = [\"derived_loan_product_type\", \"reverse_mortgage\", \"negative_amortization\"]\n",
    "one_hot += [\"interest_only_payment\", \"balloon_payment\", \"applicant_credit_score_type\"]\n",
    "one_hot += [ \"co_applicant_credit_score_type\", \"applicant_age\", \"co_applicant_age\"]\n",
    "one_hot += [\"applicant_age_above_62\", \"co_applicant_age_above_62\" ]\n",
    "one_hot += [\"derived_ethnicity\",  \"derived_race\", \"derived_sex\", \"debt_to_income_ratio\"]\n",
    "\n"
   ]
  },
  {
   "cell_type": "code",
   "execution_count": 218,
   "metadata": {},
   "outputs": [],
   "source": [
    "# Drop columns to be dropped\n",
    "TRAIN=TRAIN.drop(drop_columns, axis=1)\n",
    "TEST=TEST.drop(drop_columns, axis=1)"
   ]
  },
  {
   "cell_type": "code",
   "execution_count": 219,
   "metadata": {},
   "outputs": [],
   "source": [
    "# Optionally, drop protected columns\n",
    "# TRAIN=TRAIN.drop(protected_columns, axis=1)"
   ]
  },
  {
   "cell_type": "code",
   "execution_count": null,
   "metadata": {},
   "outputs": [],
   "source": []
  },
  {
   "cell_type": "code",
   "execution_count": 220,
   "metadata": {},
   "outputs": [
    {
     "name": "stdout",
     "output_type": "stream",
     "text": [
      "derived_loan_product_type\n",
      "reverse_mortgage\n",
      "negative_amortization\n",
      "interest_only_payment\n",
      "balloon_payment\n",
      "applicant_credit_score_type\n",
      "co_applicant_credit_score_type\n",
      "applicant_age\n",
      "co_applicant_age\n",
      "applicant_age_above_62\n",
      "co_applicant_age_above_62\n",
      "derived_ethnicity\n",
      "derived_race\n",
      "derived_sex\n",
      "debt_to_income_ratio\n"
     ]
    }
   ],
   "source": [
    "# Apply one-hot encoding\n",
    "for oh_column in one_hot:\n",
    "    print(oh_column)\n",
    "    oh_transformed_column = pd.get_dummies(TRAIN[oh_column])\n",
    "    oh_transformed_column.columns = [oh_column + '_' + str(item) for item in list(oh_transformed_column.columns)]\n",
    "    TRAIN = TRAIN.drop(oh_column, axis=1)\n",
    "    TRAIN = pd.concat([TRAIN,oh_transformed_column], axis=1)\n",
    "    \n",
    "    oh_transformed_column = pd.get_dummies(TEST[oh_column])\n",
    "    oh_transformed_column.columns = [oh_column + '_' + str(item) for item in list(oh_transformed_column.columns)]\n",
    "    TEST = TEST.drop(oh_column, axis=1)\n",
    "    TEST = pd.concat([TRAIN,oh_transformed_column], axis=1)\n",
    "    "
   ]
  },
  {
   "cell_type": "code",
   "execution_count": null,
   "metadata": {},
   "outputs": [],
   "source": []
  },
  {
   "cell_type": "code",
   "execution_count": 221,
   "metadata": {},
   "outputs": [
    {
     "name": "stderr",
     "output_type": "stream",
     "text": [
      "/Users/kmontgomery/anaconda3/lib/python3.7/site-packages/sklearn/preprocessing/data.py:645: DataConversionWarning: Data with input dtype int64, float64 were all converted to float64 by StandardScaler.\n",
      "  return self.partial_fit(X, y)\n",
      "/Users/kmontgomery/anaconda3/lib/python3.7/site-packages/ipykernel_launcher.py:9: DataConversionWarning: Data with input dtype int64, float64 were all converted to float64 by StandardScaler.\n",
      "  if __name__ == '__main__':\n",
      "/Users/kmontgomery/anaconda3/lib/python3.7/site-packages/ipykernel_launcher.py:10: DataConversionWarning: Data with input dtype int64, float64 were all converted to float64 by StandardScaler.\n",
      "  # Remove the CWD from sys.path while we load stuff.\n"
     ]
    }
   ],
   "source": [
    "from sklearn.preprocessing import StandardScaler\n",
    "\n",
    "features = [\"loan_amount\",  \"loan_to_value_ratio\", \"discount_points\",  \"lender_credits\"]\n",
    "features += [\"loan_term\",  \"prepayment_penalty_term\",  \"intro_rate_period\"]\n",
    "features += [\"property_value\", \"income\"]\n",
    "\n",
    "scaler = StandardScaler()\n",
    "scaler.fit(TRAIN[features])\n",
    "std_features_TRAIN = pd.DataFrame(scaler.transform(TRAIN[features]), columns=[item + \"_std\" for item in features])\n",
    "std_features_TEST = pd.DataFrame(scaler.transform(TEST[features]), columns=[item + \"_std\" for item in features])\n",
    "\n",
    "TRAIN = pd.concat([TRAIN, std_features_TRAIN], axis=1)\n",
    "TEST = pd.concat([TEST, std_features_TEST], axis=1)\n",
    "\n",
    "#TRAIN = TRAIN.drop(features, axis=1)\n",
    "#TEST = TEST.drop(features, axis=1)\n"
   ]
  },
  {
   "cell_type": "code",
   "execution_count": 232,
   "metadata": {},
   "outputs": [
    {
     "ename": "NameError",
     "evalue": "name 'len_TESTlen' is not defined",
     "output_type": "error",
     "traceback": [
      "\u001b[0;31m---------------------------------------------------------------------------\u001b[0m",
      "\u001b[0;31mNameError\u001b[0m                                 Traceback (most recent call last)",
      "\u001b[0;32m<ipython-input-232-3c1a94fc2c9c>\u001b[0m in \u001b[0;36m<module>\u001b[0;34m\u001b[0m\n\u001b[1;32m      3\u001b[0m \u001b[0;34m\u001b[0m\u001b[0m\n\u001b[1;32m      4\u001b[0m \u001b[0mlen_TRAIN\u001b[0m \u001b[0;34m=\u001b[0m \u001b[0mlen\u001b[0m\u001b[0;34m(\u001b[0m\u001b[0mTRAIN\u001b[0m\u001b[0;34m)\u001b[0m\u001b[0;34m\u001b[0m\u001b[0;34m\u001b[0m\u001b[0m\n\u001b[0;32m----> 5\u001b[0;31m \u001b[0mlen_TESTlen\u001b[0m\u001b[0;34m(\u001b[0m\u001b[0mTEST\u001b[0m\u001b[0;34m)\u001b[0m\u001b[0;34m\u001b[0m\u001b[0;34m\u001b[0m\u001b[0m\n\u001b[0m\u001b[1;32m      6\u001b[0m \u001b[0;34m\u001b[0m\u001b[0m\n\u001b[1;32m      7\u001b[0m \u001b[0mFULL\u001b[0m \u001b[0;34m=\u001b[0m \u001b[0mpd\u001b[0m\u001b[0;34m.\u001b[0m\u001b[0mconcat\u001b[0m\u001b[0;34m(\u001b[0m\u001b[0;34m[\u001b[0m\u001b[0mTRAIN\u001b[0m\u001b[0;34m,\u001b[0m \u001b[0mTEST\u001b[0m\u001b[0;34m]\u001b[0m\u001b[0;34m,\u001b[0m \u001b[0maxis\u001b[0m\u001b[0;34m=\u001b[0m\u001b[0;36m0\u001b[0m\u001b[0;34m)\u001b[0m\u001b[0;34m\u001b[0m\u001b[0;34m\u001b[0m\u001b[0m\n",
      "\u001b[0;31mNameError\u001b[0m: name 'len_TESTlen' is not defined"
     ]
    }
   ],
   "source": [
    "TRAIN.to_csv(output+'train_transformed.csv', index=False)\n",
    "TEST.to_csv(output+'test_transformed.csv', index=False)\n",
    "\n",
    "len_TRAIN = len(TRAIN)\n",
    "len_TESTlen(TEST)\n",
    "\n",
    "FULL = pd.concat([TRAIN, TEST], axis=0)\n",
    "FULL.to_csv(output+'full_transformed.csv', index=False)"
   ]
  },
  {
   "cell_type": "code",
   "execution_count": 223,
   "metadata": {},
   "outputs": [],
   "source": [
    "# Split into train and test file\n",
    "# Add a cv column\n",
    "import random\n",
    "\n",
    "#TEST = TRAIN.iloc[int(len(TRAIN)*.7):len(TRAIN),:].copy()\n",
    "#TRAIN = TRAIN.iloc[0:int(len(TRAIN)*.7),:].copy()\n",
    "\n",
    "#TRAIN['fold'] = random.choices(list(range(0, 5)), k=len(TRAIN))\n",
    "\n",
    "#TRAIN[target_encoded + [target_column, 'fold']].to_csv(output + \"BLDS_one_hot_DATA.csv\", index=False)\n",
    "#TEST[target_encoded + [target_column]].to_csv(output + \"BLDS_one_hot_TEST.csv\", index=False)"
   ]
  },
  {
   "cell_type": "code",
   "execution_count": 224,
   "metadata": {},
   "outputs": [],
   "source": [
    "#for enc_col in target_encoded:\n",
    "#    TRAIN[enc_col] = TRAIN[enc_col].apply(str)\n",
    "    \n",
    "#TRAIN[target_column].unique()"
   ]
  },
  {
   "cell_type": "code",
   "execution_count": 225,
   "metadata": {},
   "outputs": [
    {
     "data": {
      "text/plain": [
       "'import h2o\\nh2o.init()\\n\\nblds_DATA = h2o.upload_file(main + \"BLDS_one_hot_DATA.csv\")\\n\\nfor enc_col in target_encoded:\\n    blds_DATA[enc_col] = blds_DATA[enc_col].asfactor()\\n    \\nblds_DATA[target_column] = blds_DATA[target_column].asfactor()\\n#blds_TEST = h2o.upload_file(main + \"BLDS_one_hot_TEST.csv\")'"
      ]
     },
     "execution_count": 225,
     "metadata": {},
     "output_type": "execute_result"
    }
   ],
   "source": [
    "\"\"\"import h2o\n",
    "h2o.init()\n",
    "\n",
    "blds_DATA = h2o.upload_file(main + \"BLDS_one_hot_DATA.csv\")\n",
    "\n",
    "for enc_col in target_encoded:\n",
    "    blds_DATA[enc_col] = blds_DATA[enc_col].asfactor()\n",
    "    \n",
    "blds_DATA[target_column] = blds_DATA[target_column].asfactor()\n",
    "#blds_TEST = h2o.upload_file(main + \"BLDS_one_hot_TEST.csv\")\"\"\""
   ]
  },
  {
   "cell_type": "code",
   "execution_count": 226,
   "metadata": {},
   "outputs": [
    {
     "data": {
      "text/plain": [
       "'\\n# Fit the target encoding map\\nfrom h2o.targetencoder import TargetEncoder\\ntarget_encoder = TargetEncoder(x=target_encoded, y=target_column,\\n                               fold_column=\"fold\",\\n                               blended_avg= True,\\n                               inflection_point = 3,\\n                               smoothing = 1,\\n                               seed=1234)\\ntarget_encoder.fit(blds_DATA) '"
      ]
     },
     "execution_count": 226,
     "metadata": {},
     "output_type": "execute_result"
    }
   ],
   "source": [
    "\"\"\"\n",
    "# Fit the target encoding map\n",
    "from h2o.targetencoder import TargetEncoder\n",
    "target_encoder = TargetEncoder(x=target_encoded, y=target_column,\n",
    "                               fold_column=\"fold\",\n",
    "                               blended_avg= True,\n",
    "                               inflection_point = 3,\n",
    "                               smoothing = 1,\n",
    "                               seed=1234)\n",
    "target_encoder.fit(blds_DATA) \"\"\""
   ]
  },
  {
   "cell_type": "code",
   "execution_count": 227,
   "metadata": {},
   "outputs": [
    {
     "data": {
      "text/html": [
       "<div>\n",
       "<style scoped>\n",
       "    .dataframe tbody tr th:only-of-type {\n",
       "        vertical-align: middle;\n",
       "    }\n",
       "\n",
       "    .dataframe tbody tr th {\n",
       "        vertical-align: top;\n",
       "    }\n",
       "\n",
       "    .dataframe thead th {\n",
       "        text-align: right;\n",
       "    }\n",
       "</style>\n",
       "<table border=\"1\" class=\"dataframe\">\n",
       "  <thead>\n",
       "    <tr style=\"text-align: right;\">\n",
       "      <th></th>\n",
       "      <th>loan_amount</th>\n",
       "      <th>loan_to_value_ratio</th>\n",
       "      <th>high_priced</th>\n",
       "      <th>discount_points</th>\n",
       "      <th>lender_credits</th>\n",
       "      <th>loan_term</th>\n",
       "      <th>prepayment_penalty_term</th>\n",
       "      <th>intro_rate_period</th>\n",
       "      <th>property_value</th>\n",
       "      <th>income</th>\n",
       "      <th>...</th>\n",
       "      <th>debt_to_income_ratio_Exempt</th>\n",
       "      <th>loan_amount_std</th>\n",
       "      <th>loan_to_value_ratio_std</th>\n",
       "      <th>discount_points_std</th>\n",
       "      <th>lender_credits_std</th>\n",
       "      <th>loan_term_std</th>\n",
       "      <th>prepayment_penalty_term_std</th>\n",
       "      <th>intro_rate_period_std</th>\n",
       "      <th>property_value_std</th>\n",
       "      <th>income_std</th>\n",
       "    </tr>\n",
       "  </thead>\n",
       "  <tbody>\n",
       "    <tr>\n",
       "      <th>0</th>\n",
       "      <td>75000</td>\n",
       "      <td>95.000</td>\n",
       "      <td>0</td>\n",
       "      <td>1068.75</td>\n",
       "      <td>-1.0</td>\n",
       "      <td>360.0</td>\n",
       "      <td>-1.0</td>\n",
       "      <td>-1.0</td>\n",
       "      <td>75000.0</td>\n",
       "      <td>33.0</td>\n",
       "      <td>...</td>\n",
       "      <td>0</td>\n",
       "      <td>-0.860031</td>\n",
       "      <td>0.002212</td>\n",
       "      <td>0.359428</td>\n",
       "      <td>-0.306342</td>\n",
       "      <td>0.249762</td>\n",
       "      <td>-0.017041</td>\n",
       "      <td>-0.220705</td>\n",
       "      <td>-0.095474</td>\n",
       "      <td>-0.065176</td>\n",
       "    </tr>\n",
       "    <tr>\n",
       "      <th>1</th>\n",
       "      <td>545000</td>\n",
       "      <td>100.000</td>\n",
       "      <td>0</td>\n",
       "      <td>-1.00</td>\n",
       "      <td>-1.0</td>\n",
       "      <td>360.0</td>\n",
       "      <td>-1.0</td>\n",
       "      <td>-1.0</td>\n",
       "      <td>545000.0</td>\n",
       "      <td>298.0</td>\n",
       "      <td>...</td>\n",
       "      <td>0</td>\n",
       "      <td>1.153864</td>\n",
       "      <td>0.005063</td>\n",
       "      <td>-0.353662</td>\n",
       "      <td>-0.306342</td>\n",
       "      <td>0.249762</td>\n",
       "      <td>-0.017041</td>\n",
       "      <td>-0.220705</td>\n",
       "      <td>0.059397</td>\n",
       "      <td>0.117048</td>\n",
       "    </tr>\n",
       "    <tr>\n",
       "      <th>2</th>\n",
       "      <td>345000</td>\n",
       "      <td>68.082</td>\n",
       "      <td>0</td>\n",
       "      <td>-1.00</td>\n",
       "      <td>1735.0</td>\n",
       "      <td>360.0</td>\n",
       "      <td>-1.0</td>\n",
       "      <td>-1.0</td>\n",
       "      <td>515000.0</td>\n",
       "      <td>78.0</td>\n",
       "      <td>...</td>\n",
       "      <td>0</td>\n",
       "      <td>0.296887</td>\n",
       "      <td>-0.013136</td>\n",
       "      <td>-0.353662</td>\n",
       "      <td>1.159204</td>\n",
       "      <td>0.249762</td>\n",
       "      <td>-0.017041</td>\n",
       "      <td>-0.220705</td>\n",
       "      <td>0.049512</td>\n",
       "      <td>-0.034232</td>\n",
       "    </tr>\n",
       "  </tbody>\n",
       "</table>\n",
       "<p>3 rows × 130 columns</p>\n",
       "</div>"
      ],
      "text/plain": [
       "   loan_amount  loan_to_value_ratio  high_priced  discount_points  \\\n",
       "0        75000               95.000            0          1068.75   \n",
       "1       545000              100.000            0            -1.00   \n",
       "2       345000               68.082            0            -1.00   \n",
       "\n",
       "   lender_credits  loan_term  prepayment_penalty_term  intro_rate_period  \\\n",
       "0            -1.0      360.0                     -1.0               -1.0   \n",
       "1            -1.0      360.0                     -1.0               -1.0   \n",
       "2          1735.0      360.0                     -1.0               -1.0   \n",
       "\n",
       "   property_value  income  ...  debt_to_income_ratio_Exempt  loan_amount_std  \\\n",
       "0         75000.0    33.0  ...                            0        -0.860031   \n",
       "1        545000.0   298.0  ...                            0         1.153864   \n",
       "2        515000.0    78.0  ...                            0         0.296887   \n",
       "\n",
       "   loan_to_value_ratio_std  discount_points_std  lender_credits_std  \\\n",
       "0                 0.002212             0.359428           -0.306342   \n",
       "1                 0.005063            -0.353662           -0.306342   \n",
       "2                -0.013136            -0.353662            1.159204   \n",
       "\n",
       "   loan_term_std  prepayment_penalty_term_std  intro_rate_period_std  \\\n",
       "0       0.249762                    -0.017041              -0.220705   \n",
       "1       0.249762                    -0.017041              -0.220705   \n",
       "2       0.249762                    -0.017041              -0.220705   \n",
       "\n",
       "   property_value_std  income_std  \n",
       "0           -0.095474   -0.065176  \n",
       "1            0.059397    0.117048  \n",
       "2            0.049512   -0.034232  \n",
       "\n",
       "[3 rows x 130 columns]"
      ]
     },
     "execution_count": 227,
     "metadata": {},
     "output_type": "execute_result"
    }
   ],
   "source": [
    "TRAIN.iloc[0:3,:]\n"
   ]
  },
  {
   "cell_type": "code",
   "execution_count": 228,
   "metadata": {},
   "outputs": [
    {
     "data": {
      "text/plain": [
       "(144000, 130)"
      ]
     },
     "execution_count": 228,
     "metadata": {},
     "output_type": "execute_result"
    }
   ],
   "source": [
    "TRAIN.shape"
   ]
  },
  {
   "cell_type": "code",
   "execution_count": 229,
   "metadata": {},
   "outputs": [
    {
     "data": {
      "text/plain": [
       "['loan_amount',\n",
       " 'loan_to_value_ratio',\n",
       " 'high_priced',\n",
       " 'discount_points',\n",
       " 'lender_credits',\n",
       " 'loan_term',\n",
       " 'prepayment_penalty_term',\n",
       " 'intro_rate_period',\n",
       " 'property_value',\n",
       " 'income',\n",
       " 'cv_fold',\n",
       " 'loan_to_value_ratio_is_missing',\n",
       " 'discount_points_is_missing',\n",
       " 'lender_credits_is_missing',\n",
       " 'loan_term_is_missing',\n",
       " 'prepayment_penalty_term_is_missing',\n",
       " 'intro_rate_period_is_missing',\n",
       " 'property_value_is_missing',\n",
       " 'income_is_missing',\n",
       " 'debt_to_income_ratio_is_missing',\n",
       " 'derived_loan_product_type_Conventional:First Lien',\n",
       " 'derived_loan_product_type_Conventional:Subordinate Lien',\n",
       " 'derived_loan_product_type_FHA:First Lien',\n",
       " 'derived_loan_product_type_FHA:Subordinate Lien',\n",
       " 'derived_loan_product_type_FSA/RHS:First Lien',\n",
       " 'derived_loan_product_type_FSA/RHS:Subordinate Lien',\n",
       " 'derived_loan_product_type_VA:First Lien',\n",
       " 'derived_loan_product_type_VA:Subordinate Lien',\n",
       " 'reverse_mortgage_1',\n",
       " 'reverse_mortgage_2',\n",
       " 'reverse_mortgage_1111',\n",
       " 'negative_amortization_1',\n",
       " 'negative_amortization_2',\n",
       " 'negative_amortization_1111',\n",
       " 'interest_only_payment_1',\n",
       " 'interest_only_payment_2',\n",
       " 'interest_only_payment_1111',\n",
       " 'balloon_payment_1',\n",
       " 'balloon_payment_2',\n",
       " 'balloon_payment_1111',\n",
       " 'applicant_credit_score_type_1',\n",
       " 'applicant_credit_score_type_2',\n",
       " 'applicant_credit_score_type_3',\n",
       " 'applicant_credit_score_type_4',\n",
       " 'applicant_credit_score_type_5',\n",
       " 'applicant_credit_score_type_6',\n",
       " 'applicant_credit_score_type_7',\n",
       " 'applicant_credit_score_type_8',\n",
       " 'applicant_credit_score_type_9',\n",
       " 'applicant_credit_score_type_1111',\n",
       " 'co_applicant_credit_score_type_1',\n",
       " 'co_applicant_credit_score_type_2',\n",
       " 'co_applicant_credit_score_type_3',\n",
       " 'co_applicant_credit_score_type_4',\n",
       " 'co_applicant_credit_score_type_5',\n",
       " 'co_applicant_credit_score_type_6',\n",
       " 'co_applicant_credit_score_type_7',\n",
       " 'co_applicant_credit_score_type_8',\n",
       " 'co_applicant_credit_score_type_9',\n",
       " 'co_applicant_credit_score_type_10',\n",
       " 'co_applicant_credit_score_type_1111',\n",
       " 'applicant_age_25-34',\n",
       " 'applicant_age_35-44',\n",
       " 'applicant_age_45-54',\n",
       " 'applicant_age_55-64',\n",
       " 'applicant_age_65-74',\n",
       " 'applicant_age_8888',\n",
       " 'applicant_age_<25',\n",
       " 'applicant_age_>74',\n",
       " 'co_applicant_age_25-34',\n",
       " 'co_applicant_age_35-44',\n",
       " 'co_applicant_age_45-54',\n",
       " 'co_applicant_age_55-64',\n",
       " 'co_applicant_age_65-74',\n",
       " 'co_applicant_age_8888',\n",
       " 'co_applicant_age_9999',\n",
       " 'co_applicant_age_<25',\n",
       " 'co_applicant_age_>74',\n",
       " 'applicant_age_above_62_No',\n",
       " 'applicant_age_above_62_Yes',\n",
       " 'co_applicant_age_above_62_No',\n",
       " 'co_applicant_age_above_62_Yes',\n",
       " 'derived_ethnicity_Ethnicity Not Available',\n",
       " 'derived_ethnicity_Free Form Text Only',\n",
       " 'derived_ethnicity_Hispanic or Latino',\n",
       " 'derived_ethnicity_Joint',\n",
       " 'derived_ethnicity_Not Hispanic or Latino',\n",
       " 'derived_race_2 or more minority races',\n",
       " 'derived_race_American Indian or Alaska Native',\n",
       " 'derived_race_Asian',\n",
       " 'derived_race_Black or African American',\n",
       " 'derived_race_Free Form Text Only',\n",
       " 'derived_race_Joint',\n",
       " 'derived_race_Native Hawaiian or Other Pacific Islander',\n",
       " 'derived_race_Race Not Available',\n",
       " 'derived_race_White',\n",
       " 'derived_sex_Female',\n",
       " 'derived_sex_Joint',\n",
       " 'derived_sex_Male',\n",
       " 'derived_sex_Sex Not Available',\n",
       " 'debt_to_income_ratio_-1',\n",
       " 'debt_to_income_ratio_20%-<30%',\n",
       " 'debt_to_income_ratio_30%-<36%',\n",
       " 'debt_to_income_ratio_36',\n",
       " 'debt_to_income_ratio_37',\n",
       " 'debt_to_income_ratio_38',\n",
       " 'debt_to_income_ratio_39',\n",
       " 'debt_to_income_ratio_40',\n",
       " 'debt_to_income_ratio_41',\n",
       " 'debt_to_income_ratio_42',\n",
       " 'debt_to_income_ratio_43',\n",
       " 'debt_to_income_ratio_44',\n",
       " 'debt_to_income_ratio_45',\n",
       " 'debt_to_income_ratio_46',\n",
       " 'debt_to_income_ratio_47',\n",
       " 'debt_to_income_ratio_48',\n",
       " 'debt_to_income_ratio_49',\n",
       " 'debt_to_income_ratio_50%-60%',\n",
       " 'debt_to_income_ratio_<20%',\n",
       " 'debt_to_income_ratio_>60%',\n",
       " 'debt_to_income_ratio_Exempt',\n",
       " 'loan_amount_std',\n",
       " 'loan_to_value_ratio_std',\n",
       " 'discount_points_std',\n",
       " 'lender_credits_std',\n",
       " 'loan_term_std',\n",
       " 'prepayment_penalty_term_std',\n",
       " 'intro_rate_period_std',\n",
       " 'property_value_std',\n",
       " 'income_std']"
      ]
     },
     "execution_count": 229,
     "metadata": {},
     "output_type": "execute_result"
    }
   ],
   "source": [
    "list(TRAIN.columns)"
   ]
  },
  {
   "cell_type": "code",
   "execution_count": 230,
   "metadata": {},
   "outputs": [
    {
     "data": {
      "text/plain": [
       "0"
      ]
     },
     "execution_count": 230,
     "metadata": {},
     "output_type": "execute_result"
    }
   ],
   "source": [
    "sum(TRAIN['debt_to_income_ratio_is_missing'])"
   ]
  },
  {
   "cell_type": "code",
   "execution_count": 231,
   "metadata": {},
   "outputs": [
    {
     "data": {
      "text/plain": [
       "0     0\n",
       "1     0\n",
       "2     0\n",
       "3     0\n",
       "4     0\n",
       "5     0\n",
       "6     0\n",
       "7     0\n",
       "8     0\n",
       "9     0\n",
       "10    0\n",
       "11    0\n",
       "12    0\n",
       "13    0\n",
       "14    0\n",
       "15    0\n",
       "16    0\n",
       "17    0\n",
       "18    0\n",
       "19    0\n",
       "Name: debt_to_income_ratio_is_missing, dtype: int64"
      ]
     },
     "execution_count": 231,
     "metadata": {},
     "output_type": "execute_result"
    }
   ],
   "source": [
    "TRAIN['debt_to_income_ratio_is_missing'].iloc[0:20]"
   ]
  },
  {
   "cell_type": "code",
   "execution_count": null,
   "metadata": {},
   "outputs": [],
   "source": []
  },
  {
   "cell_type": "code",
   "execution_count": null,
   "metadata": {},
   "outputs": [],
   "source": []
  },
  {
   "cell_type": "code",
   "execution_count": null,
   "metadata": {},
   "outputs": [],
   "source": []
  }
 ],
 "metadata": {
  "kernelspec": {
   "display_name": "Python 3",
   "language": "python",
   "name": "python3"
  },
  "language_info": {
   "codemirror_mode": {
    "name": "ipython",
    "version": 3
   },
   "file_extension": ".py",
   "mimetype": "text/x-python",
   "name": "python",
   "nbconvert_exporter": "python",
   "pygments_lexer": "ipython3",
   "version": "3.7.3"
  }
 },
 "nbformat": 4,
 "nbformat_minor": 2
}
