{
 "cells": [
  {
   "cell_type": "markdown",
   "metadata": {},
   "source": [
    "# Create an artificial neural network for the hmda data"
   ]
  },
  {
   "cell_type": "code",
   "execution_count": null,
   "metadata": {},
   "outputs": [],
   "source": [
    "# Import packages\n",
    "import numpy as np\n",
    "import pandas as pd\n",
    "import shap\n",
    "import subprocess\n",
    "import sys\n",
    "import keras    \n",
    "from timeit import default_timer as timer\n",
    "import tensorflow as tf\n",
    "from keras import backend as K\n",
    "from keras.layers import Input, Dense\n",
    "from keras.models import Model, Sequential\n",
    "from keras.layers import Dense"
   ]
  },
  {
   "cell_type": "code",
   "execution_count": null,
   "metadata": {},
   "outputs": [],
   "source": [
    "# Set seed and output directory\n",
    "seed = 12345\n",
    "\n",
    "np.random.seed(seed)\n",
    "\n",
    "my_init = keras.initializers.RandomUniform(seed=seed)\n",
    "\n",
    "out_dir = \"ann_output5/\"\n",
    "\n",
    "output_files = False\n"
   ]
  },
  {
   "cell_type": "code",
   "execution_count": null,
   "metadata": {},
   "outputs": [],
   "source": [
    "def ann_model():\n",
    "    \"\"\" Create an artificial neural network model \"\"\"\n",
    "\n",
    "    input = Input(shape=(features,), name='main_input')\n",
    "\n",
    "    out = Dense(20, input_dim=10, activation='relu')(input)\n",
    "    \n",
    "    out = Dense(20, input_dim=20, activation='relu')(out)\n",
    "    \n",
    "    out = Dense(1, activation='sigmoid')(out)\n",
    "    \n",
    "    model = Model(inputs=input, outputs=out)\n",
    "\n",
    "    model.compile(loss='binary_crossentropy', optimizer='adam')\n",
    "    \n",
    "    return model"
   ]
  },
  {
   "cell_type": "code",
   "execution_count": null,
   "metadata": {},
   "outputs": [],
   "source": [
    "# Load the dataset\n",
    "xnn_data_dir = '~/article-information-2019/data/xnn_output/'\n",
    "\n",
    "DATA=pd.read_csv(xnn_data_dir + 'train_transformed.csv')\n",
    "\n",
    "TEST=pd.read_csv(xnn_data_dir + 'test_transformed.csv')"
   ]
  },
  {
   "cell_type": "code",
   "execution_count": null,
   "metadata": {},
   "outputs": [],
   "source": [
    "# Select features and split into target and feature sets\n",
    "selected_vars = ['term_360', 'conforming']\n",
    "selected_vars += ['debt_to_income_ratio_missing','loan_amount_std', 'loan_to_value_ratio_std']\n",
    "selected_vars += ['no_intro_rate_period_std', 'intro_rate_period_std']\n",
    "selected_vars += ['property_value_std', 'income_std', 'debt_to_income_ratio_std']\n",
    "\n",
    "target_var = \"high_priced\""
   ]
  },
  {
   "cell_type": "code",
   "execution_count": null,
   "metadata": {},
   "outputs": [],
   "source": [
    "# Split the data into feature and target values\n",
    "X=DATA[selected_vars].values\n",
    "Y=DATA[target_var].values\n",
    "TEST_X = TEST[selected_vars].values\n",
    "TEST_Y = TEST[target_var].values\n",
    "features = X.shape[1]\n",
    "\n",
    "inputs = {'main_input': X}"
   ]
  },
  {
   "cell_type": "code",
   "execution_count": null,
   "metadata": {},
   "outputs": [],
   "source": [
    "#Fit model\n",
    "model = ann_model()\n",
    "model.fit(inputs, Y, epochs=5000, batch_size=1024, validation_split=0, verbose=1)"
   ]
  },
  {
   "cell_type": "code",
   "execution_count": null,
   "metadata": {},
   "outputs": [],
   "source": [
    "# Find the predictions and Shapley values on the test set.\n",
    "bg_samples = 1000\n",
    "background = DATA[selected_vars].iloc[np.random.choice(DATA[selected_vars].shape[0], bg_samples, replace=False)]\n",
    "explainer = shap.DeepExplainer(model, background)\n",
    "shap_values = explainer.shap_values(TEST_X)\n",
    "preds = model.predict(TEST_X)\n",
    "preds = np.concatenate((preds, shap_values[0], preds), axis=1)\n",
    "preds[:, -1] = explainer.expected_value"
   ]
  },
  {
   "cell_type": "code",
   "execution_count": null,
   "metadata": {},
   "outputs": [],
   "source": [
    "# Add the Shapley values and predictions to the dataset\n",
    "TEST = pd.DataFrame(pd.concat([TEST, pd.DataFrame(preds)], axis=1))\n",
    "\n",
    "Feature_names = selected_vars.copy()\n",
    "\n",
    "TEST = TEST.rename(columns={0: \"probability\", \n",
    "                            1: Feature_names[0]+\"_Shapley_score\",\n",
    "                            2: Feature_names[1]+\"_Shapley_score\",\n",
    "                            3: Feature_names[2]+\"_Shapley_score\",\n",
    "                            4: Feature_names[3]+\"_Shapley_score\",\n",
    "                            5: Feature_names[4]+\"_Shapley_score\",\n",
    "                            6: Feature_names[5]+\"_Shapley_score\", \n",
    "                            7: Feature_names[6]+\"_Shapley_score\",\n",
    "                            8: Feature_names[7]+\"_Shapley_score\",\n",
    "                            9: Feature_names[8]+\"_Shapley_score\",\n",
    "                            10: Feature_names[9]+\"_Shapley_score\",\n",
    "                            11: \"Intercept_Shapley_score\"})"
   ]
  },
  {
   "cell_type": "code",
   "execution_count": null,
   "metadata": {},
   "outputs": [],
   "source": [
    "# Save results\n",
    "if output_files:\n",
    "    TEST.to_csv(out_dir + \"hmda_ann_results_with_Shapley.csv\" , index=False)"
   ]
  },
  {
   "cell_type": "code",
   "execution_count": null,
   "metadata": {},
   "outputs": [],
   "source": []
  }
 ],
 "metadata": {
  "kernelspec": {
   "display_name": "Python 3",
   "language": "python",
   "name": "python3"
  },
  "language_info": {
   "codemirror_mode": {
    "name": "ipython",
    "version": 3
   },
   "file_extension": ".py",
   "mimetype": "text/x-python",
   "name": "python",
   "nbconvert_exporter": "python",
   "pygments_lexer": "ipython3",
   "version": "3.7.3"
  }
 },
 "nbformat": 4,
 "nbformat_minor": 2
}
