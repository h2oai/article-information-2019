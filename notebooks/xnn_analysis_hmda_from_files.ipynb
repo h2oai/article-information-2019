{
 "cells": [
  {
   "cell_type": "code",
   "execution_count": 1,
   "metadata": {},
   "outputs": [],
   "source": [
    "import pandas as pd\n",
    "import numpy as np\n",
    "import math\n",
    "import chart_studio.plotly as py\n",
    "import plotly.tools as tls\n",
    "import matplotlib.pyplot as plt\n",
    "from sklearn.metrics import roc_auc_score, accuracy_score, log_loss, mean_squared_error, f1_score, matthews_corrcoef, classification_report, roc_curve, auc\n",
    "\n"
   ]
  },
  {
   "cell_type": "code",
   "execution_count": 2,
   "metadata": {},
   "outputs": [],
   "source": [
    "# Load model from file\n",
    "#xnn_dir = '/home/kimm/article-information-2019/data/xnn_output/hmda_results/'\n",
    "#xnn_dir = '/Users/kmontgomery/Documents/git/article-information-2019/data/xnn_output/hmda_results/'\n",
    "xnn_dir = '/Users/phall/workspace/article-information-2019/data/xnn_output/hmda_results/'\n",
    "\n",
    "label = \"BLDS_run100\"\n",
    "\n",
    "filename = 'main_15000_' + label + '.csv'\n",
    "\n",
    "TEST = pd.read_csv(xnn_dir + filename)\n",
    "\n",
    "Feature_names = ['term_360', 'conforming', 'debt_to_income_ratio_missing','loan_amount_std', \n",
    "                 'loan_to_value_ratio_std', 'no_intro_rate_period_std', 'intro_rate_period_std',\n",
    "                 'property_value_std', 'income_std', 'debt_to_income_ratio_std']"
   ]
  },
  {
   "cell_type": "code",
   "execution_count": 3,
   "metadata": {},
   "outputs": [
    {
     "data": {
      "text/plain": [
       "Index(['Unnamed: 0', 'high_priced', 'term_360', 'conforming', 'black', 'asian',\n",
       "       'white', 'amind', 'hipac', 'hispanic', 'non_hispanic', 'male', 'female',\n",
       "       'agegte62', 'agelt62', 'debt_to_income_ratio_missing',\n",
       "       'loan_amount_std', 'loan_to_value_ratio_std',\n",
       "       'no_intro_rate_period_std', 'intro_rate_period_std',\n",
       "       'property_value_std', 'income_std', 'debt_to_income_ratio_std', '0',\n",
       "       '1', '2', '3', '4', '5', '6', '7', '8', '9', '10', '11'],\n",
       "      dtype='object')"
      ]
     },
     "execution_count": 3,
     "metadata": {},
     "output_type": "execute_result"
    }
   ],
   "source": [
    "TEST.columns"
   ]
  },
  {
   "cell_type": "code",
   "execution_count": 4,
   "metadata": {},
   "outputs": [
    {
     "data": {
      "text/html": [
       "<style  type=\"text/css\" >\n",
       "</style>  \n",
       "<table id=\"T_aaa42c98_476a_11ea_89ec_c4b301c40d7b\" ><caption>Recall and Precision</caption> \n",
       "<thead>    <tr> \n",
       "        <th class=\"blank level0\" ></th> \n",
       "        <th class=\"col_heading level0 col0\" >cutoff</th> \n",
       "        <th class=\"col_heading level0 col1\" >recall</th> \n",
       "        <th class=\"col_heading level0 col2\" >precision</th> \n",
       "        <th class=\"col_heading level0 col3\" >f1</th> \n",
       "    </tr></thead> \n",
       "<tbody>    <tr> \n",
       "        <th id=\"T_aaa42c98_476a_11ea_89ec_c4b301c40d7blevel0_row0\" class=\"row_heading level0 row0\" >0</th> \n",
       "        <td id=\"T_aaa42c98_476a_11ea_89ec_c4b301c40d7brow0_col0\" class=\"data row0 col0\" >0</td> \n",
       "        <td id=\"T_aaa42c98_476a_11ea_89ec_c4b301c40d7brow0_col1\" class=\"data row0 col1\" >0.999741</td> \n",
       "        <td id=\"T_aaa42c98_476a_11ea_89ec_c4b301c40d7brow0_col2\" class=\"data row0 col2\" >0.0976096</td> \n",
       "        <td id=\"T_aaa42c98_476a_11ea_89ec_c4b301c40d7brow0_col3\" class=\"data row0 col3\" >0.177854</td> \n",
       "    </tr>    <tr> \n",
       "        <th id=\"T_aaa42c98_476a_11ea_89ec_c4b301c40d7blevel0_row1\" class=\"row_heading level0 row1\" >1</th> \n",
       "        <td id=\"T_aaa42c98_476a_11ea_89ec_c4b301c40d7brow1_col0\" class=\"data row1 col0\" >0.01</td> \n",
       "        <td id=\"T_aaa42c98_476a_11ea_89ec_c4b301c40d7brow1_col1\" class=\"data row1 col1\" >0.974405</td> \n",
       "        <td id=\"T_aaa42c98_476a_11ea_89ec_c4b301c40d7brow1_col2\" class=\"data row1 col2\" >0.15516</td> \n",
       "        <td id=\"T_aaa42c98_476a_11ea_89ec_c4b301c40d7brow1_col3\" class=\"data row1 col3\" >0.267694</td> \n",
       "    </tr>    <tr> \n",
       "        <th id=\"T_aaa42c98_476a_11ea_89ec_c4b301c40d7blevel0_row2\" class=\"row_heading level0 row2\" >2</th> \n",
       "        <td id=\"T_aaa42c98_476a_11ea_89ec_c4b301c40d7brow2_col0\" class=\"data row2 col0\" >0.02</td> \n",
       "        <td id=\"T_aaa42c98_476a_11ea_89ec_c4b301c40d7brow2_col1\" class=\"data row2 col1\" >0.957084</td> \n",
       "        <td id=\"T_aaa42c98_476a_11ea_89ec_c4b301c40d7brow2_col2\" class=\"data row2 col2\" >0.175044</td> \n",
       "        <td id=\"T_aaa42c98_476a_11ea_89ec_c4b301c40d7brow2_col3\" class=\"data row2 col3\" >0.295959</td> \n",
       "    </tr>    <tr> \n",
       "        <th id=\"T_aaa42c98_476a_11ea_89ec_c4b301c40d7blevel0_row3\" class=\"row_heading level0 row3\" >3</th> \n",
       "        <td id=\"T_aaa42c98_476a_11ea_89ec_c4b301c40d7brow3_col0\" class=\"data row3 col0\" >0.03</td> \n",
       "        <td id=\"T_aaa42c98_476a_11ea_89ec_c4b301c40d7brow3_col1\" class=\"data row3 col1\" >0.942089</td> \n",
       "        <td id=\"T_aaa42c98_476a_11ea_89ec_c4b301c40d7brow3_col2\" class=\"data row3 col2\" >0.191507</td> \n",
       "        <td id=\"T_aaa42c98_476a_11ea_89ec_c4b301c40d7brow3_col3\" class=\"data row3 col3\" >0.318309</td> \n",
       "    </tr>    <tr> \n",
       "        <th id=\"T_aaa42c98_476a_11ea_89ec_c4b301c40d7blevel0_row4\" class=\"row_heading level0 row4\" >4</th> \n",
       "        <td id=\"T_aaa42c98_476a_11ea_89ec_c4b301c40d7brow4_col0\" class=\"data row4 col0\" >0.04</td> \n",
       "        <td id=\"T_aaa42c98_476a_11ea_89ec_c4b301c40d7brow4_col1\" class=\"data row4 col1\" >0.921665</td> \n",
       "        <td id=\"T_aaa42c98_476a_11ea_89ec_c4b301c40d7brow4_col2\" class=\"data row4 col2\" >0.20746</td> \n",
       "        <td id=\"T_aaa42c98_476a_11ea_89ec_c4b301c40d7brow4_col3\" class=\"data row4 col3\" >0.338685</td> \n",
       "    </tr>    <tr> \n",
       "        <th id=\"T_aaa42c98_476a_11ea_89ec_c4b301c40d7blevel0_row5\" class=\"row_heading level0 row5\" >5</th> \n",
       "        <td id=\"T_aaa42c98_476a_11ea_89ec_c4b301c40d7brow5_col0\" class=\"data row5 col0\" >0.05</td> \n",
       "        <td id=\"T_aaa42c98_476a_11ea_89ec_c4b301c40d7brow5_col1\" class=\"data row5 col1\" >0.900982</td> \n",
       "        <td id=\"T_aaa42c98_476a_11ea_89ec_c4b301c40d7brow5_col2\" class=\"data row5 col2\" >0.223469</td> \n",
       "        <td id=\"T_aaa42c98_476a_11ea_89ec_c4b301c40d7brow5_col3\" class=\"data row5 col3\" >0.358115</td> \n",
       "    </tr>    <tr> \n",
       "        <th id=\"T_aaa42c98_476a_11ea_89ec_c4b301c40d7blevel0_row6\" class=\"row_heading level0 row6\" >6</th> \n",
       "        <td id=\"T_aaa42c98_476a_11ea_89ec_c4b301c40d7brow6_col0\" class=\"data row6 col0\" >0.06</td> \n",
       "        <td id=\"T_aaa42c98_476a_11ea_89ec_c4b301c40d7brow6_col1\" class=\"data row6 col1\" >0.881851</td> \n",
       "        <td id=\"T_aaa42c98_476a_11ea_89ec_c4b301c40d7brow6_col2\" class=\"data row6 col2\" >0.239335</td> \n",
       "        <td id=\"T_aaa42c98_476a_11ea_89ec_c4b301c40d7brow6_col3\" class=\"data row6 col3\" >0.37649</td> \n",
       "    </tr>    <tr> \n",
       "        <th id=\"T_aaa42c98_476a_11ea_89ec_c4b301c40d7blevel0_row7\" class=\"row_heading level0 row7\" >7</th> \n",
       "        <td id=\"T_aaa42c98_476a_11ea_89ec_c4b301c40d7brow7_col0\" class=\"data row7 col0\" >0.07</td> \n",
       "        <td id=\"T_aaa42c98_476a_11ea_89ec_c4b301c40d7brow7_col1\" class=\"data row7 col1\" >0.858583</td> \n",
       "        <td id=\"T_aaa42c98_476a_11ea_89ec_c4b301c40d7brow7_col2\" class=\"data row7 col2\" >0.25326</td> \n",
       "        <td id=\"T_aaa42c98_476a_11ea_89ec_c4b301c40d7brow7_col3\" class=\"data row7 col3\" >0.391143</td> \n",
       "    </tr>    <tr> \n",
       "        <th id=\"T_aaa42c98_476a_11ea_89ec_c4b301c40d7blevel0_row8\" class=\"row_heading level0 row8\" >8</th> \n",
       "        <td id=\"T_aaa42c98_476a_11ea_89ec_c4b301c40d7brow8_col0\" class=\"data row8 col0\" >0.08</td> \n",
       "        <td id=\"T_aaa42c98_476a_11ea_89ec_c4b301c40d7brow8_col1\" class=\"data row8 col1\" >0.839193</td> \n",
       "        <td id=\"T_aaa42c98_476a_11ea_89ec_c4b301c40d7brow8_col2\" class=\"data row8 col2\" >0.265782</td> \n",
       "        <td id=\"T_aaa42c98_476a_11ea_89ec_c4b301c40d7brow8_col3\" class=\"data row8 col3\" >0.403706</td> \n",
       "    </tr>    <tr> \n",
       "        <th id=\"T_aaa42c98_476a_11ea_89ec_c4b301c40d7blevel0_row9\" class=\"row_heading level0 row9\" >9</th> \n",
       "        <td id=\"T_aaa42c98_476a_11ea_89ec_c4b301c40d7brow9_col0\" class=\"data row9 col0\" >0.09</td> \n",
       "        <td id=\"T_aaa42c98_476a_11ea_89ec_c4b301c40d7brow9_col1\" class=\"data row9 col1\" >0.817994</td> \n",
       "        <td id=\"T_aaa42c98_476a_11ea_89ec_c4b301c40d7brow9_col2\" class=\"data row9 col2\" >0.277398</td> \n",
       "        <td id=\"T_aaa42c98_476a_11ea_89ec_c4b301c40d7brow9_col3\" class=\"data row9 col3\" >0.414299</td> \n",
       "    </tr>    <tr> \n",
       "        <th id=\"T_aaa42c98_476a_11ea_89ec_c4b301c40d7blevel0_row10\" class=\"row_heading level0 row10\" >10</th> \n",
       "        <td id=\"T_aaa42c98_476a_11ea_89ec_c4b301c40d7brow10_col0\" class=\"data row10 col0\" >0.1</td> \n",
       "        <td id=\"T_aaa42c98_476a_11ea_89ec_c4b301c40d7brow10_col1\" class=\"data row10 col1\" >0.796794</td> \n",
       "        <td id=\"T_aaa42c98_476a_11ea_89ec_c4b301c40d7brow10_col2\" class=\"data row10 col2\" >0.288388</td> \n",
       "        <td id=\"T_aaa42c98_476a_11ea_89ec_c4b301c40d7brow10_col3\" class=\"data row10 col3\" >0.423497</td> \n",
       "    </tr>    <tr> \n",
       "        <th id=\"T_aaa42c98_476a_11ea_89ec_c4b301c40d7blevel0_row11\" class=\"row_heading level0 row11\" >11</th> \n",
       "        <td id=\"T_aaa42c98_476a_11ea_89ec_c4b301c40d7brow11_col0\" class=\"data row11 col0\" >0.11</td> \n",
       "        <td id=\"T_aaa42c98_476a_11ea_89ec_c4b301c40d7brow11_col1\" class=\"data row11 col1\" >0.781541</td> \n",
       "        <td id=\"T_aaa42c98_476a_11ea_89ec_c4b301c40d7brow11_col2\" class=\"data row11 col2\" >0.298686</td> \n",
       "        <td id=\"T_aaa42c98_476a_11ea_89ec_c4b301c40d7brow11_col3\" class=\"data row11 col3\" >0.432197</td> \n",
       "    </tr>    <tr> \n",
       "        <th id=\"T_aaa42c98_476a_11ea_89ec_c4b301c40d7blevel0_row12\" class=\"row_heading level0 row12\" >12</th> \n",
       "        <td id=\"T_aaa42c98_476a_11ea_89ec_c4b301c40d7brow12_col0\" class=\"data row12 col0\" >0.12</td> \n",
       "        <td id=\"T_aaa42c98_476a_11ea_89ec_c4b301c40d7brow12_col1\" class=\"data row12 col1\" >0.767322</td> \n",
       "        <td id=\"T_aaa42c98_476a_11ea_89ec_c4b301c40d7brow12_col2\" class=\"data row12 col2\" >0.307469</td> \n",
       "        <td id=\"T_aaa42c98_476a_11ea_89ec_c4b301c40d7brow12_col3\" class=\"data row12 col3\" >0.439021</td> \n",
       "    </tr>    <tr> \n",
       "        <th id=\"T_aaa42c98_476a_11ea_89ec_c4b301c40d7blevel0_row13\" class=\"row_heading level0 row13\" >13</th> \n",
       "        <td id=\"T_aaa42c98_476a_11ea_89ec_c4b301c40d7brow13_col0\" class=\"data row13 col0\" >0.13</td> \n",
       "        <td id=\"T_aaa42c98_476a_11ea_89ec_c4b301c40d7brow13_col1\" class=\"data row13 col1\" >0.753361</td> \n",
       "        <td id=\"T_aaa42c98_476a_11ea_89ec_c4b301c40d7brow13_col2\" class=\"data row13 col2\" >0.316327</td> \n",
       "        <td id=\"T_aaa42c98_476a_11ea_89ec_c4b301c40d7brow13_col3\" class=\"data row13 col3\" >0.445566</td> \n",
       "    </tr>    <tr> \n",
       "        <th id=\"T_aaa42c98_476a_11ea_89ec_c4b301c40d7blevel0_row14\" class=\"row_heading level0 row14\" >14</th> \n",
       "        <td id=\"T_aaa42c98_476a_11ea_89ec_c4b301c40d7brow14_col0\" class=\"data row14 col0\" >0.14</td> \n",
       "        <td id=\"T_aaa42c98_476a_11ea_89ec_c4b301c40d7brow14_col1\" class=\"data row14 col1\" >0.740693</td> \n",
       "        <td id=\"T_aaa42c98_476a_11ea_89ec_c4b301c40d7brow14_col2\" class=\"data row14 col2\" >0.324315</td> \n",
       "        <td id=\"T_aaa42c98_476a_11ea_89ec_c4b301c40d7brow14_col3\" class=\"data row14 col3\" >0.45111</td> \n",
       "    </tr>    <tr> \n",
       "        <th id=\"T_aaa42c98_476a_11ea_89ec_c4b301c40d7blevel0_row15\" class=\"row_heading level0 row15\" >15</th> \n",
       "        <td id=\"T_aaa42c98_476a_11ea_89ec_c4b301c40d7brow15_col0\" class=\"data row15 col0\" >0.15</td> \n",
       "        <td id=\"T_aaa42c98_476a_11ea_89ec_c4b301c40d7brow15_col1\" class=\"data row15 col1\" >0.724664</td> \n",
       "        <td id=\"T_aaa42c98_476a_11ea_89ec_c4b301c40d7brow15_col2\" class=\"data row15 col2\" >0.331834</td> \n",
       "        <td id=\"T_aaa42c98_476a_11ea_89ec_c4b301c40d7brow15_col3\" class=\"data row15 col3\" >0.455217</td> \n",
       "    </tr>    <tr> \n",
       "        <th id=\"T_aaa42c98_476a_11ea_89ec_c4b301c40d7blevel0_row16\" class=\"row_heading level0 row16\" >16</th> \n",
       "        <td id=\"T_aaa42c98_476a_11ea_89ec_c4b301c40d7brow16_col0\" class=\"data row16 col0\" >0.16</td> \n",
       "        <td id=\"T_aaa42c98_476a_11ea_89ec_c4b301c40d7brow16_col1\" class=\"data row16 col1\" >0.706567</td> \n",
       "        <td id=\"T_aaa42c98_476a_11ea_89ec_c4b301c40d7brow16_col2\" class=\"data row16 col2\" >0.337158</td> \n",
       "        <td id=\"T_aaa42c98_476a_11ea_89ec_c4b301c40d7brow16_col3\" class=\"data row16 col3\" >0.456489</td> \n",
       "    </tr>    <tr> \n",
       "        <th id=\"T_aaa42c98_476a_11ea_89ec_c4b301c40d7blevel0_row17\" class=\"row_heading level0 row17\" >17</th> \n",
       "        <td id=\"T_aaa42c98_476a_11ea_89ec_c4b301c40d7brow17_col0\" class=\"data row17 col0\" >0.17</td> \n",
       "        <td id=\"T_aaa42c98_476a_11ea_89ec_c4b301c40d7brow17_col1\" class=\"data row17 col1\" >0.692606</td> \n",
       "        <td id=\"T_aaa42c98_476a_11ea_89ec_c4b301c40d7brow17_col2\" class=\"data row17 col2\" >0.343858</td> \n",
       "        <td id=\"T_aaa42c98_476a_11ea_89ec_c4b301c40d7brow17_col3\" class=\"data row17 col3\" >0.459559</td> \n",
       "    </tr>    <tr> \n",
       "        <th id=\"T_aaa42c98_476a_11ea_89ec_c4b301c40d7blevel0_row18\" class=\"row_heading level0 row18\" >18</th> \n",
       "        <td id=\"T_aaa42c98_476a_11ea_89ec_c4b301c40d7brow18_col0\" class=\"data row18 col0\" >0.18</td> \n",
       "        <td id=\"T_aaa42c98_476a_11ea_89ec_c4b301c40d7brow18_col1\" class=\"data row18 col1\" >0.677611</td> \n",
       "        <td id=\"T_aaa42c98_476a_11ea_89ec_c4b301c40d7brow18_col2\" class=\"data row18 col2\" >0.351246</td> \n",
       "        <td id=\"T_aaa42c98_476a_11ea_89ec_c4b301c40d7brow18_col3\" class=\"data row18 col3\" >0.462665</td> \n",
       "    </tr>    <tr> \n",
       "        <th id=\"T_aaa42c98_476a_11ea_89ec_c4b301c40d7blevel0_row19\" class=\"row_heading level0 row19\" >19</th> \n",
       "        <td id=\"T_aaa42c98_476a_11ea_89ec_c4b301c40d7brow19_col0\" class=\"data row19 col0\" >0.19</td> \n",
       "        <td id=\"T_aaa42c98_476a_11ea_89ec_c4b301c40d7brow19_col1\" class=\"data row19 col1\" >0.66365</td> \n",
       "        <td id=\"T_aaa42c98_476a_11ea_89ec_c4b301c40d7brow19_col2\" class=\"data row19 col2\" >0.35802</td> \n",
       "        <td id=\"T_aaa42c98_476a_11ea_89ec_c4b301c40d7brow19_col3\" class=\"data row19 col3\" >0.46512</td> \n",
       "    </tr>    <tr> \n",
       "        <th id=\"T_aaa42c98_476a_11ea_89ec_c4b301c40d7blevel0_row20\" class=\"row_heading level0 row20\" >20</th> \n",
       "        <td id=\"T_aaa42c98_476a_11ea_89ec_c4b301c40d7brow20_col0\" class=\"data row20 col0\" >0.2</td> \n",
       "        <td id=\"T_aaa42c98_476a_11ea_89ec_c4b301c40d7brow20_col1\" class=\"data row20 col1\" >0.650724</td> \n",
       "        <td id=\"T_aaa42c98_476a_11ea_89ec_c4b301c40d7brow20_col2\" class=\"data row20 col2\" >0.364571</td> \n",
       "        <td id=\"T_aaa42c98_476a_11ea_89ec_c4b301c40d7brow20_col3\" class=\"data row20 col3\" >0.467323</td> \n",
       "    </tr>    <tr> \n",
       "        <th id=\"T_aaa42c98_476a_11ea_89ec_c4b301c40d7blevel0_row21\" class=\"row_heading level0 row21\" >21</th> \n",
       "        <td id=\"T_aaa42c98_476a_11ea_89ec_c4b301c40d7brow21_col0\" class=\"data row21 col0\" >0.21</td> \n",
       "        <td id=\"T_aaa42c98_476a_11ea_89ec_c4b301c40d7brow21_col1\" class=\"data row21 col1\" >0.633919</td> \n",
       "        <td id=\"T_aaa42c98_476a_11ea_89ec_c4b301c40d7brow21_col2\" class=\"data row21 col2\" >0.368556</td> \n",
       "        <td id=\"T_aaa42c98_476a_11ea_89ec_c4b301c40d7brow21_col3\" class=\"data row21 col3\" >0.466115</td> \n",
       "    </tr>    <tr> \n",
       "        <th id=\"T_aaa42c98_476a_11ea_89ec_c4b301c40d7blevel0_row22\" class=\"row_heading level0 row22\" >22</th> \n",
       "        <td id=\"T_aaa42c98_476a_11ea_89ec_c4b301c40d7brow22_col0\" class=\"data row22 col0\" >0.22</td> \n",
       "        <td id=\"T_aaa42c98_476a_11ea_89ec_c4b301c40d7brow22_col1\" class=\"data row22 col1\" >0.620734</td> \n",
       "        <td id=\"T_aaa42c98_476a_11ea_89ec_c4b301c40d7brow22_col2\" class=\"data row22 col2\" >0.374746</td> \n",
       "        <td id=\"T_aaa42c98_476a_11ea_89ec_c4b301c40d7brow22_col3\" class=\"data row22 col3\" >0.467348</td> \n",
       "    </tr>    <tr> \n",
       "        <th id=\"T_aaa42c98_476a_11ea_89ec_c4b301c40d7blevel0_row23\" class=\"row_heading level0 row23\" >23</th> \n",
       "        <td id=\"T_aaa42c98_476a_11ea_89ec_c4b301c40d7brow23_col0\" class=\"data row23 col0\" >0.23</td> \n",
       "        <td id=\"T_aaa42c98_476a_11ea_89ec_c4b301c40d7brow23_col1\" class=\"data row23 col1\" >0.604447</td> \n",
       "        <td id=\"T_aaa42c98_476a_11ea_89ec_c4b301c40d7brow23_col2\" class=\"data row23 col2\" >0.380348</td> \n",
       "        <td id=\"T_aaa42c98_476a_11ea_89ec_c4b301c40d7brow23_col3\" class=\"data row23 col3\" >0.4669</td> \n",
       "    </tr>    <tr> \n",
       "        <th id=\"T_aaa42c98_476a_11ea_89ec_c4b301c40d7blevel0_row24\" class=\"row_heading level0 row24\" >24</th> \n",
       "        <td id=\"T_aaa42c98_476a_11ea_89ec_c4b301c40d7brow24_col0\" class=\"data row24 col0\" >0.24</td> \n",
       "        <td id=\"T_aaa42c98_476a_11ea_89ec_c4b301c40d7brow24_col1\" class=\"data row24 col1\" >0.593847</td> \n",
       "        <td id=\"T_aaa42c98_476a_11ea_89ec_c4b301c40d7brow24_col2\" class=\"data row24 col2\" >0.386831</td> \n",
       "        <td id=\"T_aaa42c98_476a_11ea_89ec_c4b301c40d7brow24_col3\" class=\"data row24 col3\" >0.468489</td> \n",
       "    </tr>    <tr> \n",
       "        <th id=\"T_aaa42c98_476a_11ea_89ec_c4b301c40d7blevel0_row25\" class=\"row_heading level0 row25\" >25</th> \n",
       "        <td id=\"T_aaa42c98_476a_11ea_89ec_c4b301c40d7brow25_col0\" class=\"data row25 col0\" >0.25</td> \n",
       "        <td id=\"T_aaa42c98_476a_11ea_89ec_c4b301c40d7brow25_col1\" class=\"data row25 col1\" >0.580403</td> \n",
       "        <td id=\"T_aaa42c98_476a_11ea_89ec_c4b301c40d7brow25_col2\" class=\"data row25 col2\" >0.392003</td> \n",
       "        <td id=\"T_aaa42c98_476a_11ea_89ec_c4b301c40d7brow25_col3\" class=\"data row25 col3\" >0.467952</td> \n",
       "    </tr>    <tr> \n",
       "        <th id=\"T_aaa42c98_476a_11ea_89ec_c4b301c40d7blevel0_row26\" class=\"row_heading level0 row26\" >26</th> \n",
       "        <td id=\"T_aaa42c98_476a_11ea_89ec_c4b301c40d7brow26_col0\" class=\"data row26 col0\" >0.26</td> \n",
       "        <td id=\"T_aaa42c98_476a_11ea_89ec_c4b301c40d7brow26_col1\" class=\"data row26 col1\" >0.563599</td> \n",
       "        <td id=\"T_aaa42c98_476a_11ea_89ec_c4b301c40d7brow26_col2\" class=\"data row26 col2\" >0.395501</td> \n",
       "        <td id=\"T_aaa42c98_476a_11ea_89ec_c4b301c40d7brow26_col3\" class=\"data row26 col3\" >0.464819</td> \n",
       "    </tr>    <tr> \n",
       "        <th id=\"T_aaa42c98_476a_11ea_89ec_c4b301c40d7blevel0_row27\" class=\"row_heading level0 row27\" >27</th> \n",
       "        <td id=\"T_aaa42c98_476a_11ea_89ec_c4b301c40d7brow27_col0\" class=\"data row27 col0\" >0.27</td> \n",
       "        <td id=\"T_aaa42c98_476a_11ea_89ec_c4b301c40d7brow27_col1\" class=\"data row27 col1\" >0.54576</td> \n",
       "        <td id=\"T_aaa42c98_476a_11ea_89ec_c4b301c40d7brow27_col2\" class=\"data row27 col2\" >0.402019</td> \n",
       "        <td id=\"T_aaa42c98_476a_11ea_89ec_c4b301c40d7brow27_col3\" class=\"data row27 col3\" >0.462989</td> \n",
       "    </tr>    <tr> \n",
       "        <th id=\"T_aaa42c98_476a_11ea_89ec_c4b301c40d7blevel0_row28\" class=\"row_heading level0 row28\" >28</th> \n",
       "        <td id=\"T_aaa42c98_476a_11ea_89ec_c4b301c40d7brow28_col0\" class=\"data row28 col0\" >0.28</td> \n",
       "        <td id=\"T_aaa42c98_476a_11ea_89ec_c4b301c40d7brow28_col1\" class=\"data row28 col1\" >0.523785</td> \n",
       "        <td id=\"T_aaa42c98_476a_11ea_89ec_c4b301c40d7brow28_col2\" class=\"data row28 col2\" >0.404876</td> \n",
       "        <td id=\"T_aaa42c98_476a_11ea_89ec_c4b301c40d7brow28_col3\" class=\"data row28 col3\" >0.456718</td> \n",
       "    </tr>    <tr> \n",
       "        <th id=\"T_aaa42c98_476a_11ea_89ec_c4b301c40d7blevel0_row29\" class=\"row_heading level0 row29\" >29</th> \n",
       "        <td id=\"T_aaa42c98_476a_11ea_89ec_c4b301c40d7brow29_col0\" class=\"data row29 col0\" >0.29</td> \n",
       "        <td id=\"T_aaa42c98_476a_11ea_89ec_c4b301c40d7brow29_col1\" class=\"data row29 col1\" >0.499483</td> \n",
       "        <td id=\"T_aaa42c98_476a_11ea_89ec_c4b301c40d7brow29_col2\" class=\"data row29 col2\" >0.40648</td> \n",
       "        <td id=\"T_aaa42c98_476a_11ea_89ec_c4b301c40d7brow29_col3\" class=\"data row29 col3\" >0.448208</td> \n",
       "    </tr>    <tr> \n",
       "        <th id=\"T_aaa42c98_476a_11ea_89ec_c4b301c40d7blevel0_row30\" class=\"row_heading level0 row30\" >30</th> \n",
       "        <td id=\"T_aaa42c98_476a_11ea_89ec_c4b301c40d7brow30_col0\" class=\"data row30 col0\" >0.3</td> \n",
       "        <td id=\"T_aaa42c98_476a_11ea_89ec_c4b301c40d7brow30_col1\" class=\"data row30 col1\" >0.4788</td> \n",
       "        <td id=\"T_aaa42c98_476a_11ea_89ec_c4b301c40d7brow30_col2\" class=\"data row30 col2\" >0.411099</td> \n",
       "        <td id=\"T_aaa42c98_476a_11ea_89ec_c4b301c40d7brow30_col3\" class=\"data row30 col3\" >0.442374</td> \n",
       "    </tr>    <tr> \n",
       "        <th id=\"T_aaa42c98_476a_11ea_89ec_c4b301c40d7blevel0_row31\" class=\"row_heading level0 row31\" >31</th> \n",
       "        <td id=\"T_aaa42c98_476a_11ea_89ec_c4b301c40d7brow31_col0\" class=\"data row31 col0\" >0.31</td> \n",
       "        <td id=\"T_aaa42c98_476a_11ea_89ec_c4b301c40d7brow31_col1\" class=\"data row31 col1\" >0.461479</td> \n",
       "        <td id=\"T_aaa42c98_476a_11ea_89ec_c4b301c40d7brow31_col2\" class=\"data row31 col2\" >0.418033</td> \n",
       "        <td id=\"T_aaa42c98_476a_11ea_89ec_c4b301c40d7brow31_col3\" class=\"data row31 col3\" >0.438683</td> \n",
       "    </tr>    <tr> \n",
       "        <th id=\"T_aaa42c98_476a_11ea_89ec_c4b301c40d7blevel0_row32\" class=\"row_heading level0 row32\" >32</th> \n",
       "        <td id=\"T_aaa42c98_476a_11ea_89ec_c4b301c40d7brow32_col0\" class=\"data row32 col0\" >0.32</td> \n",
       "        <td id=\"T_aaa42c98_476a_11ea_89ec_c4b301c40d7brow32_col1\" class=\"data row32 col1\" >0.440796</td> \n",
       "        <td id=\"T_aaa42c98_476a_11ea_89ec_c4b301c40d7brow32_col2\" class=\"data row32 col2\" >0.425824</td> \n",
       "        <td id=\"T_aaa42c98_476a_11ea_89ec_c4b301c40d7brow32_col3\" class=\"data row32 col3\" >0.433181</td> \n",
       "    </tr>    <tr> \n",
       "        <th id=\"T_aaa42c98_476a_11ea_89ec_c4b301c40d7blevel0_row33\" class=\"row_heading level0 row33\" >33</th> \n",
       "        <td id=\"T_aaa42c98_476a_11ea_89ec_c4b301c40d7brow33_col0\" class=\"data row33 col0\" >0.33</td> \n",
       "        <td id=\"T_aaa42c98_476a_11ea_89ec_c4b301c40d7brow33_col1\" class=\"data row33 col1\" >0.420372</td> \n",
       "        <td id=\"T_aaa42c98_476a_11ea_89ec_c4b301c40d7brow33_col2\" class=\"data row33 col2\" >0.431529</td> \n",
       "        <td id=\"T_aaa42c98_476a_11ea_89ec_c4b301c40d7brow33_col3\" class=\"data row33 col3\" >0.425877</td> \n",
       "    </tr>    <tr> \n",
       "        <th id=\"T_aaa42c98_476a_11ea_89ec_c4b301c40d7blevel0_row34\" class=\"row_heading level0 row34\" >34</th> \n",
       "        <td id=\"T_aaa42c98_476a_11ea_89ec_c4b301c40d7brow34_col0\" class=\"data row34 col0\" >0.34</td> \n",
       "        <td id=\"T_aaa42c98_476a_11ea_89ec_c4b301c40d7brow34_col1\" class=\"data row34 col1\" >0.398656</td> \n",
       "        <td id=\"T_aaa42c98_476a_11ea_89ec_c4b301c40d7brow34_col2\" class=\"data row34 col2\" >0.43658</td> \n",
       "        <td id=\"T_aaa42c98_476a_11ea_89ec_c4b301c40d7brow34_col3\" class=\"data row34 col3\" >0.416757</td> \n",
       "    </tr>    <tr> \n",
       "        <th id=\"T_aaa42c98_476a_11ea_89ec_c4b301c40d7blevel0_row35\" class=\"row_heading level0 row35\" >35</th> \n",
       "        <td id=\"T_aaa42c98_476a_11ea_89ec_c4b301c40d7brow35_col0\" class=\"data row35 col0\" >0.35</td> \n",
       "        <td id=\"T_aaa42c98_476a_11ea_89ec_c4b301c40d7brow35_col1\" class=\"data row35 col1\" >0.374095</td> \n",
       "        <td id=\"T_aaa42c98_476a_11ea_89ec_c4b301c40d7brow35_col2\" class=\"data row35 col2\" >0.445094</td> \n",
       "        <td id=\"T_aaa42c98_476a_11ea_89ec_c4b301c40d7brow35_col3\" class=\"data row35 col3\" >0.406518</td> \n",
       "    </tr>    <tr> \n",
       "        <th id=\"T_aaa42c98_476a_11ea_89ec_c4b301c40d7blevel0_row36\" class=\"row_heading level0 row36\" >36</th> \n",
       "        <td id=\"T_aaa42c98_476a_11ea_89ec_c4b301c40d7brow36_col0\" class=\"data row36 col0\" >0.36</td> \n",
       "        <td id=\"T_aaa42c98_476a_11ea_89ec_c4b301c40d7brow36_col1\" class=\"data row36 col1\" >0.357808</td> \n",
       "        <td id=\"T_aaa42c98_476a_11ea_89ec_c4b301c40d7brow36_col2\" class=\"data row36 col2\" >0.454217</td> \n",
       "        <td id=\"T_aaa42c98_476a_11ea_89ec_c4b301c40d7brow36_col3\" class=\"data row36 col3\" >0.400289</td> \n",
       "    </tr>    <tr> \n",
       "        <th id=\"T_aaa42c98_476a_11ea_89ec_c4b301c40d7blevel0_row37\" class=\"row_heading level0 row37\" >37</th> \n",
       "        <td id=\"T_aaa42c98_476a_11ea_89ec_c4b301c40d7brow37_col0\" class=\"data row37 col0\" >0.37</td> \n",
       "        <td id=\"T_aaa42c98_476a_11ea_89ec_c4b301c40d7brow37_col1\" class=\"data row37 col1\" >0.340486</td> \n",
       "        <td id=\"T_aaa42c98_476a_11ea_89ec_c4b301c40d7brow37_col2\" class=\"data row37 col2\" >0.465536</td> \n",
       "        <td id=\"T_aaa42c98_476a_11ea_89ec_c4b301c40d7brow37_col3\" class=\"data row37 col3\" >0.39331</td> \n",
       "    </tr>    <tr> \n",
       "        <th id=\"T_aaa42c98_476a_11ea_89ec_c4b301c40d7blevel0_row38\" class=\"row_heading level0 row38\" >38</th> \n",
       "        <td id=\"T_aaa42c98_476a_11ea_89ec_c4b301c40d7brow38_col0\" class=\"data row38 col0\" >0.38</td> \n",
       "        <td id=\"T_aaa42c98_476a_11ea_89ec_c4b301c40d7brow38_col1\" class=\"data row38 col1\" >0.320579</td> \n",
       "        <td id=\"T_aaa42c98_476a_11ea_89ec_c4b301c40d7brow38_col2\" class=\"data row38 col2\" >0.476373</td> \n",
       "        <td id=\"T_aaa42c98_476a_11ea_89ec_c4b301c40d7brow38_col3\" class=\"data row38 col3\" >0.383248</td> \n",
       "    </tr>    <tr> \n",
       "        <th id=\"T_aaa42c98_476a_11ea_89ec_c4b301c40d7blevel0_row39\" class=\"row_heading level0 row39\" >39</th> \n",
       "        <td id=\"T_aaa42c98_476a_11ea_89ec_c4b301c40d7brow39_col0\" class=\"data row39 col0\" >0.39</td> \n",
       "        <td id=\"T_aaa42c98_476a_11ea_89ec_c4b301c40d7brow39_col1\" class=\"data row39 col1\" >0.301965</td> \n",
       "        <td id=\"T_aaa42c98_476a_11ea_89ec_c4b301c40d7brow39_col2\" class=\"data row39 col2\" >0.485251</td> \n",
       "        <td id=\"T_aaa42c98_476a_11ea_89ec_c4b301c40d7brow39_col3\" class=\"data row39 col3\" >0.372271</td> \n",
       "    </tr>    <tr> \n",
       "        <th id=\"T_aaa42c98_476a_11ea_89ec_c4b301c40d7blevel0_row40\" class=\"row_heading level0 row40\" >40</th> \n",
       "        <td id=\"T_aaa42c98_476a_11ea_89ec_c4b301c40d7brow40_col0\" class=\"data row40 col0\" >0.4</td> \n",
       "        <td id=\"T_aaa42c98_476a_11ea_89ec_c4b301c40d7brow40_col1\" class=\"data row40 col1\" >0.286711</td> \n",
       "        <td id=\"T_aaa42c98_476a_11ea_89ec_c4b301c40d7brow40_col2\" class=\"data row40 col2\" >0.497533</td> \n",
       "        <td id=\"T_aaa42c98_476a_11ea_89ec_c4b301c40d7brow40_col3\" class=\"data row40 col3\" >0.363785</td> \n",
       "    </tr>    <tr> \n",
       "        <th id=\"T_aaa42c98_476a_11ea_89ec_c4b301c40d7blevel0_row41\" class=\"row_heading level0 row41\" >41</th> \n",
       "        <td id=\"T_aaa42c98_476a_11ea_89ec_c4b301c40d7brow41_col0\" class=\"data row41 col0\" >0.41</td> \n",
       "        <td id=\"T_aaa42c98_476a_11ea_89ec_c4b301c40d7brow41_col1\" class=\"data row41 col1\" >0.26939</td> \n",
       "        <td id=\"T_aaa42c98_476a_11ea_89ec_c4b301c40d7brow41_col2\" class=\"data row41 col2\" >0.510034</td> \n",
       "        <td id=\"T_aaa42c98_476a_11ea_89ec_c4b301c40d7brow41_col3\" class=\"data row41 col3\" >0.352563</td> \n",
       "    </tr>    <tr> \n",
       "        <th id=\"T_aaa42c98_476a_11ea_89ec_c4b301c40d7blevel0_row42\" class=\"row_heading level0 row42\" >42</th> \n",
       "        <td id=\"T_aaa42c98_476a_11ea_89ec_c4b301c40d7brow42_col0\" class=\"data row42 col0\" >0.42</td> \n",
       "        <td id=\"T_aaa42c98_476a_11ea_89ec_c4b301c40d7brow42_col1\" class=\"data row42 col1\" >0.251293</td> \n",
       "        <td id=\"T_aaa42c98_476a_11ea_89ec_c4b301c40d7brow42_col2\" class=\"data row42 col2\" >0.519508</td> \n",
       "        <td id=\"T_aaa42c98_476a_11ea_89ec_c4b301c40d7brow42_col3\" class=\"data row42 col3\" >0.338735</td> \n",
       "    </tr>    <tr> \n",
       "        <th id=\"T_aaa42c98_476a_11ea_89ec_c4b301c40d7blevel0_row43\" class=\"row_heading level0 row43\" >43</th> \n",
       "        <td id=\"T_aaa42c98_476a_11ea_89ec_c4b301c40d7brow43_col0\" class=\"data row43 col0\" >0.43</td> \n",
       "        <td id=\"T_aaa42c98_476a_11ea_89ec_c4b301c40d7brow43_col1\" class=\"data row43 col1\" >0.229835</td> \n",
       "        <td id=\"T_aaa42c98_476a_11ea_89ec_c4b301c40d7brow43_col2\" class=\"data row43 col2\" >0.527284</td> \n",
       "        <td id=\"T_aaa42c98_476a_11ea_89ec_c4b301c40d7brow43_col3\" class=\"data row43 col3\" >0.32013</td> \n",
       "    </tr>    <tr> \n",
       "        <th id=\"T_aaa42c98_476a_11ea_89ec_c4b301c40d7blevel0_row44\" class=\"row_heading level0 row44\" >44</th> \n",
       "        <td id=\"T_aaa42c98_476a_11ea_89ec_c4b301c40d7brow44_col0\" class=\"data row44 col0\" >0.44</td> \n",
       "        <td id=\"T_aaa42c98_476a_11ea_89ec_c4b301c40d7brow44_col1\" class=\"data row44 col1\" >0.215357</td> \n",
       "        <td id=\"T_aaa42c98_476a_11ea_89ec_c4b301c40d7brow44_col2\" class=\"data row44 col2\" >0.531928</td> \n",
       "        <td id=\"T_aaa42c98_476a_11ea_89ec_c4b301c40d7brow44_col3\" class=\"data row44 col3\" >0.306588</td> \n",
       "    </tr>    <tr> \n",
       "        <th id=\"T_aaa42c98_476a_11ea_89ec_c4b301c40d7blevel0_row45\" class=\"row_heading level0 row45\" >45</th> \n",
       "        <td id=\"T_aaa42c98_476a_11ea_89ec_c4b301c40d7brow45_col0\" class=\"data row45 col0\" >0.45</td> \n",
       "        <td id=\"T_aaa42c98_476a_11ea_89ec_c4b301c40d7brow45_col1\" class=\"data row45 col1\" >0.19726</td> \n",
       "        <td id=\"T_aaa42c98_476a_11ea_89ec_c4b301c40d7brow45_col2\" class=\"data row45 col2\" >0.540368</td> \n",
       "        <td id=\"T_aaa42c98_476a_11ea_89ec_c4b301c40d7brow45_col3\" class=\"data row45 col3\" >0.289015</td> \n",
       "    </tr>    <tr> \n",
       "        <th id=\"T_aaa42c98_476a_11ea_89ec_c4b301c40d7blevel0_row46\" class=\"row_heading level0 row46\" >46</th> \n",
       "        <td id=\"T_aaa42c98_476a_11ea_89ec_c4b301c40d7brow46_col0\" class=\"data row46 col0\" >0.46</td> \n",
       "        <td id=\"T_aaa42c98_476a_11ea_89ec_c4b301c40d7brow46_col1\" class=\"data row46 col1\" >0.181489</td> \n",
       "        <td id=\"T_aaa42c98_476a_11ea_89ec_c4b301c40d7brow46_col2\" class=\"data row46 col2\" >0.544608</td> \n",
       "        <td id=\"T_aaa42c98_476a_11ea_89ec_c4b301c40d7brow46_col3\" class=\"data row46 col3\" >0.272251</td> \n",
       "    </tr>    <tr> \n",
       "        <th id=\"T_aaa42c98_476a_11ea_89ec_c4b301c40d7blevel0_row47\" class=\"row_heading level0 row47\" >47</th> \n",
       "        <td id=\"T_aaa42c98_476a_11ea_89ec_c4b301c40d7brow47_col0\" class=\"data row47 col0\" >0.47</td> \n",
       "        <td id=\"T_aaa42c98_476a_11ea_89ec_c4b301c40d7brow47_col1\" class=\"data row47 col1\" >0.166753</td> \n",
       "        <td id=\"T_aaa42c98_476a_11ea_89ec_c4b301c40d7brow47_col2\" class=\"data row47 col2\" >0.555077</td> \n",
       "        <td id=\"T_aaa42c98_476a_11ea_89ec_c4b301c40d7brow47_col3\" class=\"data row47 col3\" >0.256461</td> \n",
       "    </tr>    <tr> \n",
       "        <th id=\"T_aaa42c98_476a_11ea_89ec_c4b301c40d7blevel0_row48\" class=\"row_heading level0 row48\" >48</th> \n",
       "        <td id=\"T_aaa42c98_476a_11ea_89ec_c4b301c40d7brow48_col0\" class=\"data row48 col0\" >0.48</td> \n",
       "        <td id=\"T_aaa42c98_476a_11ea_89ec_c4b301c40d7brow48_col1\" class=\"data row48 col1\" >0.152792</td> \n",
       "        <td id=\"T_aaa42c98_476a_11ea_89ec_c4b301c40d7brow48_col2\" class=\"data row48 col2\" >0.568269</td> \n",
       "        <td id=\"T_aaa42c98_476a_11ea_89ec_c4b301c40d7brow48_col3\" class=\"data row48 col3\" >0.240831</td> \n",
       "    </tr>    <tr> \n",
       "        <th id=\"T_aaa42c98_476a_11ea_89ec_c4b301c40d7blevel0_row49\" class=\"row_heading level0 row49\" >49</th> \n",
       "        <td id=\"T_aaa42c98_476a_11ea_89ec_c4b301c40d7brow49_col0\" class=\"data row49 col0\" >0.49</td> \n",
       "        <td id=\"T_aaa42c98_476a_11ea_89ec_c4b301c40d7brow49_col1\" class=\"data row49 col1\" >0.141158</td> \n",
       "        <td id=\"T_aaa42c98_476a_11ea_89ec_c4b301c40d7brow49_col2\" class=\"data row49 col2\" >0.577167</td> \n",
       "        <td id=\"T_aaa42c98_476a_11ea_89ec_c4b301c40d7brow49_col3\" class=\"data row49 col3\" >0.226838</td> \n",
       "    </tr>    <tr> \n",
       "        <th id=\"T_aaa42c98_476a_11ea_89ec_c4b301c40d7blevel0_row50\" class=\"row_heading level0 row50\" >50</th> \n",
       "        <td id=\"T_aaa42c98_476a_11ea_89ec_c4b301c40d7brow50_col0\" class=\"data row50 col0\" >0.5</td> \n",
       "        <td id=\"T_aaa42c98_476a_11ea_89ec_c4b301c40d7brow50_col1\" class=\"data row50 col1\" >0.127715</td> \n",
       "        <td id=\"T_aaa42c98_476a_11ea_89ec_c4b301c40d7brow50_col2\" class=\"data row50 col2\" >0.581861</td> \n",
       "        <td id=\"T_aaa42c98_476a_11ea_89ec_c4b301c40d7brow50_col3\" class=\"data row50 col3\" >0.209455</td> \n",
       "    </tr>    <tr> \n",
       "        <th id=\"T_aaa42c98_476a_11ea_89ec_c4b301c40d7blevel0_row51\" class=\"row_heading level0 row51\" >51</th> \n",
       "        <td id=\"T_aaa42c98_476a_11ea_89ec_c4b301c40d7brow51_col0\" class=\"data row51 col0\" >0.51</td> \n",
       "        <td id=\"T_aaa42c98_476a_11ea_89ec_c4b301c40d7brow51_col1\" class=\"data row51 col1\" >0.118149</td> \n",
       "        <td id=\"T_aaa42c98_476a_11ea_89ec_c4b301c40d7brow51_col2\" class=\"data row51 col2\" >0.585897</td> \n",
       "        <td id=\"T_aaa42c98_476a_11ea_89ec_c4b301c40d7brow51_col3\" class=\"data row51 col3\" >0.196644</td> \n",
       "    </tr>    <tr> \n",
       "        <th id=\"T_aaa42c98_476a_11ea_89ec_c4b301c40d7blevel0_row52\" class=\"row_heading level0 row52\" >52</th> \n",
       "        <td id=\"T_aaa42c98_476a_11ea_89ec_c4b301c40d7brow52_col0\" class=\"data row52 col0\" >0.52</td> \n",
       "        <td id=\"T_aaa42c98_476a_11ea_89ec_c4b301c40d7brow52_col1\" class=\"data row52 col1\" >0.108583</td> \n",
       "        <td id=\"T_aaa42c98_476a_11ea_89ec_c4b301c40d7brow52_col2\" class=\"data row52 col2\" >0.592384</td> \n",
       "        <td id=\"T_aaa42c98_476a_11ea_89ec_c4b301c40d7brow52_col3\" class=\"data row52 col3\" >0.183526</td> \n",
       "    </tr>    <tr> \n",
       "        <th id=\"T_aaa42c98_476a_11ea_89ec_c4b301c40d7blevel0_row53\" class=\"row_heading level0 row53\" >53</th> \n",
       "        <td id=\"T_aaa42c98_476a_11ea_89ec_c4b301c40d7brow53_col0\" class=\"data row53 col0\" >0.53</td> \n",
       "        <td id=\"T_aaa42c98_476a_11ea_89ec_c4b301c40d7brow53_col1\" class=\"data row53 col1\" >0.0974664</td> \n",
       "        <td id=\"T_aaa42c98_476a_11ea_89ec_c4b301c40d7brow53_col2\" class=\"data row53 col2\" >0.592767</td> \n",
       "        <td id=\"T_aaa42c98_476a_11ea_89ec_c4b301c40d7brow53_col3\" class=\"data row53 col3\" >0.167407</td> \n",
       "    </tr>    <tr> \n",
       "        <th id=\"T_aaa42c98_476a_11ea_89ec_c4b301c40d7blevel0_row54\" class=\"row_heading level0 row54\" >54</th> \n",
       "        <td id=\"T_aaa42c98_476a_11ea_89ec_c4b301c40d7brow54_col0\" class=\"data row54 col0\" >0.54</td> \n",
       "        <td id=\"T_aaa42c98_476a_11ea_89ec_c4b301c40d7brow54_col1\" class=\"data row54 col1\" >0.0837642</td> \n",
       "        <td id=\"T_aaa42c98_476a_11ea_89ec_c4b301c40d7brow54_col2\" class=\"data row54 col2\" >0.589091</td> \n",
       "        <td id=\"T_aaa42c98_476a_11ea_89ec_c4b301c40d7brow54_col3\" class=\"data row54 col3\" >0.146673</td> \n",
       "    </tr>    <tr> \n",
       "        <th id=\"T_aaa42c98_476a_11ea_89ec_c4b301c40d7blevel0_row55\" class=\"row_heading level0 row55\" >55</th> \n",
       "        <td id=\"T_aaa42c98_476a_11ea_89ec_c4b301c40d7brow55_col0\" class=\"data row55 col0\" >0.55</td> \n",
       "        <td id=\"T_aaa42c98_476a_11ea_89ec_c4b301c40d7brow55_col1\" class=\"data row55 col1\" >0.0723888</td> \n",
       "        <td id=\"T_aaa42c98_476a_11ea_89ec_c4b301c40d7brow55_col2\" class=\"data row55 col2\" >0.578512</td> \n",
       "        <td id=\"T_aaa42c98_476a_11ea_89ec_c4b301c40d7brow55_col3\" class=\"data row55 col3\" >0.128676</td> \n",
       "    </tr>    <tr> \n",
       "        <th id=\"T_aaa42c98_476a_11ea_89ec_c4b301c40d7blevel0_row56\" class=\"row_heading level0 row56\" >56</th> \n",
       "        <td id=\"T_aaa42c98_476a_11ea_89ec_c4b301c40d7brow56_col0\" class=\"data row56 col0\" >0.56</td> \n",
       "        <td id=\"T_aaa42c98_476a_11ea_89ec_c4b301c40d7brow56_col1\" class=\"data row56 col1\" >0.0646329</td> \n",
       "        <td id=\"T_aaa42c98_476a_11ea_89ec_c4b301c40d7brow56_col2\" class=\"data row56 col2\" >0.596659</td> \n",
       "        <td id=\"T_aaa42c98_476a_11ea_89ec_c4b301c40d7brow56_col3\" class=\"data row56 col3\" >0.116632</td> \n",
       "    </tr>    <tr> \n",
       "        <th id=\"T_aaa42c98_476a_11ea_89ec_c4b301c40d7blevel0_row57\" class=\"row_heading level0 row57\" >57</th> \n",
       "        <td id=\"T_aaa42c98_476a_11ea_89ec_c4b301c40d7brow57_col0\" class=\"data row57 col0\" >0.57</td> \n",
       "        <td id=\"T_aaa42c98_476a_11ea_89ec_c4b301c40d7brow57_col1\" class=\"data row57 col1\" >0.0568769</td> \n",
       "        <td id=\"T_aaa42c98_476a_11ea_89ec_c4b301c40d7brow57_col2\" class=\"data row57 col2\" >0.609418</td> \n",
       "        <td id=\"T_aaa42c98_476a_11ea_89ec_c4b301c40d7brow57_col3\" class=\"data row57 col3\" >0.104044</td> \n",
       "    </tr>    <tr> \n",
       "        <th id=\"T_aaa42c98_476a_11ea_89ec_c4b301c40d7blevel0_row58\" class=\"row_heading level0 row58\" >58</th> \n",
       "        <td id=\"T_aaa42c98_476a_11ea_89ec_c4b301c40d7brow58_col0\" class=\"data row58 col0\" >0.58</td> \n",
       "        <td id=\"T_aaa42c98_476a_11ea_89ec_c4b301c40d7brow58_col1\" class=\"data row58 col1\" >0.0475698</td> \n",
       "        <td id=\"T_aaa42c98_476a_11ea_89ec_c4b301c40d7brow58_col2\" class=\"data row58 col2\" >0.599349</td> \n",
       "        <td id=\"T_aaa42c98_476a_11ea_89ec_c4b301c40d7brow58_col3\" class=\"data row58 col3\" >0.0881437</td> \n",
       "    </tr>    <tr> \n",
       "        <th id=\"T_aaa42c98_476a_11ea_89ec_c4b301c40d7blevel0_row59\" class=\"row_heading level0 row59\" >59</th> \n",
       "        <td id=\"T_aaa42c98_476a_11ea_89ec_c4b301c40d7brow59_col0\" class=\"data row59 col0\" >0.59</td> \n",
       "        <td id=\"T_aaa42c98_476a_11ea_89ec_c4b301c40d7brow59_col1\" class=\"data row59 col1\" >0.0429162</td> \n",
       "        <td id=\"T_aaa42c98_476a_11ea_89ec_c4b301c40d7brow59_col2\" class=\"data row59 col2\" >0.638462</td> \n",
       "        <td id=\"T_aaa42c98_476a_11ea_89ec_c4b301c40d7brow59_col3\" class=\"data row59 col3\" >0.0804264</td> \n",
       "    </tr>    <tr> \n",
       "        <th id=\"T_aaa42c98_476a_11ea_89ec_c4b301c40d7blevel0_row60\" class=\"row_heading level0 row60\" >60</th> \n",
       "        <td id=\"T_aaa42c98_476a_11ea_89ec_c4b301c40d7brow60_col0\" class=\"data row60 col0\" >0.6</td> \n",
       "        <td id=\"T_aaa42c98_476a_11ea_89ec_c4b301c40d7brow60_col1\" class=\"data row60 col1\" >0.0356774</td> \n",
       "        <td id=\"T_aaa42c98_476a_11ea_89ec_c4b301c40d7brow60_col2\" class=\"data row60 col2\" >0.633028</td> \n",
       "        <td id=\"T_aaa42c98_476a_11ea_89ec_c4b301c40d7brow60_col3\" class=\"data row60 col3\" >0.0675477</td> \n",
       "    </tr>    <tr> \n",
       "        <th id=\"T_aaa42c98_476a_11ea_89ec_c4b301c40d7blevel0_row61\" class=\"row_heading level0 row61\" >61</th> \n",
       "        <td id=\"T_aaa42c98_476a_11ea_89ec_c4b301c40d7brow61_col0\" class=\"data row61 col0\" >0.61</td> \n",
       "        <td id=\"T_aaa42c98_476a_11ea_89ec_c4b301c40d7brow61_col1\" class=\"data row61 col1\" >0.0294726</td> \n",
       "        <td id=\"T_aaa42c98_476a_11ea_89ec_c4b301c40d7brow61_col2\" class=\"data row61 col2\" >0.633333</td> \n",
       "        <td id=\"T_aaa42c98_476a_11ea_89ec_c4b301c40d7brow61_col3\" class=\"data row61 col3\" >0.0563241</td> \n",
       "    </tr>    <tr> \n",
       "        <th id=\"T_aaa42c98_476a_11ea_89ec_c4b301c40d7blevel0_row62\" class=\"row_heading level0 row62\" >62</th> \n",
       "        <td id=\"T_aaa42c98_476a_11ea_89ec_c4b301c40d7brow62_col0\" class=\"data row62 col0\" >0.62</td> \n",
       "        <td id=\"T_aaa42c98_476a_11ea_89ec_c4b301c40d7brow62_col1\" class=\"data row62 col1\" >0.0240434</td> \n",
       "        <td id=\"T_aaa42c98_476a_11ea_89ec_c4b301c40d7brow62_col2\" class=\"data row62 col2\" >0.641379</td> \n",
       "        <td id=\"T_aaa42c98_476a_11ea_89ec_c4b301c40d7brow62_col3\" class=\"data row62 col3\" >0.0463494</td> \n",
       "    </tr>    <tr> \n",
       "        <th id=\"T_aaa42c98_476a_11ea_89ec_c4b301c40d7blevel0_row63\" class=\"row_heading level0 row63\" >63</th> \n",
       "        <td id=\"T_aaa42c98_476a_11ea_89ec_c4b301c40d7brow63_col0\" class=\"data row63 col0\" >0.63</td> \n",
       "        <td id=\"T_aaa42c98_476a_11ea_89ec_c4b301c40d7brow63_col1\" class=\"data row63 col1\" >0.0193899</td> \n",
       "        <td id=\"T_aaa42c98_476a_11ea_89ec_c4b301c40d7brow63_col2\" class=\"data row63 col2\" >0.657895</td> \n",
       "        <td id=\"T_aaa42c98_476a_11ea_89ec_c4b301c40d7brow63_col3\" class=\"data row63 col3\" >0.0376695</td> \n",
       "    </tr>    <tr> \n",
       "        <th id=\"T_aaa42c98_476a_11ea_89ec_c4b301c40d7blevel0_row64\" class=\"row_heading level0 row64\" >64</th> \n",
       "        <td id=\"T_aaa42c98_476a_11ea_89ec_c4b301c40d7brow64_col0\" class=\"data row64 col0\" >0.64</td> \n",
       "        <td id=\"T_aaa42c98_476a_11ea_89ec_c4b301c40d7brow64_col1\" class=\"data row64 col1\" >0.0168046</td> \n",
       "        <td id=\"T_aaa42c98_476a_11ea_89ec_c4b301c40d7brow64_col2\" class=\"data row64 col2\" >0.663265</td> \n",
       "        <td id=\"T_aaa42c98_476a_11ea_89ec_c4b301c40d7brow64_col3\" class=\"data row64 col3\" >0.0327786</td> \n",
       "    </tr>    <tr> \n",
       "        <th id=\"T_aaa42c98_476a_11ea_89ec_c4b301c40d7blevel0_row65\" class=\"row_heading level0 row65\" >65</th> \n",
       "        <td id=\"T_aaa42c98_476a_11ea_89ec_c4b301c40d7brow65_col0\" class=\"data row65 col0\" >0.65</td> \n",
       "        <td id=\"T_aaa42c98_476a_11ea_89ec_c4b301c40d7brow65_col1\" class=\"data row65 col1\" >0.0142192</td> \n",
       "        <td id=\"T_aaa42c98_476a_11ea_89ec_c4b301c40d7brow65_col2\" class=\"data row65 col2\" >0.662651</td> \n",
       "        <td id=\"T_aaa42c98_476a_11ea_89ec_c4b301c40d7brow65_col3\" class=\"data row65 col3\" >0.0278411</td> \n",
       "    </tr>    <tr> \n",
       "        <th id=\"T_aaa42c98_476a_11ea_89ec_c4b301c40d7blevel0_row66\" class=\"row_heading level0 row66\" >66</th> \n",
       "        <td id=\"T_aaa42c98_476a_11ea_89ec_c4b301c40d7brow66_col0\" class=\"data row66 col0\" >0.66</td> \n",
       "        <td id=\"T_aaa42c98_476a_11ea_89ec_c4b301c40d7brow66_col1\" class=\"data row66 col1\" >0.012668</td> \n",
       "        <td id=\"T_aaa42c98_476a_11ea_89ec_c4b301c40d7brow66_col2\" class=\"data row66 col2\" >0.662162</td> \n",
       "        <td id=\"T_aaa42c98_476a_11ea_89ec_c4b301c40d7brow66_col3\" class=\"data row66 col3\" >0.0248605</td> \n",
       "    </tr>    <tr> \n",
       "        <th id=\"T_aaa42c98_476a_11ea_89ec_c4b301c40d7blevel0_row67\" class=\"row_heading level0 row67\" >67</th> \n",
       "        <td id=\"T_aaa42c98_476a_11ea_89ec_c4b301c40d7brow67_col0\" class=\"data row67 col0\" >0.67</td> \n",
       "        <td id=\"T_aaa42c98_476a_11ea_89ec_c4b301c40d7brow67_col1\" class=\"data row67 col1\" >0.0111169</td> \n",
       "        <td id=\"T_aaa42c98_476a_11ea_89ec_c4b301c40d7brow67_col2\" class=\"data row67 col2\" >0.661538</td> \n",
       "        <td id=\"T_aaa42c98_476a_11ea_89ec_c4b301c40d7brow67_col3\" class=\"data row67 col3\" >0.0218663</td> \n",
       "    </tr>    <tr> \n",
       "        <th id=\"T_aaa42c98_476a_11ea_89ec_c4b301c40d7blevel0_row68\" class=\"row_heading level0 row68\" >68</th> \n",
       "        <td id=\"T_aaa42c98_476a_11ea_89ec_c4b301c40d7brow68_col0\" class=\"data row68 col0\" >0.68</td> \n",
       "        <td id=\"T_aaa42c98_476a_11ea_89ec_c4b301c40d7brow68_col1\" class=\"data row68 col1\" >0.00801448</td> \n",
       "        <td id=\"T_aaa42c98_476a_11ea_89ec_c4b301c40d7brow68_col2\" class=\"data row68 col2\" >0.62</td> \n",
       "        <td id=\"T_aaa42c98_476a_11ea_89ec_c4b301c40d7brow68_col3\" class=\"data row68 col3\" >0.0158244</td> \n",
       "    </tr>    <tr> \n",
       "        <th id=\"T_aaa42c98_476a_11ea_89ec_c4b301c40d7blevel0_row69\" class=\"row_heading level0 row69\" >69</th> \n",
       "        <td id=\"T_aaa42c98_476a_11ea_89ec_c4b301c40d7brow69_col0\" class=\"data row69 col0\" >0.69</td> \n",
       "        <td id=\"T_aaa42c98_476a_11ea_89ec_c4b301c40d7brow69_col1\" class=\"data row69 col1\" >0.00723888</td> \n",
       "        <td id=\"T_aaa42c98_476a_11ea_89ec_c4b301c40d7brow69_col2\" class=\"data row69 col2\" >0.636364</td> \n",
       "        <td id=\"T_aaa42c98_476a_11ea_89ec_c4b301c40d7brow69_col3\" class=\"data row69 col3\" >0.0143149</td> \n",
       "    </tr>    <tr> \n",
       "        <th id=\"T_aaa42c98_476a_11ea_89ec_c4b301c40d7blevel0_row70\" class=\"row_heading level0 row70\" >70</th> \n",
       "        <td id=\"T_aaa42c98_476a_11ea_89ec_c4b301c40d7brow70_col0\" class=\"data row70 col0\" >0.7</td> \n",
       "        <td id=\"T_aaa42c98_476a_11ea_89ec_c4b301c40d7brow70_col1\" class=\"data row70 col1\" >0.00594623</td> \n",
       "        <td id=\"T_aaa42c98_476a_11ea_89ec_c4b301c40d7brow70_col2\" class=\"data row70 col2\" >0.638889</td> \n",
       "        <td id=\"T_aaa42c98_476a_11ea_89ec_c4b301c40d7brow70_col3\" class=\"data row70 col3\" >0.0117828</td> \n",
       "    </tr>    <tr> \n",
       "        <th id=\"T_aaa42c98_476a_11ea_89ec_c4b301c40d7blevel0_row71\" class=\"row_heading level0 row71\" >71</th> \n",
       "        <td id=\"T_aaa42c98_476a_11ea_89ec_c4b301c40d7brow71_col0\" class=\"data row71 col0\" >0.71</td> \n",
       "        <td id=\"T_aaa42c98_476a_11ea_89ec_c4b301c40d7brow71_col1\" class=\"data row71 col1\" >0.0049121</td> \n",
       "        <td id=\"T_aaa42c98_476a_11ea_89ec_c4b301c40d7brow71_col2\" class=\"data row71 col2\" >0.633333</td> \n",
       "        <td id=\"T_aaa42c98_476a_11ea_89ec_c4b301c40d7brow71_col3\" class=\"data row71 col3\" >0.00974859</td> \n",
       "    </tr>    <tr> \n",
       "        <th id=\"T_aaa42c98_476a_11ea_89ec_c4b301c40d7blevel0_row72\" class=\"row_heading level0 row72\" >72</th> \n",
       "        <td id=\"T_aaa42c98_476a_11ea_89ec_c4b301c40d7brow72_col0\" class=\"data row72 col0\" >0.72</td> \n",
       "        <td id=\"T_aaa42c98_476a_11ea_89ec_c4b301c40d7brow72_col1\" class=\"data row72 col1\" >0.00465357</td> \n",
       "        <td id=\"T_aaa42c98_476a_11ea_89ec_c4b301c40d7brow72_col2\" class=\"data row72 col2\" >0.642857</td> \n",
       "        <td id=\"T_aaa42c98_476a_11ea_89ec_c4b301c40d7brow72_col3\" class=\"data row72 col3\" >0.00924025</td> \n",
       "    </tr>    <tr> \n",
       "        <th id=\"T_aaa42c98_476a_11ea_89ec_c4b301c40d7blevel0_row73\" class=\"row_heading level0 row73\" >73</th> \n",
       "        <td id=\"T_aaa42c98_476a_11ea_89ec_c4b301c40d7brow73_col0\" class=\"data row73 col0\" >0.73</td> \n",
       "        <td id=\"T_aaa42c98_476a_11ea_89ec_c4b301c40d7brow73_col1\" class=\"data row73 col1\" >0.00361944</td> \n",
       "        <td id=\"T_aaa42c98_476a_11ea_89ec_c4b301c40d7brow73_col2\" class=\"data row73 col2\" >0.583333</td> \n",
       "        <td id=\"T_aaa42c98_476a_11ea_89ec_c4b301c40d7brow73_col3\" class=\"data row73 col3\" >0.00719424</td> \n",
       "    </tr>    <tr> \n",
       "        <th id=\"T_aaa42c98_476a_11ea_89ec_c4b301c40d7blevel0_row74\" class=\"row_heading level0 row74\" >74</th> \n",
       "        <td id=\"T_aaa42c98_476a_11ea_89ec_c4b301c40d7brow74_col0\" class=\"data row74 col0\" >0.74</td> \n",
       "        <td id=\"T_aaa42c98_476a_11ea_89ec_c4b301c40d7brow74_col1\" class=\"data row74 col1\" >0.00336091</td> \n",
       "        <td id=\"T_aaa42c98_476a_11ea_89ec_c4b301c40d7brow74_col2\" class=\"data row74 col2\" >0.684211</td> \n",
       "        <td id=\"T_aaa42c98_476a_11ea_89ec_c4b301c40d7brow74_col3\" class=\"data row74 col3\" >0.00668896</td> \n",
       "    </tr>    <tr> \n",
       "        <th id=\"T_aaa42c98_476a_11ea_89ec_c4b301c40d7blevel0_row75\" class=\"row_heading level0 row75\" >75</th> \n",
       "        <td id=\"T_aaa42c98_476a_11ea_89ec_c4b301c40d7brow75_col0\" class=\"data row75 col0\" >0.75</td> \n",
       "        <td id=\"T_aaa42c98_476a_11ea_89ec_c4b301c40d7brow75_col1\" class=\"data row75 col1\" >0.00206825</td> \n",
       "        <td id=\"T_aaa42c98_476a_11ea_89ec_c4b301c40d7brow75_col2\" class=\"data row75 col2\" >0.615385</td> \n",
       "        <td id=\"T_aaa42c98_476a_11ea_89ec_c4b301c40d7brow75_col3\" class=\"data row75 col3\" >0.00412265</td> \n",
       "    </tr>    <tr> \n",
       "        <th id=\"T_aaa42c98_476a_11ea_89ec_c4b301c40d7blevel0_row76\" class=\"row_heading level0 row76\" >76</th> \n",
       "        <td id=\"T_aaa42c98_476a_11ea_89ec_c4b301c40d7brow76_col0\" class=\"data row76 col0\" >0.76</td> \n",
       "        <td id=\"T_aaa42c98_476a_11ea_89ec_c4b301c40d7brow76_col1\" class=\"data row76 col1\" >0.00180972</td> \n",
       "        <td id=\"T_aaa42c98_476a_11ea_89ec_c4b301c40d7brow76_col2\" class=\"data row76 col2\" >0.583333</td> \n",
       "        <td id=\"T_aaa42c98_476a_11ea_89ec_c4b301c40d7brow76_col3\" class=\"data row76 col3\" >0.00360825</td> \n",
       "    </tr>    <tr> \n",
       "        <th id=\"T_aaa42c98_476a_11ea_89ec_c4b301c40d7blevel0_row77\" class=\"row_heading level0 row77\" >77</th> \n",
       "        <td id=\"T_aaa42c98_476a_11ea_89ec_c4b301c40d7brow77_col0\" class=\"data row77 col0\" >0.77</td> \n",
       "        <td id=\"T_aaa42c98_476a_11ea_89ec_c4b301c40d7brow77_col1\" class=\"data row77 col1\" >0.00129266</td> \n",
       "        <td id=\"T_aaa42c98_476a_11ea_89ec_c4b301c40d7brow77_col2\" class=\"data row77 col2\" >0.5</td> \n",
       "        <td id=\"T_aaa42c98_476a_11ea_89ec_c4b301c40d7brow77_col3\" class=\"data row77 col3\" >0.00257865</td> \n",
       "    </tr>    <tr> \n",
       "        <th id=\"T_aaa42c98_476a_11ea_89ec_c4b301c40d7blevel0_row78\" class=\"row_heading level0 row78\" >78</th> \n",
       "        <td id=\"T_aaa42c98_476a_11ea_89ec_c4b301c40d7brow78_col0\" class=\"data row78 col0\" >0.78</td> \n",
       "        <td id=\"T_aaa42c98_476a_11ea_89ec_c4b301c40d7brow78_col1\" class=\"data row78 col1\" >0.00129266</td> \n",
       "        <td id=\"T_aaa42c98_476a_11ea_89ec_c4b301c40d7brow78_col2\" class=\"data row78 col2\" >0.625</td> \n",
       "        <td id=\"T_aaa42c98_476a_11ea_89ec_c4b301c40d7brow78_col3\" class=\"data row78 col3\" >0.00257998</td> \n",
       "    </tr>    <tr> \n",
       "        <th id=\"T_aaa42c98_476a_11ea_89ec_c4b301c40d7blevel0_row79\" class=\"row_heading level0 row79\" >79</th> \n",
       "        <td id=\"T_aaa42c98_476a_11ea_89ec_c4b301c40d7brow79_col0\" class=\"data row79 col0\" >0.79</td> \n",
       "        <td id=\"T_aaa42c98_476a_11ea_89ec_c4b301c40d7brow79_col1\" class=\"data row79 col1\" >0.00129266</td> \n",
       "        <td id=\"T_aaa42c98_476a_11ea_89ec_c4b301c40d7brow79_col2\" class=\"data row79 col2\" >0.625</td> \n",
       "        <td id=\"T_aaa42c98_476a_11ea_89ec_c4b301c40d7brow79_col3\" class=\"data row79 col3\" >0.00257998</td> \n",
       "    </tr>    <tr> \n",
       "        <th id=\"T_aaa42c98_476a_11ea_89ec_c4b301c40d7blevel0_row80\" class=\"row_heading level0 row80\" >80</th> \n",
       "        <td id=\"T_aaa42c98_476a_11ea_89ec_c4b301c40d7brow80_col0\" class=\"data row80 col0\" >0.8</td> \n",
       "        <td id=\"T_aaa42c98_476a_11ea_89ec_c4b301c40d7brow80_col1\" class=\"data row80 col1\" >0.00129266</td> \n",
       "        <td id=\"T_aaa42c98_476a_11ea_89ec_c4b301c40d7brow80_col2\" class=\"data row80 col2\" >0.625</td> \n",
       "        <td id=\"T_aaa42c98_476a_11ea_89ec_c4b301c40d7brow80_col3\" class=\"data row80 col3\" >0.00257998</td> \n",
       "    </tr>    <tr> \n",
       "        <th id=\"T_aaa42c98_476a_11ea_89ec_c4b301c40d7blevel0_row81\" class=\"row_heading level0 row81\" >81</th> \n",
       "        <td id=\"T_aaa42c98_476a_11ea_89ec_c4b301c40d7brow81_col0\" class=\"data row81 col0\" >0.81</td> \n",
       "        <td id=\"T_aaa42c98_476a_11ea_89ec_c4b301c40d7brow81_col1\" class=\"data row81 col1\" >0.00129266</td> \n",
       "        <td id=\"T_aaa42c98_476a_11ea_89ec_c4b301c40d7brow81_col2\" class=\"data row81 col2\" >0.625</td> \n",
       "        <td id=\"T_aaa42c98_476a_11ea_89ec_c4b301c40d7brow81_col3\" class=\"data row81 col3\" >0.00257998</td> \n",
       "    </tr>    <tr> \n",
       "        <th id=\"T_aaa42c98_476a_11ea_89ec_c4b301c40d7blevel0_row82\" class=\"row_heading level0 row82\" >82</th> \n",
       "        <td id=\"T_aaa42c98_476a_11ea_89ec_c4b301c40d7brow82_col0\" class=\"data row82 col0\" >0.82</td> \n",
       "        <td id=\"T_aaa42c98_476a_11ea_89ec_c4b301c40d7brow82_col1\" class=\"data row82 col1\" >0.00129266</td> \n",
       "        <td id=\"T_aaa42c98_476a_11ea_89ec_c4b301c40d7brow82_col2\" class=\"data row82 col2\" >0.625</td> \n",
       "        <td id=\"T_aaa42c98_476a_11ea_89ec_c4b301c40d7brow82_col3\" class=\"data row82 col3\" >0.00257998</td> \n",
       "    </tr>    <tr> \n",
       "        <th id=\"T_aaa42c98_476a_11ea_89ec_c4b301c40d7blevel0_row83\" class=\"row_heading level0 row83\" >83</th> \n",
       "        <td id=\"T_aaa42c98_476a_11ea_89ec_c4b301c40d7brow83_col0\" class=\"data row83 col0\" >0.83</td> \n",
       "        <td id=\"T_aaa42c98_476a_11ea_89ec_c4b301c40d7brow83_col1\" class=\"data row83 col1\" >0.00129266</td> \n",
       "        <td id=\"T_aaa42c98_476a_11ea_89ec_c4b301c40d7brow83_col2\" class=\"data row83 col2\" >0.714286</td> \n",
       "        <td id=\"T_aaa42c98_476a_11ea_89ec_c4b301c40d7brow83_col3\" class=\"data row83 col3\" >0.00258065</td> \n",
       "    </tr>    <tr> \n",
       "        <th id=\"T_aaa42c98_476a_11ea_89ec_c4b301c40d7blevel0_row84\" class=\"row_heading level0 row84\" >84</th> \n",
       "        <td id=\"T_aaa42c98_476a_11ea_89ec_c4b301c40d7brow84_col0\" class=\"data row84 col0\" >0.84</td> \n",
       "        <td id=\"T_aaa42c98_476a_11ea_89ec_c4b301c40d7brow84_col1\" class=\"data row84 col1\" >0.00103413</td> \n",
       "        <td id=\"T_aaa42c98_476a_11ea_89ec_c4b301c40d7brow84_col2\" class=\"data row84 col2\" >0.666667</td> \n",
       "        <td id=\"T_aaa42c98_476a_11ea_89ec_c4b301c40d7brow84_col3\" class=\"data row84 col3\" >0.00206505</td> \n",
       "    </tr>    <tr> \n",
       "        <th id=\"T_aaa42c98_476a_11ea_89ec_c4b301c40d7blevel0_row85\" class=\"row_heading level0 row85\" >85</th> \n",
       "        <td id=\"T_aaa42c98_476a_11ea_89ec_c4b301c40d7brow85_col0\" class=\"data row85 col0\" >0.85</td> \n",
       "        <td id=\"T_aaa42c98_476a_11ea_89ec_c4b301c40d7brow85_col1\" class=\"data row85 col1\" >0.000775595</td> \n",
       "        <td id=\"T_aaa42c98_476a_11ea_89ec_c4b301c40d7brow85_col2\" class=\"data row85 col2\" >0.6</td> \n",
       "        <td id=\"T_aaa42c98_476a_11ea_89ec_c4b301c40d7brow85_col3\" class=\"data row85 col3\" >0.00154919</td> \n",
       "    </tr>    <tr> \n",
       "        <th id=\"T_aaa42c98_476a_11ea_89ec_c4b301c40d7blevel0_row86\" class=\"row_heading level0 row86\" >86</th> \n",
       "        <td id=\"T_aaa42c98_476a_11ea_89ec_c4b301c40d7brow86_col0\" class=\"data row86 col0\" >0.86</td> \n",
       "        <td id=\"T_aaa42c98_476a_11ea_89ec_c4b301c40d7brow86_col1\" class=\"data row86 col1\" >0.000517063</td> \n",
       "        <td id=\"T_aaa42c98_476a_11ea_89ec_c4b301c40d7brow86_col2\" class=\"data row86 col2\" >0.5</td> \n",
       "        <td id=\"T_aaa42c98_476a_11ea_89ec_c4b301c40d7brow86_col3\" class=\"data row86 col3\" >0.00103306</td> \n",
       "    </tr>    <tr> \n",
       "        <th id=\"T_aaa42c98_476a_11ea_89ec_c4b301c40d7blevel0_row87\" class=\"row_heading level0 row87\" >87</th> \n",
       "        <td id=\"T_aaa42c98_476a_11ea_89ec_c4b301c40d7brow87_col0\" class=\"data row87 col0\" >0.87</td> \n",
       "        <td id=\"T_aaa42c98_476a_11ea_89ec_c4b301c40d7brow87_col1\" class=\"data row87 col1\" >0.000517063</td> \n",
       "        <td id=\"T_aaa42c98_476a_11ea_89ec_c4b301c40d7brow87_col2\" class=\"data row87 col2\" >0.5</td> \n",
       "        <td id=\"T_aaa42c98_476a_11ea_89ec_c4b301c40d7brow87_col3\" class=\"data row87 col3\" >0.00103306</td> \n",
       "    </tr>    <tr> \n",
       "        <th id=\"T_aaa42c98_476a_11ea_89ec_c4b301c40d7blevel0_row88\" class=\"row_heading level0 row88\" >88</th> \n",
       "        <td id=\"T_aaa42c98_476a_11ea_89ec_c4b301c40d7brow88_col0\" class=\"data row88 col0\" >0.88</td> \n",
       "        <td id=\"T_aaa42c98_476a_11ea_89ec_c4b301c40d7brow88_col1\" class=\"data row88 col1\" >0.000258532</td> \n",
       "        <td id=\"T_aaa42c98_476a_11ea_89ec_c4b301c40d7brow88_col2\" class=\"data row88 col2\" >0.333333</td> \n",
       "        <td id=\"T_aaa42c98_476a_11ea_89ec_c4b301c40d7brow88_col3\" class=\"data row88 col3\" >0.000516662</td> \n",
       "    </tr>    <tr> \n",
       "        <th id=\"T_aaa42c98_476a_11ea_89ec_c4b301c40d7blevel0_row89\" class=\"row_heading level0 row89\" >89</th> \n",
       "        <td id=\"T_aaa42c98_476a_11ea_89ec_c4b301c40d7brow89_col0\" class=\"data row89 col0\" >0.89</td> \n",
       "        <td id=\"T_aaa42c98_476a_11ea_89ec_c4b301c40d7brow89_col1\" class=\"data row89 col1\" >0.000258532</td> \n",
       "        <td id=\"T_aaa42c98_476a_11ea_89ec_c4b301c40d7brow89_col2\" class=\"data row89 col2\" >0.333333</td> \n",
       "        <td id=\"T_aaa42c98_476a_11ea_89ec_c4b301c40d7brow89_col3\" class=\"data row89 col3\" >0.000516662</td> \n",
       "    </tr>    <tr> \n",
       "        <th id=\"T_aaa42c98_476a_11ea_89ec_c4b301c40d7blevel0_row90\" class=\"row_heading level0 row90\" >90</th> \n",
       "        <td id=\"T_aaa42c98_476a_11ea_89ec_c4b301c40d7brow90_col0\" class=\"data row90 col0\" >0.9</td> \n",
       "        <td id=\"T_aaa42c98_476a_11ea_89ec_c4b301c40d7brow90_col1\" class=\"data row90 col1\" >2.58532e-24</td> \n",
       "        <td id=\"T_aaa42c98_476a_11ea_89ec_c4b301c40d7brow90_col2\" class=\"data row90 col2\" >5e-21</td> \n",
       "        <td id=\"T_aaa42c98_476a_11ea_89ec_c4b301c40d7brow90_col3\" class=\"data row90 col3\" >1.20019e-20</td> \n",
       "    </tr>    <tr> \n",
       "        <th id=\"T_aaa42c98_476a_11ea_89ec_c4b301c40d7blevel0_row91\" class=\"row_heading level0 row91\" >91</th> \n",
       "        <td id=\"T_aaa42c98_476a_11ea_89ec_c4b301c40d7brow91_col0\" class=\"data row91 col0\" >0.91</td> \n",
       "        <td id=\"T_aaa42c98_476a_11ea_89ec_c4b301c40d7brow91_col1\" class=\"data row91 col1\" >2.58532e-24</td> \n",
       "        <td id=\"T_aaa42c98_476a_11ea_89ec_c4b301c40d7brow91_col2\" class=\"data row91 col2\" >1e-20</td> \n",
       "        <td id=\"T_aaa42c98_476a_11ea_89ec_c4b301c40d7brow91_col3\" class=\"data row91 col3\" >1.33356e-20</td> \n",
       "    </tr>    <tr> \n",
       "        <th id=\"T_aaa42c98_476a_11ea_89ec_c4b301c40d7blevel0_row92\" class=\"row_heading level0 row92\" >92</th> \n",
       "        <td id=\"T_aaa42c98_476a_11ea_89ec_c4b301c40d7brow92_col0\" class=\"data row92 col0\" >0.92</td> \n",
       "        <td id=\"T_aaa42c98_476a_11ea_89ec_c4b301c40d7brow92_col1\" class=\"data row92 col1\" >2.58532e-24</td> \n",
       "        <td id=\"T_aaa42c98_476a_11ea_89ec_c4b301c40d7brow92_col2\" class=\"data row92 col2\" >1e-20</td> \n",
       "        <td id=\"T_aaa42c98_476a_11ea_89ec_c4b301c40d7brow92_col3\" class=\"data row92 col3\" >1.33356e-20</td> \n",
       "    </tr>    <tr> \n",
       "        <th id=\"T_aaa42c98_476a_11ea_89ec_c4b301c40d7blevel0_row93\" class=\"row_heading level0 row93\" >93</th> \n",
       "        <td id=\"T_aaa42c98_476a_11ea_89ec_c4b301c40d7brow93_col0\" class=\"data row93 col0\" >0.93</td> \n",
       "        <td id=\"T_aaa42c98_476a_11ea_89ec_c4b301c40d7brow93_col1\" class=\"data row93 col1\" >2.58532e-24</td> \n",
       "        <td id=\"T_aaa42c98_476a_11ea_89ec_c4b301c40d7brow93_col2\" class=\"data row93 col2\" >1e-20</td> \n",
       "        <td id=\"T_aaa42c98_476a_11ea_89ec_c4b301c40d7brow93_col3\" class=\"data row93 col3\" >1.33356e-20</td> \n",
       "    </tr>    <tr> \n",
       "        <th id=\"T_aaa42c98_476a_11ea_89ec_c4b301c40d7blevel0_row94\" class=\"row_heading level0 row94\" >94</th> \n",
       "        <td id=\"T_aaa42c98_476a_11ea_89ec_c4b301c40d7brow94_col0\" class=\"data row94 col0\" >0.94</td> \n",
       "        <td id=\"T_aaa42c98_476a_11ea_89ec_c4b301c40d7brow94_col1\" class=\"data row94 col1\" >2.58532e-24</td> \n",
       "        <td id=\"T_aaa42c98_476a_11ea_89ec_c4b301c40d7brow94_col2\" class=\"data row94 col2\" >1e-20</td> \n",
       "        <td id=\"T_aaa42c98_476a_11ea_89ec_c4b301c40d7brow94_col3\" class=\"data row94 col3\" >1.33356e-20</td> \n",
       "    </tr>    <tr> \n",
       "        <th id=\"T_aaa42c98_476a_11ea_89ec_c4b301c40d7blevel0_row95\" class=\"row_heading level0 row95\" >95</th> \n",
       "        <td id=\"T_aaa42c98_476a_11ea_89ec_c4b301c40d7brow95_col0\" class=\"data row95 col0\" >0.95</td> \n",
       "        <td id=\"T_aaa42c98_476a_11ea_89ec_c4b301c40d7brow95_col1\" class=\"data row95 col1\" >2.58532e-24</td> \n",
       "        <td id=\"T_aaa42c98_476a_11ea_89ec_c4b301c40d7brow95_col2\" class=\"data row95 col2\" >1</td> \n",
       "        <td id=\"T_aaa42c98_476a_11ea_89ec_c4b301c40d7brow95_col3\" class=\"data row95 col3\" >2.00052e-20</td> \n",
       "    </tr>    <tr> \n",
       "        <th id=\"T_aaa42c98_476a_11ea_89ec_c4b301c40d7blevel0_row96\" class=\"row_heading level0 row96\" >96</th> \n",
       "        <td id=\"T_aaa42c98_476a_11ea_89ec_c4b301c40d7brow96_col0\" class=\"data row96 col0\" >0.96</td> \n",
       "        <td id=\"T_aaa42c98_476a_11ea_89ec_c4b301c40d7brow96_col1\" class=\"data row96 col1\" >2.58532e-24</td> \n",
       "        <td id=\"T_aaa42c98_476a_11ea_89ec_c4b301c40d7brow96_col2\" class=\"data row96 col2\" >1</td> \n",
       "        <td id=\"T_aaa42c98_476a_11ea_89ec_c4b301c40d7brow96_col3\" class=\"data row96 col3\" >2.00052e-20</td> \n",
       "    </tr>    <tr> \n",
       "        <th id=\"T_aaa42c98_476a_11ea_89ec_c4b301c40d7blevel0_row97\" class=\"row_heading level0 row97\" >97</th> \n",
       "        <td id=\"T_aaa42c98_476a_11ea_89ec_c4b301c40d7brow97_col0\" class=\"data row97 col0\" >0.97</td> \n",
       "        <td id=\"T_aaa42c98_476a_11ea_89ec_c4b301c40d7brow97_col1\" class=\"data row97 col1\" >2.58532e-24</td> \n",
       "        <td id=\"T_aaa42c98_476a_11ea_89ec_c4b301c40d7brow97_col2\" class=\"data row97 col2\" >1</td> \n",
       "        <td id=\"T_aaa42c98_476a_11ea_89ec_c4b301c40d7brow97_col3\" class=\"data row97 col3\" >2.00052e-20</td> \n",
       "    </tr>    <tr> \n",
       "        <th id=\"T_aaa42c98_476a_11ea_89ec_c4b301c40d7blevel0_row98\" class=\"row_heading level0 row98\" >98</th> \n",
       "        <td id=\"T_aaa42c98_476a_11ea_89ec_c4b301c40d7brow98_col0\" class=\"data row98 col0\" >0.98</td> \n",
       "        <td id=\"T_aaa42c98_476a_11ea_89ec_c4b301c40d7brow98_col1\" class=\"data row98 col1\" >2.58532e-24</td> \n",
       "        <td id=\"T_aaa42c98_476a_11ea_89ec_c4b301c40d7brow98_col2\" class=\"data row98 col2\" >1</td> \n",
       "        <td id=\"T_aaa42c98_476a_11ea_89ec_c4b301c40d7brow98_col3\" class=\"data row98 col3\" >2.00052e-20</td> \n",
       "    </tr>    <tr> \n",
       "        <th id=\"T_aaa42c98_476a_11ea_89ec_c4b301c40d7blevel0_row99\" class=\"row_heading level0 row99\" >99</th> \n",
       "        <td id=\"T_aaa42c98_476a_11ea_89ec_c4b301c40d7brow99_col0\" class=\"data row99 col0\" >0.99</td> \n",
       "        <td id=\"T_aaa42c98_476a_11ea_89ec_c4b301c40d7brow99_col1\" class=\"data row99 col1\" >2.58532e-24</td> \n",
       "        <td id=\"T_aaa42c98_476a_11ea_89ec_c4b301c40d7brow99_col2\" class=\"data row99 col2\" >1</td> \n",
       "        <td id=\"T_aaa42c98_476a_11ea_89ec_c4b301c40d7brow99_col3\" class=\"data row99 col3\" >2.00052e-20</td> \n",
       "    </tr>    <tr> \n",
       "        <th id=\"T_aaa42c98_476a_11ea_89ec_c4b301c40d7blevel0_row100\" class=\"row_heading level0 row100\" >100</th> \n",
       "        <td id=\"T_aaa42c98_476a_11ea_89ec_c4b301c40d7brow100_col0\" class=\"data row100 col0\" >1</td> \n",
       "        <td id=\"T_aaa42c98_476a_11ea_89ec_c4b301c40d7brow100_col1\" class=\"data row100 col1\" >2.58532e-24</td> \n",
       "        <td id=\"T_aaa42c98_476a_11ea_89ec_c4b301c40d7brow100_col2\" class=\"data row100 col2\" >1</td> \n",
       "        <td id=\"T_aaa42c98_476a_11ea_89ec_c4b301c40d7brow100_col3\" class=\"data row100 col3\" >2.00052e-20</td> \n",
       "    </tr></tbody> \n",
       "</table> "
      ],
      "text/plain": [
       "<pandas.io.formats.style.Styler at 0x10e0df550>"
      ]
     },
     "execution_count": 4,
     "metadata": {},
     "output_type": "execute_result"
    }
   ],
   "source": [
    "def get_prauc(frame, y, yhat, pos=1, neg=0, res=0.01):\n",
    "    \n",
    "    \"\"\" Calculates precision, recall, and f1 for a pandas dataframe of y \n",
    "        and yhat values.\n",
    "    \n",
    "    Args:\n",
    "        frame: Pandas dataframe of actual (y) and predicted (yhat) values.\n",
    "        y: Name of actual value column.\n",
    "        yhat: Name of predicted value column.\n",
    "        pos: Primary target value, default 1.\n",
    "        neg: Secondary target value, default 0.\n",
    "        res: Resolution by which to loop through cutoffs, default 0.01.\n",
    "    \n",
    "    Returns:\n",
    "        Pandas dataframe of precision, recall, and f1 values.\n",
    "        \n",
    "    \"\"\"\n",
    "    \n",
    "    frame_ = frame.copy(deep=True) # don't destroy original data\n",
    "    dname = 'd_' + str(y)          # column for predicted decisions\n",
    "    eps = 1e-20                    # for safe numerical operations\n",
    "    \n",
    "    # init p-r roc frame\n",
    "    prroc_frame = pd.DataFrame(columns=['cutoff', 'recall', 'precision', 'f1'])\n",
    "    \n",
    "    # loop through cutoffs to create p-r roc frame\n",
    "    for cutoff in np.arange(0, 1 + res, res):\n",
    "\n",
    "        # binarize decision to create confusion matrix values\n",
    "        frame_[dname] = np.where(frame_[yhat] > cutoff , 1, 0)\n",
    "        \n",
    "        # calculate confusion matrix values\n",
    "        tp = frame_[(frame_[dname] == pos) & (frame_[y] == pos)].shape[0]\n",
    "        fp = frame_[(frame_[dname] == pos) & (frame_[y] == neg)].shape[0]\n",
    "        tn = frame_[(frame_[dname] == neg) & (frame_[y] == neg)].shape[0]\n",
    "        fn = frame_[(frame_[dname] == neg) & (frame_[y] == pos)].shape[0]\n",
    "\n",
    "        # calculate precision, recall, and f1\n",
    "        recall = (tp + eps)/((tp + fn) + eps)\n",
    "        precision = (tp + eps)/((tp + fp) + eps)\n",
    "        f1 = 2/((1/(recall + eps)) + (1/(precision + eps)))\n",
    "        \n",
    "        # add new values to frame\n",
    "        prroc_frame = prroc_frame.append({'cutoff': cutoff,\n",
    "                                          'recall': recall,\n",
    "                                          'precision': precision,\n",
    "                                          'f1': f1}, \n",
    "                                          ignore_index=True)\n",
    "    \n",
    "    # housekeeping\n",
    "    del frame_\n",
    "    \n",
    "    return prroc_frame\n",
    "\n",
    "# calculate and display recall and precision\n",
    "#prauc_frame = get_prauc(test_yhat, y, yhat)\n",
    "prauc_frame = get_prauc(TEST, 'high_priced', '0')\n",
    "prauc_frame.style.set_caption('Recall and Precision')"
   ]
  },
  {
   "cell_type": "code",
   "execution_count": 5,
   "metadata": {},
   "outputs": [
    {
     "name": "stdout",
     "output_type": "stream",
     "text": [
      "Best F1 threshold: 0.24\n"
     ]
    }
   ],
   "source": [
    "# Find the max F1 cutoff to be used in the accuracy calculation\n",
    "\n",
    "xnn_cut = prauc_frame.loc[prauc_frame['f1'].idxmax(), 'cutoff'] # value associated w/ index of max. F1\n",
    "print('Best F1 threshold: %.2f' % xnn_cut)"
   ]
  },
  {
   "cell_type": "code",
   "execution_count": 6,
   "metadata": {},
   "outputs": [
    {
     "name": "stdout",
     "output_type": "stream",
     "text": [
      "{'AUC': 0.8678424054305, 'accuracy_score': 0.8685895819676265, 'log_loss': 0.23345289360148078, 'rmse': 0.26303913044949423, 'mcc': 0.4091994247849463, 'F1': 0.4684886803997553}\n"
     ]
    }
   ],
   "source": [
    "# Calculate test statistics\n",
    "Prediction = list(TEST['0'])\n",
    "Classification = list(TEST['0'].apply(lambda x: int(x >= 0.24)))\n",
    "Actual = list(TEST['high_priced'].apply(int))\n",
    "\n",
    "test_statistics = {}\n",
    "\n",
    "#classification_rep = classification_report(Actual, Classification, output_dict=True)\n",
    "classification_rep = classification_report(Actual, Classification, digits=3)\n",
    "\n",
    "test_statistics['AUC'] = roc_auc_score(Actual, Prediction)\n",
    "test_statistics['accuracy_score'] = accuracy_score(Actual, Classification)\n",
    "test_statistics['log_loss'] = log_loss(Actual, Prediction)\n",
    "test_statistics['rmse'] = math.sqrt(mean_squared_error(Actual, Prediction))\n",
    "test_statistics['mcc'] = matthews_corrcoef(Actual, Classification)\n",
    "#test_statistics['precision'] = classification_rep[1]['precision']\n",
    "#test_statistics['sensitivity'] = classification_rep[1]['recall']\n",
    "test_statistics['F1'] = f1_score(Actual, Classification)\n",
    "\n",
    "print(test_statistics)"
   ]
  },
  {
   "cell_type": "code",
   "execution_count": 7,
   "metadata": {},
   "outputs": [
    {
     "name": "stdout",
     "output_type": "stream",
     "text": [
      "             precision    recall  f1-score   support\n",
      "\n",
      "          0      0.953     0.898     0.925     35794\n",
      "          1      0.387     0.594     0.468      3868\n",
      "\n",
      "avg / total      0.898     0.869     0.881     39662\n",
      "\n"
     ]
    }
   ],
   "source": [
    "# recall of the positive class is also known as “sensitivity”\n",
    "# recall of the negative class is “specificity”\n",
    "print(classification_rep)"
   ]
  },
  {
   "cell_type": "code",
   "execution_count": 8,
   "metadata": {},
   "outputs": [
    {
     "data": {
      "image/png": "[encoded data removed]",
      "text/plain": [
       "<Figure size 432x288 with 1 Axes>"
      ]
     },
     "metadata": {
      "needs_background": "light"
     },
     "output_type": "display_data"
    }
   ],
   "source": [
    "fpr, tpr, threshold = roc_curve(Actual, Prediction)\n",
    "roc_auc = auc(fpr, tpr)\n",
    "\n",
    "plt.title('Receiver Operating Characteristic')\n",
    "plt.plot(fpr, tpr, 'b', label = 'AUC = %0.2f' % roc_auc)\n",
    "plt.legend(loc = 'lower right')\n",
    "plt.plot([0, 1], [0, 1],'r--')\n",
    "plt.xlim([0, 1])\n",
    "plt.ylim([0, 1])\n",
    "plt.ylabel('True Positive Rate')\n",
    "plt.xlabel('False Positive Rate')\n",
    "plt.show()\n",
    "\n"
   ]
  },
  {
   "cell_type": "code",
   "execution_count": 8,
   "metadata": {},
   "outputs": [],
   "source": [
    "# Shapley and prediction matrix\n",
    "\n",
    "SHAPLEY = TEST[[str(col) for col in range(0,12)]].copy()\n",
    "\n",
    "# Take the absolute value of the Shapley values\n",
    "\n",
    "for col in range(1, 12):\n",
    "    SHAPLEY[str(col)] = SHAPLEY[str(col)].apply(abs)\n",
    "    \n",
    "Global_Shapley_Feature_Importance = SHAPLEY[[str(col) for col in range(1,12)]].mean()\n",
    "Global_Shapley_Feature_Importance.index = Feature_names + ['Intercept']\n",
    "# Global_Shapley_Feature_Importance = Global_Shapley_Feature_Importance.sort_values(ascending=False)"
   ]
  },
  {
   "cell_type": "code",
   "execution_count": 9,
   "metadata": {},
   "outputs": [
    {
     "name": "stdout",
     "output_type": "stream",
     "text": [
      "Global Shapley Feature Importance\n"
     ]
    },
    {
     "data": {
      "text/plain": [
       "term_360                        0.000939\n",
       "conforming                      0.001832\n",
       "debt_to_income_ratio_missing    0.000098\n",
       "loan_amount_std                 0.091109\n",
       "loan_to_value_ratio_std         0.069885\n",
       "no_intro_rate_period_std        0.086347\n",
       "intro_rate_period_std           0.077052\n",
       "property_value_std              0.099896\n",
       "income_std                      0.015983\n",
       "debt_to_income_ratio_std        0.014954\n",
       "Intercept                       0.068418\n",
       "dtype: float64"
      ]
     },
     "execution_count": 9,
     "metadata": {},
     "output_type": "execute_result"
    }
   ],
   "source": [
    "print(\"Global Shapley Feature Importance\")\n",
    "\n",
    "Global_Shapley_Feature_Importance \n",
    "\n"
   ]
  },
  {
   "cell_type": "code",
   "execution_count": 10,
   "metadata": {},
   "outputs": [],
   "source": [
    "Feature_importance = pd.DataFrame(Global_Shapley_Feature_Importance)"
   ]
  },
  {
   "cell_type": "code",
   "execution_count": 39,
   "metadata": {},
   "outputs": [
    {
     "data": {
      "text/html": [
       "<div>\n",
       "<style scoped>\n",
       "    .dataframe tbody tr th:only-of-type {\n",
       "        vertical-align: middle;\n",
       "    }\n",
       "\n",
       "    .dataframe tbody tr th {\n",
       "        vertical-align: top;\n",
       "    }\n",
       "\n",
       "    .dataframe thead th {\n",
       "        text-align: right;\n",
       "    }\n",
       "</style>\n",
       "<table border=\"1\" class=\"dataframe\">\n",
       "  <thead>\n",
       "    <tr style=\"text-align: right;\">\n",
       "      <th></th>\n",
       "      <th>0</th>\n",
       "      <th>1</th>\n",
       "      <th>2</th>\n",
       "      <th>3</th>\n",
       "      <th>4</th>\n",
       "      <th>5</th>\n",
       "      <th>6</th>\n",
       "      <th>7</th>\n",
       "      <th>8</th>\n",
       "      <th>9</th>\n",
       "      <th>10</th>\n",
       "      <th>11</th>\n",
       "    </tr>\n",
       "  </thead>\n",
       "  <tbody>\n",
       "    <tr>\n",
       "      <th>0</th>\n",
       "      <td>0.173008</td>\n",
       "      <td>0.000624</td>\n",
       "      <td>0.000343</td>\n",
       "      <td>0.0</td>\n",
       "      <td>0.000443</td>\n",
       "      <td>0.123565</td>\n",
       "      <td>0.023575</td>\n",
       "      <td>0.027872</td>\n",
       "      <td>0.041322</td>\n",
       "      <td>0.018440</td>\n",
       "      <td>0.082873</td>\n",
       "      <td>0.068418</td>\n",
       "    </tr>\n",
       "    <tr>\n",
       "      <th>1</th>\n",
       "      <td>0.038878</td>\n",
       "      <td>0.000133</td>\n",
       "      <td>0.000727</td>\n",
       "      <td>0.0</td>\n",
       "      <td>0.056954</td>\n",
       "      <td>0.036275</td>\n",
       "      <td>0.810829</td>\n",
       "      <td>0.856231</td>\n",
       "      <td>0.068758</td>\n",
       "      <td>0.002783</td>\n",
       "      <td>0.012252</td>\n",
       "      <td>0.068418</td>\n",
       "    </tr>\n",
       "    <tr>\n",
       "      <th>2</th>\n",
       "      <td>0.384606</td>\n",
       "      <td>0.001084</td>\n",
       "      <td>0.000335</td>\n",
       "      <td>0.0</td>\n",
       "      <td>0.186659</td>\n",
       "      <td>0.223789</td>\n",
       "      <td>0.040831</td>\n",
       "      <td>0.047227</td>\n",
       "      <td>0.205099</td>\n",
       "      <td>0.020906</td>\n",
       "      <td>0.045908</td>\n",
       "      <td>0.068418</td>\n",
       "    </tr>\n",
       "    <tr>\n",
       "      <th>3</th>\n",
       "      <td>0.000521</td>\n",
       "      <td>0.006141</td>\n",
       "      <td>0.000096</td>\n",
       "      <td>0.0</td>\n",
       "      <td>0.006908</td>\n",
       "      <td>0.027597</td>\n",
       "      <td>0.012200</td>\n",
       "      <td>0.011565</td>\n",
       "      <td>0.025468</td>\n",
       "      <td>0.000478</td>\n",
       "      <td>0.000574</td>\n",
       "      <td>0.068418</td>\n",
       "    </tr>\n",
       "  </tbody>\n",
       "</table>\n",
       "</div>"
      ],
      "text/plain": [
       "          0         1         2    3         4         5         6         7  \\\n",
       "0  0.173008  0.000624  0.000343  0.0  0.000443  0.123565  0.023575  0.027872   \n",
       "1  0.038878  0.000133  0.000727  0.0  0.056954  0.036275  0.810829  0.856231   \n",
       "2  0.384606  0.001084  0.000335  0.0  0.186659  0.223789  0.040831  0.047227   \n",
       "3  0.000521  0.006141  0.000096  0.0  0.006908  0.027597  0.012200  0.011565   \n",
       "\n",
       "          8         9        10        11  \n",
       "0  0.041322  0.018440  0.082873  0.068418  \n",
       "1  0.068758  0.002783  0.012252  0.068418  \n",
       "2  0.205099  0.020906  0.045908  0.068418  \n",
       "3  0.025468  0.000478  0.000574  0.068418  "
      ]
     },
     "execution_count": 39,
     "metadata": {},
     "output_type": "execute_result"
    }
   ],
   "source": [
    "SHAPLEY.iloc[0:4,]"
   ]
  },
  {
   "cell_type": "code",
   "execution_count": 40,
   "metadata": {},
   "outputs": [
    {
     "name": "stdout",
     "output_type": "stream",
     "text": [
      "term_360                        0.001586\n",
      "conforming                      0.001852\n",
      "debt_to_income_ratio_missing    0.000002\n",
      "loan_amount_std                 0.017668\n",
      "loan_to_value_ratio_std         0.043951\n",
      "no_intro_rate_period_std        0.025870\n",
      "intro_rate_period_std           0.023711\n",
      "property_value_std              0.041305\n",
      "income_std                      0.008072\n",
      "debt_to_income_ratio_std        0.005996\n",
      "Intercept                       0.068418\n",
      "dtype: float64\n",
      "term_360                        0.000587\n",
      "conforming                      0.002882\n",
      "debt_to_income_ratio_missing    0.000009\n",
      "loan_amount_std                 0.052857\n",
      "loan_to_value_ratio_std         0.045348\n",
      "no_intro_rate_period_std        0.061389\n",
      "intro_rate_period_std           0.058826\n",
      "property_value_std              0.067599\n",
      "income_std                      0.009774\n",
      "debt_to_income_ratio_std        0.007228\n",
      "Intercept                       0.068418\n",
      "dtype: float64\n",
      "term_360                        0.000611\n",
      "conforming                      0.001575\n",
      "debt_to_income_ratio_missing    0.000080\n",
      "loan_amount_std                 0.137062\n",
      "loan_to_value_ratio_std         0.029260\n",
      "no_intro_rate_period_std        0.102655\n",
      "intro_rate_period_std           0.100319\n",
      "property_value_std              0.146438\n",
      "income_std                      0.011857\n",
      "debt_to_income_ratio_std        0.011083\n",
      "Intercept                       0.068418\n",
      "dtype: float64\n",
      "term_360                        0.000821\n",
      "conforming                      0.001615\n",
      "debt_to_income_ratio_missing    0.000160\n",
      "loan_amount_std                 0.095144\n",
      "loan_to_value_ratio_std         0.027177\n",
      "no_intro_rate_period_std        0.076919\n",
      "intro_rate_period_std           0.065077\n",
      "property_value_std              0.103522\n",
      "income_std                      0.018052\n",
      "debt_to_income_ratio_std        0.015587\n",
      "Intercept                       0.068418\n",
      "dtype: float64\n",
      "term_360                        0.001090\n",
      "conforming                      0.001233\n",
      "debt_to_income_ratio_missing    0.000240\n",
      "loan_amount_std                 0.152797\n",
      "loan_to_value_ratio_std         0.203657\n",
      "no_intro_rate_period_std        0.164883\n",
      "intro_rate_period_std           0.137312\n",
      "property_value_std              0.140604\n",
      "income_std                      0.032156\n",
      "debt_to_income_ratio_std        0.034871\n",
      "Intercept                       0.068418\n",
      "dtype: float64\n"
     ]
    }
   ],
   "source": [
    "# Calculate the average Shapley values for each quintile\n",
    "\n",
    "SHAPLEY = SHAPLEY.sort_values('0')\n",
    "len_Quintile=int(len(SHAPLEY)/5)\n",
    "\n",
    "quintile_dict = {}\n",
    "for quintile in range(1, 6):\n",
    "    if quintile == 5:\n",
    "        QUINTILE = SHAPLEY.iloc[(len_Quintile * (quintile - 1)):, 1:12].copy()\n",
    "    else:\n",
    "        QUINTILE = SHAPLEY.iloc[(len_Quintile * (quintile - 1)):(len_Quintile*quintile), 1:12].copy()\n",
    "        \n",
    "    QUINTILE = QUINTILE.mean()\n",
    "    QUINTILE.index = Feature_names + ['Intercept']\n",
    "    # QUINTILE = QUINTILE.sort_values(ascending=False)\n",
    "    quintile_dict[quintile] = QUINTILE\n",
    "    Feature_importance['Quintile '+str(quintile)] = QUINTILE\n",
    "    print(quintile_dict[quintile])\n",
    "\n"
   ]
  },
  {
   "cell_type": "code",
   "execution_count": 41,
   "metadata": {},
   "outputs": [
    {
     "data": {
      "text/html": [
       "<div>\n",
       "<style scoped>\n",
       "    .dataframe tbody tr th:only-of-type {\n",
       "        vertical-align: middle;\n",
       "    }\n",
       "\n",
       "    .dataframe tbody tr th {\n",
       "        vertical-align: top;\n",
       "    }\n",
       "\n",
       "    .dataframe thead th {\n",
       "        text-align: right;\n",
       "    }\n",
       "</style>\n",
       "<table border=\"1\" class=\"dataframe\">\n",
       "  <thead>\n",
       "    <tr style=\"text-align: right;\">\n",
       "      <th></th>\n",
       "      <th>0</th>\n",
       "      <th>Quintile 1</th>\n",
       "      <th>Quintile 2</th>\n",
       "      <th>Quintile 3</th>\n",
       "      <th>Quintile 4</th>\n",
       "      <th>Quintile 5</th>\n",
       "    </tr>\n",
       "  </thead>\n",
       "  <tbody>\n",
       "    <tr>\n",
       "      <th>term_360</th>\n",
       "      <td>0.000939</td>\n",
       "      <td>0.001586</td>\n",
       "      <td>0.000587</td>\n",
       "      <td>0.000611</td>\n",
       "      <td>0.000821</td>\n",
       "      <td>0.001090</td>\n",
       "    </tr>\n",
       "    <tr>\n",
       "      <th>conforming</th>\n",
       "      <td>0.001832</td>\n",
       "      <td>0.001852</td>\n",
       "      <td>0.002882</td>\n",
       "      <td>0.001575</td>\n",
       "      <td>0.001615</td>\n",
       "      <td>0.001233</td>\n",
       "    </tr>\n",
       "    <tr>\n",
       "      <th>debt_to_income_ratio_missing</th>\n",
       "      <td>0.000098</td>\n",
       "      <td>0.000002</td>\n",
       "      <td>0.000009</td>\n",
       "      <td>0.000080</td>\n",
       "      <td>0.000160</td>\n",
       "      <td>0.000240</td>\n",
       "    </tr>\n",
       "    <tr>\n",
       "      <th>loan_amount_std</th>\n",
       "      <td>0.091109</td>\n",
       "      <td>0.017668</td>\n",
       "      <td>0.052857</td>\n",
       "      <td>0.137062</td>\n",
       "      <td>0.095144</td>\n",
       "      <td>0.152797</td>\n",
       "    </tr>\n",
       "    <tr>\n",
       "      <th>loan_to_value_ratio_std</th>\n",
       "      <td>0.069885</td>\n",
       "      <td>0.043951</td>\n",
       "      <td>0.045348</td>\n",
       "      <td>0.029260</td>\n",
       "      <td>0.027177</td>\n",
       "      <td>0.203657</td>\n",
       "    </tr>\n",
       "    <tr>\n",
       "      <th>no_intro_rate_period_std</th>\n",
       "      <td>0.086347</td>\n",
       "      <td>0.025870</td>\n",
       "      <td>0.061389</td>\n",
       "      <td>0.102655</td>\n",
       "      <td>0.076919</td>\n",
       "      <td>0.164883</td>\n",
       "    </tr>\n",
       "    <tr>\n",
       "      <th>intro_rate_period_std</th>\n",
       "      <td>0.077052</td>\n",
       "      <td>0.023711</td>\n",
       "      <td>0.058826</td>\n",
       "      <td>0.100319</td>\n",
       "      <td>0.065077</td>\n",
       "      <td>0.137312</td>\n",
       "    </tr>\n",
       "    <tr>\n",
       "      <th>property_value_std</th>\n",
       "      <td>0.099896</td>\n",
       "      <td>0.041305</td>\n",
       "      <td>0.067599</td>\n",
       "      <td>0.146438</td>\n",
       "      <td>0.103522</td>\n",
       "      <td>0.140604</td>\n",
       "    </tr>\n",
       "    <tr>\n",
       "      <th>income_std</th>\n",
       "      <td>0.015983</td>\n",
       "      <td>0.008072</td>\n",
       "      <td>0.009774</td>\n",
       "      <td>0.011857</td>\n",
       "      <td>0.018052</td>\n",
       "      <td>0.032156</td>\n",
       "    </tr>\n",
       "    <tr>\n",
       "      <th>debt_to_income_ratio_std</th>\n",
       "      <td>0.014954</td>\n",
       "      <td>0.005996</td>\n",
       "      <td>0.007228</td>\n",
       "      <td>0.011083</td>\n",
       "      <td>0.015587</td>\n",
       "      <td>0.034871</td>\n",
       "    </tr>\n",
       "    <tr>\n",
       "      <th>Intercept</th>\n",
       "      <td>0.068418</td>\n",
       "      <td>0.068418</td>\n",
       "      <td>0.068418</td>\n",
       "      <td>0.068418</td>\n",
       "      <td>0.068418</td>\n",
       "      <td>0.068418</td>\n",
       "    </tr>\n",
       "  </tbody>\n",
       "</table>\n",
       "</div>"
      ],
      "text/plain": [
       "                                     0  Quintile 1  Quintile 2  Quintile 3  \\\n",
       "term_360                      0.000939    0.001586    0.000587    0.000611   \n",
       "conforming                    0.001832    0.001852    0.002882    0.001575   \n",
       "debt_to_income_ratio_missing  0.000098    0.000002    0.000009    0.000080   \n",
       "loan_amount_std               0.091109    0.017668    0.052857    0.137062   \n",
       "loan_to_value_ratio_std       0.069885    0.043951    0.045348    0.029260   \n",
       "no_intro_rate_period_std      0.086347    0.025870    0.061389    0.102655   \n",
       "intro_rate_period_std         0.077052    0.023711    0.058826    0.100319   \n",
       "property_value_std            0.099896    0.041305    0.067599    0.146438   \n",
       "income_std                    0.015983    0.008072    0.009774    0.011857   \n",
       "debt_to_income_ratio_std      0.014954    0.005996    0.007228    0.011083   \n",
       "Intercept                     0.068418    0.068418    0.068418    0.068418   \n",
       "\n",
       "                              Quintile 4  Quintile 5  \n",
       "term_360                        0.000821    0.001090  \n",
       "conforming                      0.001615    0.001233  \n",
       "debt_to_income_ratio_missing    0.000160    0.000240  \n",
       "loan_amount_std                 0.095144    0.152797  \n",
       "loan_to_value_ratio_std         0.027177    0.203657  \n",
       "no_intro_rate_period_std        0.076919    0.164883  \n",
       "intro_rate_period_std           0.065077    0.137312  \n",
       "property_value_std              0.103522    0.140604  \n",
       "income_std                      0.018052    0.032156  \n",
       "debt_to_income_ratio_std        0.015587    0.034871  \n",
       "Intercept                       0.068418    0.068418  "
      ]
     },
     "execution_count": 41,
     "metadata": {},
     "output_type": "execute_result"
    }
   ],
   "source": [
    "Feature_importance = Feature_importance.rename(columns={\"0\": \"Global Feature_Importance\"})\n",
    "\n",
    "Feature_importance.to_csv(xnn_dir + \"Results_hmda_Feature_Importance.csv\")\n",
    "\n",
    "Feature_importance"
   ]
  },
  {
   "cell_type": "code",
   "execution_count": 42,
   "metadata": {},
   "outputs": [
    {
     "data": {
      "image/png": "[encoded data removed]",
      "text/plain": [
       "<Figure size 432x288 with 1 Axes>"
      ]
     },
     "metadata": {
      "needs_background": "light"
     },
     "output_type": "display_data"
    },
    {
     "data": {
      "image/png": "[encoded data removed]",
      "text/plain": [
       "<Figure size 432x288 with 1 Axes>"
      ]
     },
     "metadata": {
      "needs_background": "light"
     },
     "output_type": "display_data"
    },
    {
     "data": {
      "image/png": "[encoded data removed]",
      "text/plain": [
       "<Figure size 432x288 with 1 Axes>"
      ]
     },
     "metadata": {
      "needs_background": "light"
     },
     "output_type": "display_data"
    },
    {
     "data": {
      "image/png": "[encoded data removed]",
      "text/plain": [
       "<Figure size 432x288 with 1 Axes>"
      ]
     },
     "metadata": {
      "needs_background": "light"
     },
     "output_type": "display_data"
    },
    {
     "data": {
      "image/png": "[encoded data removed]",
      "text/plain": [
       "<Figure size 432x288 with 1 Axes>"
      ]
     },
     "metadata": {
      "needs_background": "light"
     },
     "output_type": "display_data"
    },
    {
     "data": {
      "image/png": "[encoded data removed]",
      "text/plain": [
       "<Figure size 432x288 with 1 Axes>"
      ]
     },
     "metadata": {
      "needs_background": "light"
     },
     "output_type": "display_data"
    },
    {
     "data": {
      "image/png": "[encoded data removed]",
      "text/plain": [
       "<Figure size 432x288 with 1 Axes>"
      ]
     },
     "metadata": {
      "needs_background": "light"
     },
     "output_type": "display_data"
    },
    {
     "data": {
      "image/png": "[encoded data removed]",
      "text/plain": [
       "<Figure size 432x288 with 1 Axes>"
      ]
     },
     "metadata": {
      "needs_background": "light"
     },
     "output_type": "display_data"
    },
    {
     "data": {
      "image/png": "[encoded data removed]",
      "text/plain": [
       "<Figure size 432x288 with 1 Axes>"
      ]
     },
     "metadata": {
      "needs_background": "light"
     },
     "output_type": "display_data"
    },
    {
     "data": {
      "image/png": "[encoded data removed]",
      "text/plain": [
       "<Figure size 432x288 with 1 Axes>"
      ]
     },
     "metadata": {
      "needs_background": "light"
     },
     "output_type": "display_data"
    }
   ],
   "source": [
    "# Plot the ridge functions\n",
    "\n",
    "Ridge_x = pd.read_csv(xnn_dir + \"ridge_x_\" + label + \".csv\")\n",
    "Ridge_y = pd.read_csv(xnn_dir + \"ridge_y_\" + label + \".csv\")\n",
    "Ridge_y = Ridge_y.applymap(lambda x: eval(x)[0])\n",
    "\n",
    "Ridge_x.to_csv(xnn_dir + 'Results_hmda_Ridge_x_values.csv', index=False)\n",
    "Ridge_y.to_csv(xnn_dir + 'Results_hmda_Ridge_y_values.csv', index=False)\n",
    "\n",
    "for row_num in range(Ridge_y.shape[0]):\n",
    "    plt.plot(Ridge_x.iloc[row_num,:], Ridge_y.iloc[row_num,:], 'o')\n",
    "    plt.xlabel(\"x\")\n",
    "    plt.ylabel(\"Subnetwork \" + str(row_num))\n",
    "    plt.show()"
   ]
  },
  {
   "cell_type": "code",
   "execution_count": 43,
   "metadata": {},
   "outputs": [
    {
     "data": {
      "image/png": "[encoded data removed]",
      "text/plain": [
       "<Figure size 432x288 with 1 Axes>"
      ]
     },
     "metadata": {
      "needs_background": "light"
     },
     "output_type": "display_data"
    },
    {
     "data": {
      "image/png": "[encoded data removed]",
      "text/plain": [
       "<Figure size 432x288 with 1 Axes>"
      ]
     },
     "metadata": {
      "needs_background": "light"
     },
     "output_type": "display_data"
    },
    {
     "data": {
      "image/png": "[encoded data removed]",
      "text/plain": [
       "<Figure size 432x288 with 1 Axes>"
      ]
     },
     "metadata": {
      "needs_background": "light"
     },
     "output_type": "display_data"
    },
    {
     "data": {
      "image/png": "[encoded data removed]",
      "text/plain": [
       "<Figure size 432x288 with 1 Axes>"
      ]
     },
     "metadata": {
      "needs_background": "light"
     },
     "output_type": "display_data"
    },
    {
     "data": {
      "image/png": "[encoded data removed]",
      "text/plain": [
       "<Figure size 432x288 with 1 Axes>"
      ]
     },
     "metadata": {
      "needs_background": "light"
     },
     "output_type": "display_data"
    },
    {
     "data": {
      "image/png": "[encoded data removed]",
      "text/plain": [
       "<Figure size 432x288 with 1 Axes>"
      ]
     },
     "metadata": {
      "needs_background": "light"
     },
     "output_type": "display_data"
    },
    {
     "data": {
      "image/png": "[encoded data removed]",
      "text/plain": [
       "<Figure size 432x288 with 1 Axes>"
      ]
     },
     "metadata": {
      "needs_background": "light"
     },
     "output_type": "display_data"
    },
    {
     "data": {
      "image/png": "[encoded data removed]",
      "text/plain": [
       "<Figure size 432x288 with 1 Axes>"
      ]
     },
     "metadata": {
      "needs_background": "light"
     },
     "output_type": "display_data"
    },
    {
     "data": {
      "image/png": "[encoded data removed]",
      "text/plain": [
       "<Figure size 432x288 with 1 Axes>"
      ]
     },
     "metadata": {
      "needs_background": "light"
     },
     "output_type": "display_data"
    },
    {
     "data": {
      "image/png": "[encoded data removed]",
      "text/plain": [
       "<Figure size 432x288 with 1 Axes>"
      ]
     },
     "metadata": {
      "needs_background": "light"
     },
     "output_type": "display_data"
    }
   ],
   "source": [
    "# Plot the projection layers\n",
    "\n",
    "WP = pd.read_csv(xnn_dir + \"wp_\" + label + \".csv\")\n",
    "\n",
    "x = list(map(lambda x: 'x' + str(x+1), range(len(WP))))\n",
    "\n",
    "WP.to_csv(xnn_dir + \"Results_hmda_projection_layer.csv\", index=False)\n",
    "\n",
    "titles = [\"Projection Layer \" + str(ii) for ii in range(len(WP))]\n",
    "\n",
    "for ind in range(len(WP)):\n",
    "    plt.bar(x, WP.iloc[ind,:], 1, color=\"blue\")\n",
    "    plt.xlabel(titles[ind])\n",
    "    plt.ylabel(\"\")\n",
    "    plt.show()"
   ]
  },
  {
   "cell_type": "code",
   "execution_count": 44,
   "metadata": {},
   "outputs": [
    {
     "data": {
      "image/png": "[encoded data removed]",
      "text/plain": [
       "<Figure size 432x288 with 1 Axes>"
      ]
     },
     "metadata": {
      "needs_background": "light"
     },
     "output_type": "display_data"
    }
   ],
   "source": [
    "# Ridge scores\n",
    "\n",
    "Scores = pd.read_csv(xnn_dir + \"scores_\" + label + \".csv\")\n",
    "\n",
    "# Print the scores\n",
    "x = list(map(lambda x: 'x' + str(x+1), range(Scores.shape[1])))\n",
    "\n",
    "titles = [\"layerwise average input\", \"layerwise average ridge\",\n",
    "          \"layerwise average input 2\", \"layerwise average ridge 2\",\n",
    "          \"shap input\", \"deep lift input\", \"deep lift ridge\"]\n",
    "\n",
    "ind = 6\n",
    "plt.bar(x, Scores.iloc[ind,:], 1, color=\"blue\")\n",
    "plt.xlabel(titles[ind])\n",
    "plt.ylabel(\"\")\n",
    "plt.show()"
   ]
  },
  {
   "cell_type": "code",
   "execution_count": 45,
   "metadata": {},
   "outputs": [
    {
     "data": {
      "text/html": [
       "<div>\n",
       "<style scoped>\n",
       "    .dataframe tbody tr th:only-of-type {\n",
       "        vertical-align: middle;\n",
       "    }\n",
       "\n",
       "    .dataframe tbody tr th {\n",
       "        vertical-align: top;\n",
       "    }\n",
       "\n",
       "    .dataframe thead th {\n",
       "        text-align: right;\n",
       "    }\n",
       "</style>\n",
       "<table border=\"1\" class=\"dataframe\">\n",
       "  <thead>\n",
       "    <tr style=\"text-align: right;\">\n",
       "      <th></th>\n",
       "      <th>0</th>\n",
       "      <th>1</th>\n",
       "      <th>2</th>\n",
       "      <th>3</th>\n",
       "      <th>4</th>\n",
       "      <th>5</th>\n",
       "      <th>6</th>\n",
       "      <th>7</th>\n",
       "      <th>8</th>\n",
       "      <th>9</th>\n",
       "    </tr>\n",
       "  </thead>\n",
       "  <tbody>\n",
       "    <tr>\n",
       "      <th>0</th>\n",
       "      <td>NaN</td>\n",
       "      <td>NaN</td>\n",
       "      <td>NaN</td>\n",
       "      <td>NaN</td>\n",
       "      <td>NaN</td>\n",
       "      <td>NaN</td>\n",
       "      <td>NaN</td>\n",
       "      <td>NaN</td>\n",
       "      <td>NaN</td>\n",
       "      <td>NaN</td>\n",
       "    </tr>\n",
       "    <tr>\n",
       "      <th>1</th>\n",
       "      <td>NaN</td>\n",
       "      <td>NaN</td>\n",
       "      <td>NaN</td>\n",
       "      <td>NaN</td>\n",
       "      <td>inf</td>\n",
       "      <td>NaN</td>\n",
       "      <td>inf</td>\n",
       "      <td>inf</td>\n",
       "      <td>NaN</td>\n",
       "      <td>NaN</td>\n",
       "    </tr>\n",
       "    <tr>\n",
       "      <th>2</th>\n",
       "      <td>NaN</td>\n",
       "      <td>NaN</td>\n",
       "      <td>NaN</td>\n",
       "      <td>NaN</td>\n",
       "      <td>NaN</td>\n",
       "      <td>NaN</td>\n",
       "      <td>NaN</td>\n",
       "      <td>NaN</td>\n",
       "      <td>NaN</td>\n",
       "      <td>NaN</td>\n",
       "    </tr>\n",
       "    <tr>\n",
       "      <th>3</th>\n",
       "      <td>NaN</td>\n",
       "      <td>NaN</td>\n",
       "      <td>NaN</td>\n",
       "      <td>NaN</td>\n",
       "      <td>NaN</td>\n",
       "      <td>NaN</td>\n",
       "      <td>NaN</td>\n",
       "      <td>NaN</td>\n",
       "      <td>NaN</td>\n",
       "      <td>NaN</td>\n",
       "    </tr>\n",
       "    <tr>\n",
       "      <th>4</th>\n",
       "      <td>-0.000328</td>\n",
       "      <td>-0.000529</td>\n",
       "      <td>0.000097</td>\n",
       "      <td>-0.013723</td>\n",
       "      <td>0.010216</td>\n",
       "      <td>0.054917</td>\n",
       "      <td>-0.044454</td>\n",
       "      <td>0.015028</td>\n",
       "      <td>-0.000868</td>\n",
       "      <td>0.003661</td>\n",
       "    </tr>\n",
       "    <tr>\n",
       "      <th>5</th>\n",
       "      <td>NaN</td>\n",
       "      <td>NaN</td>\n",
       "      <td>NaN</td>\n",
       "      <td>NaN</td>\n",
       "      <td>NaN</td>\n",
       "      <td>NaN</td>\n",
       "      <td>NaN</td>\n",
       "      <td>NaN</td>\n",
       "      <td>NaN</td>\n",
       "      <td>NaN</td>\n",
       "    </tr>\n",
       "    <tr>\n",
       "      <th>6</th>\n",
       "      <td>NaN</td>\n",
       "      <td>NaN</td>\n",
       "      <td>NaN</td>\n",
       "      <td>NaN</td>\n",
       "      <td>NaN</td>\n",
       "      <td>NaN</td>\n",
       "      <td>NaN</td>\n",
       "      <td>NaN</td>\n",
       "      <td>NaN</td>\n",
       "      <td>NaN</td>\n",
       "    </tr>\n",
       "  </tbody>\n",
       "</table>\n",
       "</div>"
      ],
      "text/plain": [
       "          0         1         2         3         4         5         6  \\\n",
       "0       NaN       NaN       NaN       NaN       NaN       NaN       NaN   \n",
       "1       NaN       NaN       NaN       NaN       inf       NaN       inf   \n",
       "2       NaN       NaN       NaN       NaN       NaN       NaN       NaN   \n",
       "3       NaN       NaN       NaN       NaN       NaN       NaN       NaN   \n",
       "4 -0.000328 -0.000529  0.000097 -0.013723  0.010216  0.054917 -0.044454   \n",
       "5       NaN       NaN       NaN       NaN       NaN       NaN       NaN   \n",
       "6       NaN       NaN       NaN       NaN       NaN       NaN       NaN   \n",
       "\n",
       "          7         8         9  \n",
       "0       NaN       NaN       NaN  \n",
       "1       inf       NaN       NaN  \n",
       "2       NaN       NaN       NaN  \n",
       "3       NaN       NaN       NaN  \n",
       "4  0.015028 -0.000868  0.003661  \n",
       "5       NaN       NaN       NaN  \n",
       "6       NaN       NaN       NaN  "
      ]
     },
     "execution_count": 45,
     "metadata": {},
     "output_type": "execute_result"
    }
   ],
   "source": [
    "# A few missing values caused problems with the score calculations\n",
    "# they are recalculated at the end of the notebook\n",
    "Scores\n"
   ]
  },
  {
   "cell_type": "code",
   "execution_count": 46,
   "metadata": {},
   "outputs": [
    {
     "data": {
      "text/plain": [
       "Index(['Unnamed: 0', 'high_priced', 'term_360', 'conforming', 'black', 'asian',\n",
       "       'white', 'amind', 'hipac', 'hispanic', 'non_hispanic', 'male', 'female',\n",
       "       'agegte62', 'agelt62', 'debt_to_income_ratio_missing',\n",
       "       'loan_amount_std', 'loan_to_value_ratio_std',\n",
       "       'no_intro_rate_period_std', 'intro_rate_period_std',\n",
       "       'property_value_std', 'income_std', 'debt_to_income_ratio_std', '0',\n",
       "       '1', '2', '3', '4', '5', '6', '7', '8', '9', '10', '11'],\n",
       "      dtype='object')"
      ]
     },
     "execution_count": 46,
     "metadata": {},
     "output_type": "execute_result"
    }
   ],
   "source": [
    "TEST.columns"
   ]
  },
  {
   "cell_type": "code",
   "execution_count": 47,
   "metadata": {},
   "outputs": [],
   "source": [
    "TEST.iloc[0:4,]\n",
    "TEST = TEST.rename(columns={\"0\": \"probability\", \n",
    "                            \"1\": Feature_names[0]+\"_Shapley_score\",\n",
    "                            \"2\": Feature_names[1]+\"_Shapley_score\",\n",
    "                            \"3\": Feature_names[2]+\"_Shapley_score\",\n",
    "                            \"4\": Feature_names[3]+\"_Shapley_score\",\n",
    "                            \"5\": Feature_names[4]+\"_Shapley_score\",\n",
    "                            \"6\": Feature_names[5]+\"_Shapley_score\", \n",
    "                            \"7\": Feature_names[6]+\"_Shapley_score\",\n",
    "                            \"8\": Feature_names[7]+\"_Shapley_score\",\n",
    "                            \"9\": Feature_names[8]+\"_Shapley_score\",\n",
    "                            \"10\": Feature_names[9]+\"_Shapley_score\",\n",
    "                            \"11\": \"Intercept_Shapley_score\"})\n",
    "#Feature_names"
   ]
  },
  {
   "cell_type": "code",
   "execution_count": 48,
   "metadata": {},
   "outputs": [],
   "source": [
    "TEST.columns\n",
    "\n",
    "TEST.to_csv(xnn_dir + \"Results_hmda_test_set.csv\", index=False)"
   ]
  },
  {
   "cell_type": "code",
   "execution_count": 49,
   "metadata": {},
   "outputs": [],
   "source": [
    "FEATURES = pd.read_csv(xnn_dir + \"feature_output3_BLDS_run200.csv\")"
   ]
  },
  {
   "cell_type": "code",
   "execution_count": 50,
   "metadata": {},
   "outputs": [],
   "source": [
    "# Make sure there aren't missing values in the deep lift scores\n",
    "# for the ridge functions\n",
    "\n",
    "features = len(Feature_names)\n",
    "lift_average_ridge=np.array([0.0]*features)\n",
    "\n",
    "count = 0\n",
    "for ii in range(len(FEATURES)):\n",
    "    vector =  np.abs(np.array(FEATURES.iloc[ii, (3*features):(4*features)]))\n",
    "    if (sum(np.isfinite(vector))==features) and (sum(np.isnan(vector))==0):\n",
    "        lift_average_ridge += vector\n",
    "        count+=1\n",
    "\n",
    "lift_average_ridge = lift_average_ridge/count"
   ]
  },
  {
   "cell_type": "code",
   "execution_count": 51,
   "metadata": {},
   "outputs": [
    {
     "data": {
      "text/plain": [
       "array([-1.39015805e-02,  4.26574329e-05, -8.01493643e-03, -2.09466256e-03,\n",
       "        1.10749748e-05,  3.30522502e-03, -8.71576358e-07, -3.56288456e-08,\n",
       "       -8.11010686e-04,  6.55206296e-03])"
      ]
     },
     "execution_count": 51,
     "metadata": {},
     "output_type": "execute_result"
    }
   ],
   "source": [
    "lift_average_ridge"
   ]
  },
  {
   "cell_type": "code",
   "execution_count": 52,
   "metadata": {},
   "outputs": [],
   "source": [
    "pd.DataFrame(lift_average_ridge).to_csv(xnn_dir + \"Results_deep_lift_ridge_function_scores_hmda.csv\")"
   ]
  },
  {
   "cell_type": "code",
   "execution_count": null,
   "metadata": {},
   "outputs": [],
   "source": []
  },
  {
   "cell_type": "code",
   "execution_count": null,
   "metadata": {},
   "outputs": [],
   "source": []
  },
  {
   "cell_type": "code",
   "execution_count": null,
   "metadata": {},
   "outputs": [],
   "source": []
  }
 ],
 "metadata": {
  "kernelspec": {
   "display_name": "Python 3",
   "language": "python",
   "name": "python3"
  },
  "language_info": {
   "codemirror_mode": {
    "name": "ipython",
    "version": 3
   },
   "file_extension": ".py",
   "mimetype": "text/x-python",
   "name": "python",
   "nbconvert_exporter": "python",
   "pygments_lexer": "ipython3",
   "version": "3.6.4"
  }
 },
 "nbformat": 4,
 "nbformat_minor": 2
}
