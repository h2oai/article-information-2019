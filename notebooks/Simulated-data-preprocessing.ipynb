{
 "cells": [
  {
   "cell_type": "code",
   "execution_count": 29,
   "metadata": {},
   "outputs": [],
   "source": [
    "\"\"\"\n",
    "Load the training and test data\n",
    "\"\"\"\n",
    "\n",
    "import pandas as pd\n",
    "import numpy as np\n",
    "from sklearn.preprocessing import OneHotEncoder, LabelEncoder\n",
    "\n",
    "# Specify data and output directories\n",
    "main ='~/article-information-2019/data/output/'\n",
    "output = '~/article-information-2019/data/xnn_output/'\n",
    "\n",
    "# Specify filenames\n",
    "train_filename = 'simu_train.csv'\n",
    "test_filename = 'simu_test.csv'\n",
    "\n",
    "# Load data\n",
    "TRAIN = pd.read_csv(main + train_filename)\n",
    "TEST = pd.read_csv(main + test_filename)\n",
    "\n",
    "training_columns = list(TRAIN.columns)\n",
    "target_column = 'outcome'"
   ]
  },
  {
   "cell_type": "code",
   "execution_count": 30,
   "metadata": {},
   "outputs": [
    {
     "name": "stdout",
     "output_type": "stream",
     "text": [
      "cat1\n"
     ]
    }
   ],
   "source": [
    "# One hot encode selected columns\n",
    "\n",
    "one_hot = ['cat1']\n",
    "\n",
    "for oh_column in one_hot:\n",
    "    print(oh_column)\n",
    "    oh_transformed_column = pd.get_dummies(TRAIN[oh_column])\n",
    "    oh_transformed_column.columns = [oh_column + '_' + str(item) for item in list(oh_transformed_column.columns)]\n",
    "    TRAIN = TRAIN.drop(oh_column, axis=1)\n",
    "    TRAIN = pd.concat([TRAIN,oh_transformed_column], axis=1)"
   ]
  },
  {
   "cell_type": "code",
   "execution_count": 31,
   "metadata": {},
   "outputs": [],
   "source": [
    "# Standardize some of the features\n",
    "\n",
    "from sklearn.preprocessing import StandardScaler\n",
    "\n",
    "features = ['fried1', 'fried2', 'fried3', 'fried4', 'fried5']\n",
    "                     \n",
    "scaler = StandardScaler()\n",
    "scaler.fit(TRAIN[features])\n",
    "std_features_TRAIN = pd.DataFrame(scaler.transform(TRAIN[features]), columns=[item + \"_std\" for item in features])\n",
    "std_features_TEST = pd.DataFrame(scaler.transform(TEST[features]), columns=[item + \"_std\" for item in features])\n",
    "\n",
    "TRAIN = pd.concat([TRAIN, std_features_TRAIN], axis=1)\n",
    "TEST = pd.concat([TEST, std_features_TEST], axis=1)\n",
    "\n",
    "TRAIN = TRAIN.drop(features, axis=1)\n",
    "TEST = TEST.drop(features, axis=1)"
   ]
  },
  {
   "cell_type": "code",
   "execution_count": 32,
   "metadata": {},
   "outputs": [],
   "source": [
    "# Save transformed datasets\n",
    "\n",
    "TRAIN.to_csv(output+'train_simulated_transformed.csv', index=False)\n",
    "TEST.to_csv(output+'test_simulated_transformed.csv', index=False)"
   ]
  },
  {
   "cell_type": "code",
   "execution_count": null,
   "metadata": {},
   "outputs": [],
   "source": []
  },
  {
   "cell_type": "code",
   "execution_count": null,
   "metadata": {},
   "outputs": [],
   "source": []
  }
 ],
 "metadata": {
  "kernelspec": {
   "display_name": "Python 3",
   "language": "python",
   "name": "python3"
  },
  "language_info": {
   "codemirror_mode": {
    "name": "ipython",
    "version": 3
   },
   "file_extension": ".py",
   "mimetype": "text/x-python",
   "name": "python",
   "nbconvert_exporter": "python",
   "pygments_lexer": "ipython3",
   "version": "3.5.2"
  }
 },
 "nbformat": 4,
 "nbformat_minor": 2
}
