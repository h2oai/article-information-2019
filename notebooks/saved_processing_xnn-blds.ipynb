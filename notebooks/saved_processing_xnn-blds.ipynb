{
 "cells": [
  {
   "cell_type": "code",
   "execution_count": 26,
   "metadata": {},
   "outputs": [],
   "source": [
    "import numpy as np\n",
    "import pandas as pd\n",
    "import shap\n",
    "\n",
    "import plotly.plotly as py\n",
    "import plotly.tools as tls\n",
    "import matplotlib.pyplot as plt\n",
    "import pandas as pd\n",
    "\n",
    "#label = \"cc_valid_fin10_\"\n",
    "label = \"quick_info_first_\"\n",
    "main = '/Users/kmontgomery/Documents/xnn/blds_short/'"
   ]
  },
  {
   "cell_type": "code",
   "execution_count": 27,
   "metadata": {},
   "outputs": [],
   "source": [
    "Ridge_x = pd.read_csv(main + \"ridge_x_\" + label + \".csv\")\n",
    "Ridge_y = pd.read_csv(main + \"ridge_y_\" + label + \".csv\")\n",
    "Scores = pd.read_csv(main + \"scores_\" + label + \".csv\")\n",
    "WP = pd.read_csv(main + \"wp_\" + label + \".csv\")\n",
    "TEST = pd.read_csv(main + \"TEST_\" + label + \".csv\")\n",
    "PREDS = pd.read_csv(main + \"preds_\" + label + \".csv\")"
   ]
  },
  {
   "cell_type": "code",
   "execution_count": 28,
   "metadata": {},
   "outputs": [
    {
     "data": {
      "text/plain": [
       "RangeIndex(start=0, stop=8, step=1)"
      ]
     },
     "execution_count": 28,
     "metadata": {},
     "output_type": "execute_result"
    }
   ],
   "source": [
    "Ridge_y.shape\n",
    "Ridge_y.index"
   ]
  },
  {
   "cell_type": "code",
   "execution_count": 29,
   "metadata": {},
   "outputs": [],
   "source": [
    "cn = Ridge_y.index\n",
    "\n",
    "Ridge_y = Ridge_y.applymap(lambda x: eval(x)[0])"
   ]
  },
  {
   "cell_type": "code",
   "execution_count": 30,
   "metadata": {},
   "outputs": [
    {
     "data": {
      "text/html": [
       "<div>\n",
       "<style scoped>\n",
       "    .dataframe tbody tr th:only-of-type {\n",
       "        vertical-align: middle;\n",
       "    }\n",
       "\n",
       "    .dataframe tbody tr th {\n",
       "        vertical-align: top;\n",
       "    }\n",
       "\n",
       "    .dataframe thead th {\n",
       "        text-align: right;\n",
       "    }\n",
       "</style>\n",
       "<table border=\"1\" class=\"dataframe\">\n",
       "  <thead>\n",
       "    <tr style=\"text-align: right;\">\n",
       "      <th></th>\n",
       "      <th>0</th>\n",
       "      <th>1</th>\n",
       "      <th>2</th>\n",
       "      <th>3</th>\n",
       "      <th>4</th>\n",
       "      <th>5</th>\n",
       "      <th>6</th>\n",
       "      <th>7</th>\n",
       "      <th>8</th>\n",
       "      <th>9</th>\n",
       "      <th>...</th>\n",
       "      <th>143990</th>\n",
       "      <th>143991</th>\n",
       "      <th>143992</th>\n",
       "      <th>143993</th>\n",
       "      <th>143994</th>\n",
       "      <th>143995</th>\n",
       "      <th>143996</th>\n",
       "      <th>143997</th>\n",
       "      <th>143998</th>\n",
       "      <th>143999</th>\n",
       "    </tr>\n",
       "  </thead>\n",
       "  <tbody>\n",
       "    <tr>\n",
       "      <th>0</th>\n",
       "      <td>-0.000036</td>\n",
       "      <td>-0.000032</td>\n",
       "      <td>-0.000030</td>\n",
       "      <td>-0.000032</td>\n",
       "      <td>-0.000036</td>\n",
       "      <td>-0.000036</td>\n",
       "      <td>-0.000042</td>\n",
       "      <td>-0.000025</td>\n",
       "      <td>-0.000029</td>\n",
       "      <td>-0.000032</td>\n",
       "      <td>...</td>\n",
       "      <td>-0.000033</td>\n",
       "      <td>-0.000035</td>\n",
       "      <td>-0.000024</td>\n",
       "      <td>-0.000036</td>\n",
       "      <td>-0.000031</td>\n",
       "      <td>-0.000036</td>\n",
       "      <td>-0.000030</td>\n",
       "      <td>-0.000030</td>\n",
       "      <td>-0.000035</td>\n",
       "      <td>-0.000036</td>\n",
       "    </tr>\n",
       "    <tr>\n",
       "      <th>1</th>\n",
       "      <td>2.634409</td>\n",
       "      <td>-2.024133</td>\n",
       "      <td>-2.670411</td>\n",
       "      <td>-0.238199</td>\n",
       "      <td>0.322642</td>\n",
       "      <td>0.660113</td>\n",
       "      <td>2.634409</td>\n",
       "      <td>-2.674508</td>\n",
       "      <td>-0.100631</td>\n",
       "      <td>-0.485125</td>\n",
       "      <td>...</td>\n",
       "      <td>-0.589904</td>\n",
       "      <td>-0.617348</td>\n",
       "      <td>-1.284495</td>\n",
       "      <td>0.149490</td>\n",
       "      <td>-3.289896</td>\n",
       "      <td>0.217577</td>\n",
       "      <td>-3.811146</td>\n",
       "      <td>-2.004719</td>\n",
       "      <td>0.098753</td>\n",
       "      <td>-0.425689</td>\n",
       "    </tr>\n",
       "  </tbody>\n",
       "</table>\n",
       "<p>2 rows × 144000 columns</p>\n",
       "</div>"
      ],
      "text/plain": [
       "          0         1         2         3         4         5         6  \\\n",
       "0 -0.000036 -0.000032 -0.000030 -0.000032 -0.000036 -0.000036 -0.000042   \n",
       "1  2.634409 -2.024133 -2.670411 -0.238199  0.322642  0.660113  2.634409   \n",
       "\n",
       "          7         8         9  ...    143990    143991    143992    143993  \\\n",
       "0 -0.000025 -0.000029 -0.000032  ... -0.000033 -0.000035 -0.000024 -0.000036   \n",
       "1 -2.674508 -0.100631 -0.485125  ... -0.589904 -0.617348 -1.284495  0.149490   \n",
       "\n",
       "     143994    143995    143996    143997    143998    143999  \n",
       "0 -0.000031 -0.000036 -0.000030 -0.000030 -0.000035 -0.000036  \n",
       "1 -3.289896  0.217577 -3.811146 -2.004719  0.098753 -0.425689  \n",
       "\n",
       "[2 rows x 144000 columns]"
      ]
     },
     "execution_count": 30,
     "metadata": {},
     "output_type": "execute_result"
    }
   ],
   "source": [
    "Ridge_y.head(2)"
   ]
  },
  {
   "cell_type": "code",
   "execution_count": 31,
   "metadata": {},
   "outputs": [
    {
     "data": {
      "image/png": "[encoded data removed]",
      "text/plain": [
       "<Figure size 432x288 with 1 Axes>"
      ]
     },
     "metadata": {
      "needs_background": "light"
     },
     "output_type": "display_data"
    },
    {
     "data": {
      "image/png": "[encoded data removed]",
      "text/plain": [
       "<Figure size 432x288 with 1 Axes>"
      ]
     },
     "metadata": {
      "needs_background": "light"
     },
     "output_type": "display_data"
    },
    {
     "data": {
      "image/png": "[encoded data removed]",
      "text/plain": [
       "<Figure size 432x288 with 1 Axes>"
      ]
     },
     "metadata": {
      "needs_background": "light"
     },
     "output_type": "display_data"
    },
    {
     "data": {
      "image/png": "[encoded data removed]",
      "text/plain": [
       "<Figure size 432x288 with 1 Axes>"
      ]
     },
     "metadata": {
      "needs_background": "light"
     },
     "output_type": "display_data"
    },
    {
     "data": {
      "image/png": "[encoded data removed]",
      "text/plain": [
       "<Figure size 432x288 with 1 Axes>"
      ]
     },
     "metadata": {
      "needs_background": "light"
     },
     "output_type": "display_data"
    },
    {
     "data": {
      "image/png": "[encoded data removed]",
      "text/plain": [
       "<Figure size 432x288 with 1 Axes>"
      ]
     },
     "metadata": {
      "needs_background": "light"
     },
     "output_type": "display_data"
    },
    {
     "data": {
      "image/png": "[encoded data removed]",
      "text/plain": [
       "<Figure size 432x288 with 1 Axes>"
      ]
     },
     "metadata": {
      "needs_background": "light"
     },
     "output_type": "display_data"
    },
    {
     "data": {
      "image/png": "[encoded data removed]",
      "text/plain": [
       "<Figure size 432x288 with 1 Axes>"
      ]
     },
     "metadata": {
      "needs_background": "light"
     },
     "output_type": "display_data"
    }
   ],
   "source": [
    "for row_num in range(Ridge_y.shape[0]):\n",
    "    plt.plot(Ridge_x.iloc[row_num,:], Ridge_y.iloc[row_num,:], 'o')\n",
    "    plt.xlabel(\"x\")\n",
    "    plt.ylabel(\"Subnetwork \" + str(row_num))\n",
    "    plt.show()"
   ]
  },
  {
   "cell_type": "code",
   "execution_count": 32,
   "metadata": {},
   "outputs": [
    {
     "data": {
      "text/html": [
       "<div>\n",
       "<style scoped>\n",
       "    .dataframe tbody tr th:only-of-type {\n",
       "        vertical-align: middle;\n",
       "    }\n",
       "\n",
       "    .dataframe tbody tr th {\n",
       "        vertical-align: top;\n",
       "    }\n",
       "\n",
       "    .dataframe thead th {\n",
       "        text-align: right;\n",
       "    }\n",
       "</style>\n",
       "<table border=\"1\" class=\"dataframe\">\n",
       "  <thead>\n",
       "    <tr style=\"text-align: right;\">\n",
       "      <th></th>\n",
       "      <th>0</th>\n",
       "      <th>1</th>\n",
       "      <th>2</th>\n",
       "      <th>3</th>\n",
       "      <th>4</th>\n",
       "      <th>5</th>\n",
       "      <th>6</th>\n",
       "      <th>7</th>\n",
       "    </tr>\n",
       "  </thead>\n",
       "  <tbody>\n",
       "    <tr>\n",
       "      <th>0</th>\n",
       "      <td>1.008811e-01</td>\n",
       "      <td>-0.058764</td>\n",
       "      <td>3.926671e-01</td>\n",
       "      <td>0.064936</td>\n",
       "      <td>5.415082e-02</td>\n",
       "      <td>-0.974163</td>\n",
       "      <td>1.341143e-01</td>\n",
       "      <td>0.811697</td>\n",
       "    </tr>\n",
       "    <tr>\n",
       "      <th>1</th>\n",
       "      <td>-6.355319e-06</td>\n",
       "      <td>0.169309</td>\n",
       "      <td>-1.155217e-06</td>\n",
       "      <td>-0.528930</td>\n",
       "      <td>2.968540e-05</td>\n",
       "      <td>0.570227</td>\n",
       "      <td>-1.741989e-06</td>\n",
       "      <td>0.318313</td>\n",
       "    </tr>\n",
       "    <tr>\n",
       "      <th>2</th>\n",
       "      <td>-1.707999e-03</td>\n",
       "      <td>-0.018022</td>\n",
       "      <td>1.627514e-02</td>\n",
       "      <td>-0.000004</td>\n",
       "      <td>-1.302518e-03</td>\n",
       "      <td>-0.008990</td>\n",
       "      <td>-2.748539e-03</td>\n",
       "      <td>0.016662</td>\n",
       "    </tr>\n",
       "    <tr>\n",
       "      <th>3</th>\n",
       "      <td>-7.270611e-08</td>\n",
       "      <td>0.000476</td>\n",
       "      <td>-1.321593e-08</td>\n",
       "      <td>-0.000045</td>\n",
       "      <td>-4.562832e-07</td>\n",
       "      <td>0.004284</td>\n",
       "      <td>-1.992882e-08</td>\n",
       "      <td>-0.004670</td>\n",
       "    </tr>\n",
       "    <tr>\n",
       "      <th>4</th>\n",
       "      <td>1.365944e-02</td>\n",
       "      <td>0.003704</td>\n",
       "      <td>-3.897955e-03</td>\n",
       "      <td>0.000132</td>\n",
       "      <td>-1.376878e-03</td>\n",
       "      <td>0.001962</td>\n",
       "      <td>1.631410e-06</td>\n",
       "      <td>0.001018</td>\n",
       "    </tr>\n",
       "    <tr>\n",
       "      <th>5</th>\n",
       "      <td>-1.022860e-02</td>\n",
       "      <td>0.018417</td>\n",
       "      <td>8.856259e-04</td>\n",
       "      <td>-0.002052</td>\n",
       "      <td>3.053225e-03</td>\n",
       "      <td>0.016211</td>\n",
       "      <td>2.512490e-03</td>\n",
       "      <td>-0.028754</td>\n",
       "    </tr>\n",
       "    <tr>\n",
       "      <th>6</th>\n",
       "      <td>7.175745e-10</td>\n",
       "      <td>-0.004217</td>\n",
       "      <td>3.219865e-10</td>\n",
       "      <td>-0.002202</td>\n",
       "      <td>-9.955603e-10</td>\n",
       "      <td>0.004812</td>\n",
       "      <td>-3.512287e-10</td>\n",
       "      <td>0.001652</td>\n",
       "    </tr>\n",
       "  </tbody>\n",
       "</table>\n",
       "</div>"
      ],
      "text/plain": [
       "              0         1             2         3             4         5  \\\n",
       "0  1.008811e-01 -0.058764  3.926671e-01  0.064936  5.415082e-02 -0.974163   \n",
       "1 -6.355319e-06  0.169309 -1.155217e-06 -0.528930  2.968540e-05  0.570227   \n",
       "2 -1.707999e-03 -0.018022  1.627514e-02 -0.000004 -1.302518e-03 -0.008990   \n",
       "3 -7.270611e-08  0.000476 -1.321593e-08 -0.000045 -4.562832e-07  0.004284   \n",
       "4  1.365944e-02  0.003704 -3.897955e-03  0.000132 -1.376878e-03  0.001962   \n",
       "5 -1.022860e-02  0.018417  8.856259e-04 -0.002052  3.053225e-03  0.016211   \n",
       "6  7.175745e-10 -0.004217  3.219865e-10 -0.002202 -9.955603e-10  0.004812   \n",
       "\n",
       "              6         7  \n",
       "0  1.341143e-01  0.811697  \n",
       "1 -1.741989e-06  0.318313  \n",
       "2 -2.748539e-03  0.016662  \n",
       "3 -1.992882e-08 -0.004670  \n",
       "4  1.631410e-06  0.001018  \n",
       "5  2.512490e-03 -0.028754  \n",
       "6 -3.512287e-10  0.001652  "
      ]
     },
     "execution_count": 32,
     "metadata": {},
     "output_type": "execute_result"
    }
   ],
   "source": [
    "Scores"
   ]
  },
  {
   "cell_type": "code",
   "execution_count": 33,
   "metadata": {},
   "outputs": [
    {
     "data": {
      "image/png": "[encoded data removed]",
      "text/plain": [
       "<Figure size 432x288 with 1 Axes>"
      ]
     },
     "metadata": {
      "needs_background": "light"
     },
     "output_type": "display_data"
    },
    {
     "data": {
      "image/png": "[encoded data removed]",
      "text/plain": [
       "<Figure size 432x288 with 1 Axes>"
      ]
     },
     "metadata": {
      "needs_background": "light"
     },
     "output_type": "display_data"
    },
    {
     "data": {
      "image/png": "[encoded data removed]",
      "text/plain": [
       "<Figure size 432x288 with 1 Axes>"
      ]
     },
     "metadata": {
      "needs_background": "light"
     },
     "output_type": "display_data"
    },
    {
     "data": {
      "image/png": "[encoded data removed]",
      "text/plain": [
       "<Figure size 432x288 with 1 Axes>"
      ]
     },
     "metadata": {
      "needs_background": "light"
     },
     "output_type": "display_data"
    },
    {
     "data": {
      "image/png": "[encoded data removed]",
      "text/plain": [
       "<Figure size 432x288 with 1 Axes>"
      ]
     },
     "metadata": {
      "needs_background": "light"
     },
     "output_type": "display_data"
    },
    {
     "data": {
      "image/png": "[encoded data removed]",
      "text/plain": [
       "<Figure size 432x288 with 1 Axes>"
      ]
     },
     "metadata": {
      "needs_background": "light"
     },
     "output_type": "display_data"
    },
    {
     "data": {
      "image/png": "[encoded data removed]",
      "text/plain": [
       "<Figure size 432x288 with 1 Axes>"
      ]
     },
     "metadata": {
      "needs_background": "light"
     },
     "output_type": "display_data"
    },
    {
     "data": {
      "text/plain": [
       "'\\nplt.bar(x, abs(np.reshape(feature_output2[ind][0:features], (1,features))[0]), 1, color=\"blue\")\\nplt.xlabel(\"Input Layerwise Propagation Score Example \" + str(ind))\\nplt.ylabel(\"\")\\nplt.show()\\n\\nplt.bar(x, abs(np.reshape(feature_output2[ind][features:(2*features)], (1,features))[0]), 1, color=\"blue\")\\nplt.xlabel(\"Ridge Layerwise Propagation Score Example \" + str(ind))\\nplt.ylabel(\"Weight value\")\\nplt.show()\\n\\nplt.bar(x, abs(np.reshape(feature_output2[ind][2*features:(3*features)], (1,features))[0]), 1, color=\"blue\")\\nplt.xlabel(\"Deep Lift Input Score Example \" + str(ind))\\nplt.ylabel(\"Weight value\")\\nplt.show()\\n\\n\\nplt.bar(x, abs(np.reshape(feature_output2[ind][3*features:(4*features)], (1,features))[0]), 1, color=\"blue\")\\nplt.xlabel(\"Deep Lift Ridge Score Example \" + str(ind))\\nplt.ylabel(\"Weight value\")\\nplt.show()\\n      \\nplt.bar(x, abs(np.reshape(layerwise_average_input, (1,features))[0]), 1, color=\"blue\")\\nplt.xlabel(\"Input Layerwise Propagation Score Average\")\\nplt.ylabel(\"\")\\nplt.show()\\n\\nplt.bar(x, abs(np.reshape(layerwise_average_ridge, (1,features))[0]), 1, color=\"blue\")\\nplt.xlabel(\"Ridge Layerwise Propagation Score Average\")\\nplt.ylabel(\"Weight value\")\\nplt.show()\\n\\n\\nplt.bar(x, abs(np.reshape(layerwise_average_input2, (1,features))[0]), 1, color=\"blue\")\\nplt.xlabel(\"Input Layerwise Propagation Score Average 2\")\\nplt.ylabel(\"\")\\nplt.show()\\n\\nplt.bar(x, abs(np.reshape(layerwise_average_ridge2, (1,features))[0]), 1, color=\"blue\")\\nplt.xlabel(\"Ridge Layerwise Propagation Score Average 2\")\\nplt.ylabel(\"Weight value\")\\nplt.show()\\n'"
      ]
     },
     "execution_count": 33,
     "metadata": {},
     "output_type": "execute_result"
    }
   ],
   "source": [
    "# Print the scores\n",
    "x = list(map(lambda x: 'x' + str(x+1), range(Scores.shape[1])))\n",
    "\n",
    "titles = [\"layerwise average input\", \"layerwise average ridge\",\n",
    "          \"layerwise average input 2\", \"layerwise average ridge 2\",\n",
    "          \"shap input\", \"deep lift input\", \"deep lift ridge\"]\n",
    "\n",
    "for ind in range(len(Scores)):\n",
    "    plt.bar(x, Scores.iloc[ind,:], 1, color=\"blue\")\n",
    "    plt.xlabel(titles[ind])\n",
    "    plt.ylabel(\"\")\n",
    "    plt.show()\n",
    "\"\"\"\n",
    "plt.bar(x, abs(np.reshape(feature_output2[ind][0:features], (1,features))[0]), 1, color=\"blue\")\n",
    "plt.xlabel(\"Input Layerwise Propagation Score Example \" + str(ind))\n",
    "plt.ylabel(\"\")\n",
    "plt.show()\n",
    "\n",
    "plt.bar(x, abs(np.reshape(feature_output2[ind][features:(2*features)], (1,features))[0]), 1, color=\"blue\")\n",
    "plt.xlabel(\"Ridge Layerwise Propagation Score Example \" + str(ind))\n",
    "plt.ylabel(\"Weight value\")\n",
    "plt.show()\n",
    "\n",
    "plt.bar(x, abs(np.reshape(feature_output2[ind][2*features:(3*features)], (1,features))[0]), 1, color=\"blue\")\n",
    "plt.xlabel(\"Deep Lift Input Score Example \" + str(ind))\n",
    "plt.ylabel(\"Weight value\")\n",
    "plt.show()\n",
    "\n",
    "\n",
    "plt.bar(x, abs(np.reshape(feature_output2[ind][3*features:(4*features)], (1,features))[0]), 1, color=\"blue\")\n",
    "plt.xlabel(\"Deep Lift Ridge Score Example \" + str(ind))\n",
    "plt.ylabel(\"Weight value\")\n",
    "plt.show()\n",
    "      \n",
    "plt.bar(x, abs(np.reshape(layerwise_average_input, (1,features))[0]), 1, color=\"blue\")\n",
    "plt.xlabel(\"Input Layerwise Propagation Score Average\")\n",
    "plt.ylabel(\"\")\n",
    "plt.show()\n",
    "\n",
    "plt.bar(x, abs(np.reshape(layerwise_average_ridge, (1,features))[0]), 1, color=\"blue\")\n",
    "plt.xlabel(\"Ridge Layerwise Propagation Score Average\")\n",
    "plt.ylabel(\"Weight value\")\n",
    "plt.show()\n",
    "\n",
    "\n",
    "plt.bar(x, abs(np.reshape(layerwise_average_input2, (1,features))[0]), 1, color=\"blue\")\n",
    "plt.xlabel(\"Input Layerwise Propagation Score Average 2\")\n",
    "plt.ylabel(\"\")\n",
    "plt.show()\n",
    "\n",
    "plt.bar(x, abs(np.reshape(layerwise_average_ridge2, (1,features))[0]), 1, color=\"blue\")\n",
    "plt.xlabel(\"Ridge Layerwise Propagation Score Average 2\")\n",
    "plt.ylabel(\"Weight value\")\n",
    "plt.show()\n",
    "\"\"\""
   ]
  },
  {
   "cell_type": "code",
   "execution_count": 34,
   "metadata": {},
   "outputs": [
    {
     "data": {
      "image/png": "[encoded data removed]",
      "text/plain": [
       "<Figure size 432x288 with 1 Axes>"
      ]
     },
     "metadata": {
      "needs_background": "light"
     },
     "output_type": "display_data"
    },
    {
     "data": {
      "image/png": "[encoded data removed]",
      "text/plain": [
       "<Figure size 432x288 with 1 Axes>"
      ]
     },
     "metadata": {
      "needs_background": "light"
     },
     "output_type": "display_data"
    },
    {
     "data": {
      "image/png": "[encoded data removed]",
      "text/plain": [
       "<Figure size 432x288 with 1 Axes>"
      ]
     },
     "metadata": {
      "needs_background": "light"
     },
     "output_type": "display_data"
    },
    {
     "data": {
      "image/png": "[encoded data removed]",
      "text/plain": [
       "<Figure size 432x288 with 1 Axes>"
      ]
     },
     "metadata": {
      "needs_background": "light"
     },
     "output_type": "display_data"
    },
    {
     "data": {
      "image/png": "[encoded data removed]",
      "text/plain": [
       "<Figure size 432x288 with 1 Axes>"
      ]
     },
     "metadata": {
      "needs_background": "light"
     },
     "output_type": "display_data"
    },
    {
     "data": {
      "image/png": "[encoded data removed]",
      "text/plain": [
       "<Figure size 432x288 with 1 Axes>"
      ]
     },
     "metadata": {
      "needs_background": "light"
     },
     "output_type": "display_data"
    },
    {
     "data": {
      "image/png": "[encoded data removed]",
      "text/plain": [
       "<Figure size 432x288 with 1 Axes>"
      ]
     },
     "metadata": {
      "needs_background": "light"
     },
     "output_type": "display_data"
    },
    {
     "data": {
      "image/png": "[encoded data removed]",
      "text/plain": [
       "<Figure size 432x288 with 1 Axes>"
      ]
     },
     "metadata": {
      "needs_background": "light"
     },
     "output_type": "display_data"
    }
   ],
   "source": [
    "# Print the scores\n",
    "x = list(map(lambda x: 'x' + str(x+1), range(Scores.shape[1])))\n",
    "\n",
    "titles = [\"Projection Layer \" + str(ii) for ii in range(Scores.shape[1])]\n",
    "\n",
    "for ind in range(len(WP)):\n",
    "    plt.bar(x, WP.iloc[ind,:], 1, color=\"blue\")\n",
    "    plt.xlabel(titles[ind])\n",
    "    plt.ylabel(\"\")\n",
    "    plt.show()"
   ]
  },
  {
   "cell_type": "code",
   "execution_count": 35,
   "metadata": {},
   "outputs": [
    {
     "data": {
      "text/html": [
       "<div>\n",
       "<style scoped>\n",
       "    .dataframe tbody tr th:only-of-type {\n",
       "        vertical-align: middle;\n",
       "    }\n",
       "\n",
       "    .dataframe tbody tr th {\n",
       "        vertical-align: top;\n",
       "    }\n",
       "\n",
       "    .dataframe thead th {\n",
       "        text-align: right;\n",
       "    }\n",
       "</style>\n",
       "<table border=\"1\" class=\"dataframe\">\n",
       "  <thead>\n",
       "    <tr style=\"text-align: right;\">\n",
       "      <th></th>\n",
       "      <th>loan_amount</th>\n",
       "      <th>loan_to_value_ratio</th>\n",
       "      <th>high_priced</th>\n",
       "      <th>discount_points</th>\n",
       "      <th>lender_credits</th>\n",
       "      <th>loan_term</th>\n",
       "      <th>prepayment_penalty_term</th>\n",
       "      <th>intro_rate_period</th>\n",
       "      <th>property_value</th>\n",
       "      <th>income</th>\n",
       "      <th>...</th>\n",
       "      <th>debt_to_income_ratio_Exempt.1</th>\n",
       "      <th>loan_amount_std</th>\n",
       "      <th>loan_to_value_ratio_std</th>\n",
       "      <th>discount_points_std</th>\n",
       "      <th>lender_credits_std</th>\n",
       "      <th>loan_term_std</th>\n",
       "      <th>prepayment_penalty_term_std</th>\n",
       "      <th>intro_rate_period_std</th>\n",
       "      <th>property_value_std</th>\n",
       "      <th>income_std</th>\n",
       "    </tr>\n",
       "  </thead>\n",
       "  <tbody>\n",
       "    <tr>\n",
       "      <th>0</th>\n",
       "      <td>75000</td>\n",
       "      <td>95.000</td>\n",
       "      <td>0</td>\n",
       "      <td>1068.75</td>\n",
       "      <td>-1.0</td>\n",
       "      <td>360.0</td>\n",
       "      <td>-1.0</td>\n",
       "      <td>-1.0</td>\n",
       "      <td>75000.0</td>\n",
       "      <td>33.0</td>\n",
       "      <td>...</td>\n",
       "      <td>0</td>\n",
       "      <td>-0.860031</td>\n",
       "      <td>0.002212</td>\n",
       "      <td>0.359428</td>\n",
       "      <td>-0.306342</td>\n",
       "      <td>0.249762</td>\n",
       "      <td>-0.017041</td>\n",
       "      <td>-0.220705</td>\n",
       "      <td>-0.095474</td>\n",
       "      <td>-0.065176</td>\n",
       "    </tr>\n",
       "    <tr>\n",
       "      <th>1</th>\n",
       "      <td>545000</td>\n",
       "      <td>100.000</td>\n",
       "      <td>0</td>\n",
       "      <td>-1.00</td>\n",
       "      <td>-1.0</td>\n",
       "      <td>360.0</td>\n",
       "      <td>-1.0</td>\n",
       "      <td>-1.0</td>\n",
       "      <td>545000.0</td>\n",
       "      <td>298.0</td>\n",
       "      <td>...</td>\n",
       "      <td>0</td>\n",
       "      <td>1.153864</td>\n",
       "      <td>0.005063</td>\n",
       "      <td>-0.353662</td>\n",
       "      <td>-0.306342</td>\n",
       "      <td>0.249762</td>\n",
       "      <td>-0.017041</td>\n",
       "      <td>-0.220705</td>\n",
       "      <td>0.059397</td>\n",
       "      <td>0.117048</td>\n",
       "    </tr>\n",
       "    <tr>\n",
       "      <th>2</th>\n",
       "      <td>345000</td>\n",
       "      <td>68.082</td>\n",
       "      <td>0</td>\n",
       "      <td>-1.00</td>\n",
       "      <td>1735.0</td>\n",
       "      <td>360.0</td>\n",
       "      <td>-1.0</td>\n",
       "      <td>-1.0</td>\n",
       "      <td>515000.0</td>\n",
       "      <td>78.0</td>\n",
       "      <td>...</td>\n",
       "      <td>0</td>\n",
       "      <td>0.296887</td>\n",
       "      <td>-0.013136</td>\n",
       "      <td>-0.353662</td>\n",
       "      <td>1.159204</td>\n",
       "      <td>0.249762</td>\n",
       "      <td>-0.017041</td>\n",
       "      <td>-0.220705</td>\n",
       "      <td>0.049512</td>\n",
       "      <td>-0.034232</td>\n",
       "    </tr>\n",
       "    <tr>\n",
       "      <th>3</th>\n",
       "      <td>265000</td>\n",
       "      <td>100.000</td>\n",
       "      <td>0</td>\n",
       "      <td>2873.67</td>\n",
       "      <td>-1.0</td>\n",
       "      <td>360.0</td>\n",
       "      <td>-1.0</td>\n",
       "      <td>-1.0</td>\n",
       "      <td>265000.0</td>\n",
       "      <td>181.0</td>\n",
       "      <td>...</td>\n",
       "      <td>0</td>\n",
       "      <td>-0.045904</td>\n",
       "      <td>0.005063</td>\n",
       "      <td>1.562577</td>\n",
       "      <td>-0.306342</td>\n",
       "      <td>0.249762</td>\n",
       "      <td>-0.017041</td>\n",
       "      <td>-0.220705</td>\n",
       "      <td>-0.032866</td>\n",
       "      <td>0.036594</td>\n",
       "    </tr>\n",
       "  </tbody>\n",
       "</table>\n",
       "<p>4 rows × 151 columns</p>\n",
       "</div>"
      ],
      "text/plain": [
       "   loan_amount  loan_to_value_ratio  high_priced  discount_points  \\\n",
       "0        75000               95.000            0          1068.75   \n",
       "1       545000              100.000            0            -1.00   \n",
       "2       345000               68.082            0            -1.00   \n",
       "3       265000              100.000            0          2873.67   \n",
       "\n",
       "   lender_credits  loan_term  prepayment_penalty_term  intro_rate_period  \\\n",
       "0            -1.0      360.0                     -1.0               -1.0   \n",
       "1            -1.0      360.0                     -1.0               -1.0   \n",
       "2          1735.0      360.0                     -1.0               -1.0   \n",
       "3            -1.0      360.0                     -1.0               -1.0   \n",
       "\n",
       "   property_value  income  ...  debt_to_income_ratio_Exempt.1  \\\n",
       "0         75000.0    33.0  ...                              0   \n",
       "1        545000.0   298.0  ...                              0   \n",
       "2        515000.0    78.0  ...                              0   \n",
       "3        265000.0   181.0  ...                              0   \n",
       "\n",
       "   loan_amount_std  loan_to_value_ratio_std  discount_points_std  \\\n",
       "0        -0.860031                 0.002212             0.359428   \n",
       "1         1.153864                 0.005063            -0.353662   \n",
       "2         0.296887                -0.013136            -0.353662   \n",
       "3        -0.045904                 0.005063             1.562577   \n",
       "\n",
       "   lender_credits_std  loan_term_std  prepayment_penalty_term_std  \\\n",
       "0           -0.306342       0.249762                    -0.017041   \n",
       "1           -0.306342       0.249762                    -0.017041   \n",
       "2            1.159204       0.249762                    -0.017041   \n",
       "3           -0.306342       0.249762                    -0.017041   \n",
       "\n",
       "   intro_rate_period_std  property_value_std  income_std  \n",
       "0              -0.220705           -0.095474   -0.065176  \n",
       "1              -0.220705            0.059397    0.117048  \n",
       "2              -0.220705            0.049512   -0.034232  \n",
       "3              -0.220705           -0.032866    0.036594  \n",
       "\n",
       "[4 rows x 151 columns]"
      ]
     },
     "execution_count": 35,
     "metadata": {},
     "output_type": "execute_result"
    }
   ],
   "source": [
    "TEST.iloc[0:4,]"
   ]
  },
  {
   "cell_type": "code",
   "execution_count": 36,
   "metadata": {},
   "outputs": [
    {
     "data": {
      "text/html": [
       "<div>\n",
       "<style scoped>\n",
       "    .dataframe tbody tr th:only-of-type {\n",
       "        vertical-align: middle;\n",
       "    }\n",
       "\n",
       "    .dataframe tbody tr th {\n",
       "        vertical-align: top;\n",
       "    }\n",
       "\n",
       "    .dataframe thead th {\n",
       "        text-align: right;\n",
       "    }\n",
       "</style>\n",
       "<table border=\"1\" class=\"dataframe\">\n",
       "  <thead>\n",
       "    <tr style=\"text-align: right;\">\n",
       "      <th></th>\n",
       "      <th>0</th>\n",
       "      <th>1</th>\n",
       "      <th>2</th>\n",
       "      <th>3</th>\n",
       "      <th>4</th>\n",
       "      <th>5</th>\n",
       "      <th>6</th>\n",
       "      <th>7</th>\n",
       "      <th>8</th>\n",
       "      <th>9</th>\n",
       "    </tr>\n",
       "  </thead>\n",
       "  <tbody>\n",
       "    <tr>\n",
       "      <th>0</th>\n",
       "      <td>0.228528</td>\n",
       "      <td>0.010942</td>\n",
       "      <td>0.153826</td>\n",
       "      <td>-0.037796</td>\n",
       "      <td>-0.014946</td>\n",
       "      <td>0.004805</td>\n",
       "      <td>0.007254</td>\n",
       "      <td>0.001238</td>\n",
       "      <td>0.001878</td>\n",
       "      <td>0.101328</td>\n",
       "    </tr>\n",
       "    <tr>\n",
       "      <th>1</th>\n",
       "      <td>0.032335</td>\n",
       "      <td>0.001416</td>\n",
       "      <td>-0.001231</td>\n",
       "      <td>-0.074274</td>\n",
       "      <td>0.014774</td>\n",
       "      <td>-0.007254</td>\n",
       "      <td>0.000526</td>\n",
       "      <td>-0.000810</td>\n",
       "      <td>-0.002140</td>\n",
       "      <td>0.101328</td>\n",
       "    </tr>\n",
       "    <tr>\n",
       "      <th>2</th>\n",
       "      <td>0.007366</td>\n",
       "      <td>-0.062020</td>\n",
       "      <td>-0.017036</td>\n",
       "      <td>-0.007004</td>\n",
       "      <td>0.000028</td>\n",
       "      <td>-0.002800</td>\n",
       "      <td>-0.001572</td>\n",
       "      <td>-0.000445</td>\n",
       "      <td>-0.003113</td>\n",
       "      <td>0.101328</td>\n",
       "    </tr>\n",
       "    <tr>\n",
       "      <th>3</th>\n",
       "      <td>0.131797</td>\n",
       "      <td>0.006096</td>\n",
       "      <td>0.004534</td>\n",
       "      <td>-0.017097</td>\n",
       "      <td>0.013325</td>\n",
       "      <td>0.018701</td>\n",
       "      <td>0.005219</td>\n",
       "      <td>-0.000374</td>\n",
       "      <td>0.000065</td>\n",
       "      <td>0.101328</td>\n",
       "    </tr>\n",
       "  </tbody>\n",
       "</table>\n",
       "</div>"
      ],
      "text/plain": [
       "          0         1         2         3         4         5         6  \\\n",
       "0  0.228528  0.010942  0.153826 -0.037796 -0.014946  0.004805  0.007254   \n",
       "1  0.032335  0.001416 -0.001231 -0.074274  0.014774 -0.007254  0.000526   \n",
       "2  0.007366 -0.062020 -0.017036 -0.007004  0.000028 -0.002800 -0.001572   \n",
       "3  0.131797  0.006096  0.004534 -0.017097  0.013325  0.018701  0.005219   \n",
       "\n",
       "          7         8         9  \n",
       "0  0.001238  0.001878  0.101328  \n",
       "1 -0.000810 -0.002140  0.101328  \n",
       "2 -0.000445 -0.003113  0.101328  \n",
       "3 -0.000374  0.000065  0.101328  "
      ]
     },
     "execution_count": 36,
     "metadata": {},
     "output_type": "execute_result"
    }
   ],
   "source": [
    "PREDS.iloc[0:4,]"
   ]
  },
  {
   "cell_type": "code",
   "execution_count": 37,
   "metadata": {},
   "outputs": [
    {
     "data": {
      "text/plain": [
       "0.0"
      ]
     },
     "execution_count": 37,
     "metadata": {},
     "output_type": "execute_result"
    }
   ],
   "source": [
    "min(PREDS.iloc[:,0])"
   ]
  },
  {
   "cell_type": "code",
   "execution_count": 39,
   "metadata": {},
   "outputs": [
    {
     "name": "stdout",
     "output_type": "stream",
     "text": [
      "0.27844341133921857\n"
     ]
    }
   ],
   "source": [
    "from sklearn.metrics import log_loss\n",
    "\n",
    "LL = log_loss(TEST[\"high_priced\"], PREDS.iloc[:,0])\n",
    "\n",
    "print(LL)"
   ]
  },
  {
   "cell_type": "code",
   "execution_count": 40,
   "metadata": {},
   "outputs": [
    {
     "data": {
      "text/html": [
       "<div>\n",
       "<style scoped>\n",
       "    .dataframe tbody tr th:only-of-type {\n",
       "        vertical-align: middle;\n",
       "    }\n",
       "\n",
       "    .dataframe tbody tr th {\n",
       "        vertical-align: top;\n",
       "    }\n",
       "\n",
       "    .dataframe thead th {\n",
       "        text-align: right;\n",
       "    }\n",
       "</style>\n",
       "<table border=\"1\" class=\"dataframe\">\n",
       "  <thead>\n",
       "    <tr style=\"text-align: right;\">\n",
       "      <th></th>\n",
       "      <th>loan_amount</th>\n",
       "      <th>loan_to_value_ratio</th>\n",
       "      <th>high_priced</th>\n",
       "      <th>discount_points</th>\n",
       "      <th>lender_credits</th>\n",
       "      <th>loan_term</th>\n",
       "      <th>prepayment_penalty_term</th>\n",
       "      <th>intro_rate_period</th>\n",
       "      <th>property_value</th>\n",
       "      <th>income</th>\n",
       "      <th>...</th>\n",
       "      <th>debt_to_income_ratio_Exempt.1</th>\n",
       "      <th>loan_amount_std</th>\n",
       "      <th>loan_to_value_ratio_std</th>\n",
       "      <th>discount_points_std</th>\n",
       "      <th>lender_credits_std</th>\n",
       "      <th>loan_term_std</th>\n",
       "      <th>prepayment_penalty_term_std</th>\n",
       "      <th>intro_rate_period_std</th>\n",
       "      <th>property_value_std</th>\n",
       "      <th>income_std</th>\n",
       "    </tr>\n",
       "  </thead>\n",
       "  <tbody>\n",
       "    <tr>\n",
       "      <th>0</th>\n",
       "      <td>75000</td>\n",
       "      <td>95.000</td>\n",
       "      <td>0</td>\n",
       "      <td>1068.75</td>\n",
       "      <td>-1.00</td>\n",
       "      <td>360.0</td>\n",
       "      <td>-1.0</td>\n",
       "      <td>-1.0</td>\n",
       "      <td>75000.0</td>\n",
       "      <td>33.0</td>\n",
       "      <td>...</td>\n",
       "      <td>0</td>\n",
       "      <td>-0.860031</td>\n",
       "      <td>0.002212</td>\n",
       "      <td>0.359428</td>\n",
       "      <td>-0.306342</td>\n",
       "      <td>0.249762</td>\n",
       "      <td>-0.017041</td>\n",
       "      <td>-0.220705</td>\n",
       "      <td>-0.095474</td>\n",
       "      <td>-0.065176</td>\n",
       "    </tr>\n",
       "    <tr>\n",
       "      <th>1</th>\n",
       "      <td>545000</td>\n",
       "      <td>100.000</td>\n",
       "      <td>0</td>\n",
       "      <td>-1.00</td>\n",
       "      <td>-1.00</td>\n",
       "      <td>360.0</td>\n",
       "      <td>-1.0</td>\n",
       "      <td>-1.0</td>\n",
       "      <td>545000.0</td>\n",
       "      <td>298.0</td>\n",
       "      <td>...</td>\n",
       "      <td>0</td>\n",
       "      <td>1.153864</td>\n",
       "      <td>0.005063</td>\n",
       "      <td>-0.353662</td>\n",
       "      <td>-0.306342</td>\n",
       "      <td>0.249762</td>\n",
       "      <td>-0.017041</td>\n",
       "      <td>-0.220705</td>\n",
       "      <td>0.059397</td>\n",
       "      <td>0.117048</td>\n",
       "    </tr>\n",
       "    <tr>\n",
       "      <th>2</th>\n",
       "      <td>345000</td>\n",
       "      <td>68.082</td>\n",
       "      <td>0</td>\n",
       "      <td>-1.00</td>\n",
       "      <td>1735.00</td>\n",
       "      <td>360.0</td>\n",
       "      <td>-1.0</td>\n",
       "      <td>-1.0</td>\n",
       "      <td>515000.0</td>\n",
       "      <td>78.0</td>\n",
       "      <td>...</td>\n",
       "      <td>0</td>\n",
       "      <td>0.296887</td>\n",
       "      <td>-0.013136</td>\n",
       "      <td>-0.353662</td>\n",
       "      <td>1.159204</td>\n",
       "      <td>0.249762</td>\n",
       "      <td>-0.017041</td>\n",
       "      <td>-0.220705</td>\n",
       "      <td>0.049512</td>\n",
       "      <td>-0.034232</td>\n",
       "    </tr>\n",
       "    <tr>\n",
       "      <th>3</th>\n",
       "      <td>265000</td>\n",
       "      <td>100.000</td>\n",
       "      <td>0</td>\n",
       "      <td>2873.67</td>\n",
       "      <td>-1.00</td>\n",
       "      <td>360.0</td>\n",
       "      <td>-1.0</td>\n",
       "      <td>-1.0</td>\n",
       "      <td>265000.0</td>\n",
       "      <td>181.0</td>\n",
       "      <td>...</td>\n",
       "      <td>0</td>\n",
       "      <td>-0.045904</td>\n",
       "      <td>0.005063</td>\n",
       "      <td>1.562577</td>\n",
       "      <td>-0.306342</td>\n",
       "      <td>0.249762</td>\n",
       "      <td>-0.017041</td>\n",
       "      <td>-0.220705</td>\n",
       "      <td>-0.032866</td>\n",
       "      <td>0.036594</td>\n",
       "    </tr>\n",
       "    <tr>\n",
       "      <th>4</th>\n",
       "      <td>185000</td>\n",
       "      <td>95.000</td>\n",
       "      <td>0</td>\n",
       "      <td>-1.00</td>\n",
       "      <td>42.50</td>\n",
       "      <td>360.0</td>\n",
       "      <td>-1.0</td>\n",
       "      <td>-1.0</td>\n",
       "      <td>195000.0</td>\n",
       "      <td>194.0</td>\n",
       "      <td>...</td>\n",
       "      <td>0</td>\n",
       "      <td>-0.388694</td>\n",
       "      <td>0.002212</td>\n",
       "      <td>-0.353662</td>\n",
       "      <td>-0.269619</td>\n",
       "      <td>0.249762</td>\n",
       "      <td>-0.017041</td>\n",
       "      <td>-0.220705</td>\n",
       "      <td>-0.055932</td>\n",
       "      <td>0.045534</td>\n",
       "    </tr>\n",
       "    <tr>\n",
       "      <th>5</th>\n",
       "      <td>105000</td>\n",
       "      <td>95.000</td>\n",
       "      <td>0</td>\n",
       "      <td>-1.00</td>\n",
       "      <td>399.00</td>\n",
       "      <td>360.0</td>\n",
       "      <td>-1.0</td>\n",
       "      <td>-1.0</td>\n",
       "      <td>115000.0</td>\n",
       "      <td>79.0</td>\n",
       "      <td>...</td>\n",
       "      <td>0</td>\n",
       "      <td>-0.731485</td>\n",
       "      <td>0.002212</td>\n",
       "      <td>-0.353662</td>\n",
       "      <td>0.031341</td>\n",
       "      <td>0.249762</td>\n",
       "      <td>-0.017041</td>\n",
       "      <td>-0.220705</td>\n",
       "      <td>-0.082293</td>\n",
       "      <td>-0.033545</td>\n",
       "    </tr>\n",
       "    <tr>\n",
       "      <th>6</th>\n",
       "      <td>315000</td>\n",
       "      <td>60.000</td>\n",
       "      <td>0</td>\n",
       "      <td>-1.00</td>\n",
       "      <td>-1.00</td>\n",
       "      <td>180.0</td>\n",
       "      <td>-1.0</td>\n",
       "      <td>-1.0</td>\n",
       "      <td>515000.0</td>\n",
       "      <td>167.0</td>\n",
       "      <td>...</td>\n",
       "      <td>0</td>\n",
       "      <td>0.168341</td>\n",
       "      <td>-0.017745</td>\n",
       "      <td>-0.353662</td>\n",
       "      <td>-0.306342</td>\n",
       "      <td>-3.458163</td>\n",
       "      <td>-0.017041</td>\n",
       "      <td>-0.220705</td>\n",
       "      <td>0.049512</td>\n",
       "      <td>0.026967</td>\n",
       "    </tr>\n",
       "    <tr>\n",
       "      <th>7</th>\n",
       "      <td>325000</td>\n",
       "      <td>55.036</td>\n",
       "      <td>0</td>\n",
       "      <td>9047.50</td>\n",
       "      <td>-1.00</td>\n",
       "      <td>360.0</td>\n",
       "      <td>-1.0</td>\n",
       "      <td>-1.0</td>\n",
       "      <td>595000.0</td>\n",
       "      <td>90.0</td>\n",
       "      <td>...</td>\n",
       "      <td>0</td>\n",
       "      <td>0.211189</td>\n",
       "      <td>-0.020575</td>\n",
       "      <td>5.678017</td>\n",
       "      <td>-0.306342</td>\n",
       "      <td>0.249762</td>\n",
       "      <td>-0.017041</td>\n",
       "      <td>-0.220705</td>\n",
       "      <td>0.075873</td>\n",
       "      <td>-0.025981</td>\n",
       "    </tr>\n",
       "    <tr>\n",
       "      <th>8</th>\n",
       "      <td>175000</td>\n",
       "      <td>79.817</td>\n",
       "      <td>0</td>\n",
       "      <td>6567.29</td>\n",
       "      <td>-1.00</td>\n",
       "      <td>360.0</td>\n",
       "      <td>-1.0</td>\n",
       "      <td>-1.0</td>\n",
       "      <td>225000.0</td>\n",
       "      <td>61.0</td>\n",
       "      <td>...</td>\n",
       "      <td>0</td>\n",
       "      <td>-0.431543</td>\n",
       "      <td>-0.006445</td>\n",
       "      <td>4.024723</td>\n",
       "      <td>-0.306342</td>\n",
       "      <td>0.249762</td>\n",
       "      <td>-0.017041</td>\n",
       "      <td>-0.220705</td>\n",
       "      <td>-0.046047</td>\n",
       "      <td>-0.045922</td>\n",
       "    </tr>\n",
       "    <tr>\n",
       "      <th>9</th>\n",
       "      <td>185000</td>\n",
       "      <td>95.000</td>\n",
       "      <td>1</td>\n",
       "      <td>-1.00</td>\n",
       "      <td>1389.38</td>\n",
       "      <td>360.0</td>\n",
       "      <td>-1.0</td>\n",
       "      <td>-1.0</td>\n",
       "      <td>195000.0</td>\n",
       "      <td>61.0</td>\n",
       "      <td>...</td>\n",
       "      <td>0</td>\n",
       "      <td>-0.388694</td>\n",
       "      <td>0.002212</td>\n",
       "      <td>-0.353662</td>\n",
       "      <td>0.867429</td>\n",
       "      <td>0.249762</td>\n",
       "      <td>-0.017041</td>\n",
       "      <td>-0.220705</td>\n",
       "      <td>-0.055932</td>\n",
       "      <td>-0.045922</td>\n",
       "    </tr>\n",
       "  </tbody>\n",
       "</table>\n",
       "<p>10 rows × 151 columns</p>\n",
       "</div>"
      ],
      "text/plain": [
       "   loan_amount  loan_to_value_ratio  high_priced  discount_points  \\\n",
       "0        75000               95.000            0          1068.75   \n",
       "1       545000              100.000            0            -1.00   \n",
       "2       345000               68.082            0            -1.00   \n",
       "3       265000              100.000            0          2873.67   \n",
       "4       185000               95.000            0            -1.00   \n",
       "5       105000               95.000            0            -1.00   \n",
       "6       315000               60.000            0            -1.00   \n",
       "7       325000               55.036            0          9047.50   \n",
       "8       175000               79.817            0          6567.29   \n",
       "9       185000               95.000            1            -1.00   \n",
       "\n",
       "   lender_credits  loan_term  prepayment_penalty_term  intro_rate_period  \\\n",
       "0           -1.00      360.0                     -1.0               -1.0   \n",
       "1           -1.00      360.0                     -1.0               -1.0   \n",
       "2         1735.00      360.0                     -1.0               -1.0   \n",
       "3           -1.00      360.0                     -1.0               -1.0   \n",
       "4           42.50      360.0                     -1.0               -1.0   \n",
       "5          399.00      360.0                     -1.0               -1.0   \n",
       "6           -1.00      180.0                     -1.0               -1.0   \n",
       "7           -1.00      360.0                     -1.0               -1.0   \n",
       "8           -1.00      360.0                     -1.0               -1.0   \n",
       "9         1389.38      360.0                     -1.0               -1.0   \n",
       "\n",
       "   property_value  income  ...  debt_to_income_ratio_Exempt.1  \\\n",
       "0         75000.0    33.0  ...                              0   \n",
       "1        545000.0   298.0  ...                              0   \n",
       "2        515000.0    78.0  ...                              0   \n",
       "3        265000.0   181.0  ...                              0   \n",
       "4        195000.0   194.0  ...                              0   \n",
       "5        115000.0    79.0  ...                              0   \n",
       "6        515000.0   167.0  ...                              0   \n",
       "7        595000.0    90.0  ...                              0   \n",
       "8        225000.0    61.0  ...                              0   \n",
       "9        195000.0    61.0  ...                              0   \n",
       "\n",
       "   loan_amount_std  loan_to_value_ratio_std  discount_points_std  \\\n",
       "0        -0.860031                 0.002212             0.359428   \n",
       "1         1.153864                 0.005063            -0.353662   \n",
       "2         0.296887                -0.013136            -0.353662   \n",
       "3        -0.045904                 0.005063             1.562577   \n",
       "4        -0.388694                 0.002212            -0.353662   \n",
       "5        -0.731485                 0.002212            -0.353662   \n",
       "6         0.168341                -0.017745            -0.353662   \n",
       "7         0.211189                -0.020575             5.678017   \n",
       "8        -0.431543                -0.006445             4.024723   \n",
       "9        -0.388694                 0.002212            -0.353662   \n",
       "\n",
       "   lender_credits_std  loan_term_std  prepayment_penalty_term_std  \\\n",
       "0           -0.306342       0.249762                    -0.017041   \n",
       "1           -0.306342       0.249762                    -0.017041   \n",
       "2            1.159204       0.249762                    -0.017041   \n",
       "3           -0.306342       0.249762                    -0.017041   \n",
       "4           -0.269619       0.249762                    -0.017041   \n",
       "5            0.031341       0.249762                    -0.017041   \n",
       "6           -0.306342      -3.458163                    -0.017041   \n",
       "7           -0.306342       0.249762                    -0.017041   \n",
       "8           -0.306342       0.249762                    -0.017041   \n",
       "9            0.867429       0.249762                    -0.017041   \n",
       "\n",
       "   intro_rate_period_std  property_value_std  income_std  \n",
       "0              -0.220705           -0.095474   -0.065176  \n",
       "1              -0.220705            0.059397    0.117048  \n",
       "2              -0.220705            0.049512   -0.034232  \n",
       "3              -0.220705           -0.032866    0.036594  \n",
       "4              -0.220705           -0.055932    0.045534  \n",
       "5              -0.220705           -0.082293   -0.033545  \n",
       "6              -0.220705            0.049512    0.026967  \n",
       "7              -0.220705            0.075873   -0.025981  \n",
       "8              -0.220705           -0.046047   -0.045922  \n",
       "9              -0.220705           -0.055932   -0.045922  \n",
       "\n",
       "[10 rows x 151 columns]"
      ]
     },
     "execution_count": 40,
     "metadata": {},
     "output_type": "execute_result"
    }
   ],
   "source": [
    "TEST.iloc[0:10,]"
   ]
  },
  {
   "cell_type": "code",
   "execution_count": null,
   "metadata": {},
   "outputs": [],
   "source": []
  },
  {
   "cell_type": "code",
   "execution_count": 41,
   "metadata": {},
   "outputs": [],
   "source": [
    "data_dir = '/Users/kmontgomery/Documents/information_article/'\n",
    "# /Users/kmontgomery/Documents/information_article/train_transformed.csv\n",
    "DATA=pd.read_csv(data_dir + 'train_transformed.csv')\n",
    "TEST=pd.read_csv(data_dir + 'test_transformed.csv')\n",
    "\n",
    "\n",
    "\n",
    "#DATA = DATA_full.iloc[0:int(.7*len(DATA_full)),].copy()\n",
    "#TEST = DATA_full.iloc[int(.7*len(DATA_full)):,].copy()\n",
    "\n",
    "#DATA = DATA_full.iloc[0:3000,].copy()\n",
    "#TEST = DATA_full.iloc[3000:6000,].copy()\n",
    "\n",
    "\n",
    "\n",
    "#selected_vars = [\"LIMIT_BAL\", \"SEX\", \"EDUCATION\", \"MARRIAGE\", \"AGE\", \"PAY_0\", \"PAY_2\", \"PAY_3\", \"PAY_4\"]                   \n",
    "#selected_vars += [\"PAY_5\", \"PAY_6\", \"BILL_AMT1\", \"BILL_AMT2\", \"BILL_AMT3\", \"BILL_AMT4\", \"BILL_AMT5\", \"BILL_AMT6\", \"PAY_AMT1\"]\n",
    "#selected_vars += [\"PAY_AMT2\", \"PAY_AMT3\", \"PAY_AMT4\", \"PAY_AMT5\", \"PAY_AMT6\"]\n",
    "\n",
    "selected_vars = ['loan_to_value_ratio_std', 'property_value_std', 'loan_amount_std']\n",
    "selected_vars += ['income_std', 'discount_points_std', 'intro_rate_period_std']\n",
    "selected_vars += ['lender_credits_std', 'loan_term_std']\n",
    "\n",
    "target_var = \"high_priced\"\n",
    "\n",
    "X=DATA[selected_vars]\n",
    "Y=DATA[target_var]\n",
    "#TEST_X = TEST[selected_vars].values\n",
    "#TEST_Y = TEST[\"default.payment.next.month\"].values\n",
    "#features = X.shape[1]"
   ]
  },
  {
   "cell_type": "code",
   "execution_count": 42,
   "metadata": {},
   "outputs": [
    {
     "name": "stderr",
     "output_type": "stream",
     "text": [
      "/Users/kmontgomery/anaconda3/lib/python3.7/site-packages/sklearn/linear_model/logistic.py:433: FutureWarning:\n",
      "\n",
      "Default solver will be changed to 'lbfgs' in 0.22. Specify a solver to silence this warning.\n",
      "\n"
     ]
    }
   ],
   "source": [
    "from sklearn.linear_model import LogisticRegression\n",
    "logisticRegr = LogisticRegression()\n",
    "clf=logisticRegr.fit(X, Y)\n",
    "LRP = clf.predict_proba(TEST[selected_vars])"
   ]
  },
  {
   "cell_type": "code",
   "execution_count": 43,
   "metadata": {},
   "outputs": [
    {
     "data": {
      "text/plain": [
       "array([[0.78244276, 0.21755724],\n",
       "       [0.96619853, 0.03380147],\n",
       "       [0.95233026, 0.04766974],\n",
       "       ...,\n",
       "       [0.93804154, 0.06195846],\n",
       "       [0.88251981, 0.11748019],\n",
       "       [0.87713097, 0.12286903]])"
      ]
     },
     "execution_count": 43,
     "metadata": {},
     "output_type": "execute_result"
    }
   ],
   "source": [
    "LRP"
   ]
  },
  {
   "cell_type": "code",
   "execution_count": 44,
   "metadata": {},
   "outputs": [],
   "source": [
    "LL = log_loss(TEST[target_var], LRP[:,1])"
   ]
  },
  {
   "cell_type": "code",
   "execution_count": 45,
   "metadata": {},
   "outputs": [
    {
     "data": {
      "text/plain": [
       "0.3251705444050469"
      ]
     },
     "execution_count": 45,
     "metadata": {},
     "output_type": "execute_result"
    }
   ],
   "source": [
    "LL"
   ]
  },
  {
   "cell_type": "code",
   "execution_count": null,
   "metadata": {},
   "outputs": [],
   "source": []
  },
  {
   "cell_type": "code",
   "execution_count": null,
   "metadata": {},
   "outputs": [],
   "source": []
  },
  {
   "cell_type": "code",
   "execution_count": null,
   "metadata": {},
   "outputs": [],
   "source": []
  },
  {
   "cell_type": "code",
   "execution_count": null,
   "metadata": {},
   "outputs": [],
   "source": []
  },
  {
   "cell_type": "code",
   "execution_count": null,
   "metadata": {},
   "outputs": [],
   "source": []
  }
 ],
 "metadata": {
  "kernelspec": {
   "display_name": "Python 3",
   "language": "python",
   "name": "python3"
  },
  "language_info": {
   "codemirror_mode": {
    "name": "ipython",
    "version": 3
   },
   "file_extension": ".py",
   "mimetype": "text/x-python",
   "name": "python",
   "nbconvert_exporter": "python",
   "pygments_lexer": "ipython3",
   "version": "3.5.2"
  }
 },
 "nbformat": 4,
 "nbformat_minor": 2
}
